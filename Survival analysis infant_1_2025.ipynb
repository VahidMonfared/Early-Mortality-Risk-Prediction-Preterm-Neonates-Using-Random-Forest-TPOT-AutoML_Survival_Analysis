{
  "nbformat": 4,
  "nbformat_minor": 0,
  "metadata": {
    "colab": {
      "provenance": [],
      "gpuType": "T4"
    },
    "kernelspec": {
      "name": "python3",
      "display_name": "Python 3"
    },
    "language_info": {
      "name": "python"
    },
    "accelerator": "GPU",
    "widgets": {
      "application/vnd.jupyter.widget-state+json": {
        "ca20f2e12522431d9040cb3ed9721218": {
          "model_module": "@jupyter-widgets/controls",
          "model_name": "HBoxModel",
          "model_module_version": "1.5.0",
          "state": {
            "_dom_classes": [],
            "_model_module": "@jupyter-widgets/controls",
            "_model_module_version": "1.5.0",
            "_model_name": "HBoxModel",
            "_view_count": null,
            "_view_module": "@jupyter-widgets/controls",
            "_view_module_version": "1.5.0",
            "_view_name": "HBoxView",
            "box_style": "",
            "children": [
              "IPY_MODEL_4a98e7de1edc43ee8bf86922c1792e85",
              "IPY_MODEL_ed5c4cb3fa3f4b4295e872117465ec44",
              "IPY_MODEL_9f2ea21b0c714303aa2a556431280e14"
            ],
            "layout": "IPY_MODEL_e082dc7de30e4eb3b585e5b92fedc2ff"
          }
        },
        "4a98e7de1edc43ee8bf86922c1792e85": {
          "model_module": "@jupyter-widgets/controls",
          "model_name": "HTMLModel",
          "model_module_version": "1.5.0",
          "state": {
            "_dom_classes": [],
            "_model_module": "@jupyter-widgets/controls",
            "_model_module_version": "1.5.0",
            "_model_name": "HTMLModel",
            "_view_count": null,
            "_view_module": "@jupyter-widgets/controls",
            "_view_module_version": "1.5.0",
            "_view_name": "HTMLView",
            "description": "",
            "description_tooltip": null,
            "layout": "IPY_MODEL_211f7238749841fd852e083b4e511d07",
            "placeholder": "​",
            "style": "IPY_MODEL_eacd199d7aab4d2b893bf63cf3ce7a4d",
            "value": "Optimization Progress: 100%"
          }
        },
        "ed5c4cb3fa3f4b4295e872117465ec44": {
          "model_module": "@jupyter-widgets/controls",
          "model_name": "FloatProgressModel",
          "model_module_version": "1.5.0",
          "state": {
            "_dom_classes": [],
            "_model_module": "@jupyter-widgets/controls",
            "_model_module_version": "1.5.0",
            "_model_name": "FloatProgressModel",
            "_view_count": null,
            "_view_module": "@jupyter-widgets/controls",
            "_view_module_version": "1.5.0",
            "_view_name": "ProgressView",
            "bar_style": "",
            "description": "",
            "description_tooltip": null,
            "layout": "IPY_MODEL_fd5bdff19f87472097038aa141ae494e",
            "max": 200,
            "min": 0,
            "orientation": "horizontal",
            "style": "IPY_MODEL_3bf8c11f1b794d6ebc85155e1b39f486",
            "value": 200
          }
        },
        "9f2ea21b0c714303aa2a556431280e14": {
          "model_module": "@jupyter-widgets/controls",
          "model_name": "HTMLModel",
          "model_module_version": "1.5.0",
          "state": {
            "_dom_classes": [],
            "_model_module": "@jupyter-widgets/controls",
            "_model_module_version": "1.5.0",
            "_model_name": "HTMLModel",
            "_view_count": null,
            "_view_module": "@jupyter-widgets/controls",
            "_view_module_version": "1.5.0",
            "_view_name": "HTMLView",
            "description": "",
            "description_tooltip": null,
            "layout": "IPY_MODEL_bc4a44d4621b45f6a9eec25e1b3004e9",
            "placeholder": "​",
            "style": "IPY_MODEL_de9a5e4002514f7bba8731ed30bef712",
            "value": " 200/200 [01:59&lt;00:00,  1.42pipeline/s]"
          }
        },
        "e082dc7de30e4eb3b585e5b92fedc2ff": {
          "model_module": "@jupyter-widgets/base",
          "model_name": "LayoutModel",
          "model_module_version": "1.2.0",
          "state": {
            "_model_module": "@jupyter-widgets/base",
            "_model_module_version": "1.2.0",
            "_model_name": "LayoutModel",
            "_view_count": null,
            "_view_module": "@jupyter-widgets/base",
            "_view_module_version": "1.2.0",
            "_view_name": "LayoutView",
            "align_content": null,
            "align_items": null,
            "align_self": null,
            "border": null,
            "bottom": null,
            "display": null,
            "flex": null,
            "flex_flow": null,
            "grid_area": null,
            "grid_auto_columns": null,
            "grid_auto_flow": null,
            "grid_auto_rows": null,
            "grid_column": null,
            "grid_gap": null,
            "grid_row": null,
            "grid_template_areas": null,
            "grid_template_columns": null,
            "grid_template_rows": null,
            "height": null,
            "justify_content": null,
            "justify_items": null,
            "left": null,
            "margin": null,
            "max_height": null,
            "max_width": null,
            "min_height": null,
            "min_width": null,
            "object_fit": null,
            "object_position": null,
            "order": null,
            "overflow": null,
            "overflow_x": null,
            "overflow_y": null,
            "padding": null,
            "right": null,
            "top": null,
            "visibility": "hidden",
            "width": null
          }
        },
        "211f7238749841fd852e083b4e511d07": {
          "model_module": "@jupyter-widgets/base",
          "model_name": "LayoutModel",
          "model_module_version": "1.2.0",
          "state": {
            "_model_module": "@jupyter-widgets/base",
            "_model_module_version": "1.2.0",
            "_model_name": "LayoutModel",
            "_view_count": null,
            "_view_module": "@jupyter-widgets/base",
            "_view_module_version": "1.2.0",
            "_view_name": "LayoutView",
            "align_content": null,
            "align_items": null,
            "align_self": null,
            "border": null,
            "bottom": null,
            "display": null,
            "flex": null,
            "flex_flow": null,
            "grid_area": null,
            "grid_auto_columns": null,
            "grid_auto_flow": null,
            "grid_auto_rows": null,
            "grid_column": null,
            "grid_gap": null,
            "grid_row": null,
            "grid_template_areas": null,
            "grid_template_columns": null,
            "grid_template_rows": null,
            "height": null,
            "justify_content": null,
            "justify_items": null,
            "left": null,
            "margin": null,
            "max_height": null,
            "max_width": null,
            "min_height": null,
            "min_width": null,
            "object_fit": null,
            "object_position": null,
            "order": null,
            "overflow": null,
            "overflow_x": null,
            "overflow_y": null,
            "padding": null,
            "right": null,
            "top": null,
            "visibility": null,
            "width": null
          }
        },
        "eacd199d7aab4d2b893bf63cf3ce7a4d": {
          "model_module": "@jupyter-widgets/controls",
          "model_name": "DescriptionStyleModel",
          "model_module_version": "1.5.0",
          "state": {
            "_model_module": "@jupyter-widgets/controls",
            "_model_module_version": "1.5.0",
            "_model_name": "DescriptionStyleModel",
            "_view_count": null,
            "_view_module": "@jupyter-widgets/base",
            "_view_module_version": "1.2.0",
            "_view_name": "StyleView",
            "description_width": ""
          }
        },
        "fd5bdff19f87472097038aa141ae494e": {
          "model_module": "@jupyter-widgets/base",
          "model_name": "LayoutModel",
          "model_module_version": "1.2.0",
          "state": {
            "_model_module": "@jupyter-widgets/base",
            "_model_module_version": "1.2.0",
            "_model_name": "LayoutModel",
            "_view_count": null,
            "_view_module": "@jupyter-widgets/base",
            "_view_module_version": "1.2.0",
            "_view_name": "LayoutView",
            "align_content": null,
            "align_items": null,
            "align_self": null,
            "border": null,
            "bottom": null,
            "display": null,
            "flex": null,
            "flex_flow": null,
            "grid_area": null,
            "grid_auto_columns": null,
            "grid_auto_flow": null,
            "grid_auto_rows": null,
            "grid_column": null,
            "grid_gap": null,
            "grid_row": null,
            "grid_template_areas": null,
            "grid_template_columns": null,
            "grid_template_rows": null,
            "height": null,
            "justify_content": null,
            "justify_items": null,
            "left": null,
            "margin": null,
            "max_height": null,
            "max_width": null,
            "min_height": null,
            "min_width": null,
            "object_fit": null,
            "object_position": null,
            "order": null,
            "overflow": null,
            "overflow_x": null,
            "overflow_y": null,
            "padding": null,
            "right": null,
            "top": null,
            "visibility": null,
            "width": null
          }
        },
        "3bf8c11f1b794d6ebc85155e1b39f486": {
          "model_module": "@jupyter-widgets/controls",
          "model_name": "ProgressStyleModel",
          "model_module_version": "1.5.0",
          "state": {
            "_model_module": "@jupyter-widgets/controls",
            "_model_module_version": "1.5.0",
            "_model_name": "ProgressStyleModel",
            "_view_count": null,
            "_view_module": "@jupyter-widgets/base",
            "_view_module_version": "1.2.0",
            "_view_name": "StyleView",
            "bar_color": null,
            "description_width": ""
          }
        },
        "bc4a44d4621b45f6a9eec25e1b3004e9": {
          "model_module": "@jupyter-widgets/base",
          "model_name": "LayoutModel",
          "model_module_version": "1.2.0",
          "state": {
            "_model_module": "@jupyter-widgets/base",
            "_model_module_version": "1.2.0",
            "_model_name": "LayoutModel",
            "_view_count": null,
            "_view_module": "@jupyter-widgets/base",
            "_view_module_version": "1.2.0",
            "_view_name": "LayoutView",
            "align_content": null,
            "align_items": null,
            "align_self": null,
            "border": null,
            "bottom": null,
            "display": null,
            "flex": null,
            "flex_flow": null,
            "grid_area": null,
            "grid_auto_columns": null,
            "grid_auto_flow": null,
            "grid_auto_rows": null,
            "grid_column": null,
            "grid_gap": null,
            "grid_row": null,
            "grid_template_areas": null,
            "grid_template_columns": null,
            "grid_template_rows": null,
            "height": null,
            "justify_content": null,
            "justify_items": null,
            "left": null,
            "margin": null,
            "max_height": null,
            "max_width": null,
            "min_height": null,
            "min_width": null,
            "object_fit": null,
            "object_position": null,
            "order": null,
            "overflow": null,
            "overflow_x": null,
            "overflow_y": null,
            "padding": null,
            "right": null,
            "top": null,
            "visibility": null,
            "width": null
          }
        },
        "de9a5e4002514f7bba8731ed30bef712": {
          "model_module": "@jupyter-widgets/controls",
          "model_name": "DescriptionStyleModel",
          "model_module_version": "1.5.0",
          "state": {
            "_model_module": "@jupyter-widgets/controls",
            "_model_module_version": "1.5.0",
            "_model_name": "DescriptionStyleModel",
            "_view_count": null,
            "_view_module": "@jupyter-widgets/base",
            "_view_module_version": "1.2.0",
            "_view_name": "StyleView",
            "description_width": ""
          }
        },
        "1be795343cc14643b095e2e1ab078924": {
          "model_module": "@jupyter-widgets/controls",
          "model_name": "HBoxModel",
          "model_module_version": "1.5.0",
          "state": {
            "_dom_classes": [],
            "_model_module": "@jupyter-widgets/controls",
            "_model_module_version": "1.5.0",
            "_model_name": "HBoxModel",
            "_view_count": null,
            "_view_module": "@jupyter-widgets/controls",
            "_view_module_version": "1.5.0",
            "_view_name": "HBoxView",
            "box_style": "",
            "children": [
              "IPY_MODEL_5907dfa98492419da82875168516dbaa",
              "IPY_MODEL_d0756f517dc64565bf8175c4533d38b9",
              "IPY_MODEL_8fb36034040940f788dc29c25b7d2006"
            ],
            "layout": "IPY_MODEL_d89c5596ebdd4661a7de71bea5d4281e"
          }
        },
        "5907dfa98492419da82875168516dbaa": {
          "model_module": "@jupyter-widgets/controls",
          "model_name": "HTMLModel",
          "model_module_version": "1.5.0",
          "state": {
            "_dom_classes": [],
            "_model_module": "@jupyter-widgets/controls",
            "_model_module_version": "1.5.0",
            "_model_name": "HTMLModel",
            "_view_count": null,
            "_view_module": "@jupyter-widgets/controls",
            "_view_module_version": "1.5.0",
            "_view_name": "HTMLView",
            "description": "",
            "description_tooltip": null,
            "layout": "IPY_MODEL_e00b890347c647c4a2675440d2e3499e",
            "placeholder": "​",
            "style": "IPY_MODEL_5541cee84dce4927bd35cb47f6b8475a",
            "value": "Optimization Progress:  43%"
          }
        },
        "d0756f517dc64565bf8175c4533d38b9": {
          "model_module": "@jupyter-widgets/controls",
          "model_name": "FloatProgressModel",
          "model_module_version": "1.5.0",
          "state": {
            "_dom_classes": [],
            "_model_module": "@jupyter-widgets/controls",
            "_model_module_version": "1.5.0",
            "_model_name": "FloatProgressModel",
            "_view_count": null,
            "_view_module": "@jupyter-widgets/controls",
            "_view_module_version": "1.5.0",
            "_view_name": "ProgressView",
            "bar_style": "danger",
            "description": "",
            "description_tooltip": null,
            "layout": "IPY_MODEL_1e00c9d7042e48fbb11cffac7bfdefec",
            "max": 1020,
            "min": 0,
            "orientation": "horizontal",
            "style": "IPY_MODEL_8c8c2d9efeb94e2ab59e26210f94023a",
            "value": 440
          }
        },
        "8fb36034040940f788dc29c25b7d2006": {
          "model_module": "@jupyter-widgets/controls",
          "model_name": "HTMLModel",
          "model_module_version": "1.5.0",
          "state": {
            "_dom_classes": [],
            "_model_module": "@jupyter-widgets/controls",
            "_model_module_version": "1.5.0",
            "_model_name": "HTMLModel",
            "_view_count": null,
            "_view_module": "@jupyter-widgets/controls",
            "_view_module_version": "1.5.0",
            "_view_name": "HTMLView",
            "description": "",
            "description_tooltip": null,
            "layout": "IPY_MODEL_b0714a629eaf4bbda9dfba039295b5a1",
            "placeholder": "​",
            "style": "IPY_MODEL_152fd2c7807442bdb560c39c7fcb1e34",
            "value": " 440/1020 [06:23&lt;09:31,  1.02pipeline/s]"
          }
        },
        "d89c5596ebdd4661a7de71bea5d4281e": {
          "model_module": "@jupyter-widgets/base",
          "model_name": "LayoutModel",
          "model_module_version": "1.2.0",
          "state": {
            "_model_module": "@jupyter-widgets/base",
            "_model_module_version": "1.2.0",
            "_model_name": "LayoutModel",
            "_view_count": null,
            "_view_module": "@jupyter-widgets/base",
            "_view_module_version": "1.2.0",
            "_view_name": "LayoutView",
            "align_content": null,
            "align_items": null,
            "align_self": null,
            "border": null,
            "bottom": null,
            "display": null,
            "flex": null,
            "flex_flow": null,
            "grid_area": null,
            "grid_auto_columns": null,
            "grid_auto_flow": null,
            "grid_auto_rows": null,
            "grid_column": null,
            "grid_gap": null,
            "grid_row": null,
            "grid_template_areas": null,
            "grid_template_columns": null,
            "grid_template_rows": null,
            "height": null,
            "justify_content": null,
            "justify_items": null,
            "left": null,
            "margin": null,
            "max_height": null,
            "max_width": null,
            "min_height": null,
            "min_width": null,
            "object_fit": null,
            "object_position": null,
            "order": null,
            "overflow": null,
            "overflow_x": null,
            "overflow_y": null,
            "padding": null,
            "right": null,
            "top": null,
            "visibility": null,
            "width": null
          }
        },
        "e00b890347c647c4a2675440d2e3499e": {
          "model_module": "@jupyter-widgets/base",
          "model_name": "LayoutModel",
          "model_module_version": "1.2.0",
          "state": {
            "_model_module": "@jupyter-widgets/base",
            "_model_module_version": "1.2.0",
            "_model_name": "LayoutModel",
            "_view_count": null,
            "_view_module": "@jupyter-widgets/base",
            "_view_module_version": "1.2.0",
            "_view_name": "LayoutView",
            "align_content": null,
            "align_items": null,
            "align_self": null,
            "border": null,
            "bottom": null,
            "display": null,
            "flex": null,
            "flex_flow": null,
            "grid_area": null,
            "grid_auto_columns": null,
            "grid_auto_flow": null,
            "grid_auto_rows": null,
            "grid_column": null,
            "grid_gap": null,
            "grid_row": null,
            "grid_template_areas": null,
            "grid_template_columns": null,
            "grid_template_rows": null,
            "height": null,
            "justify_content": null,
            "justify_items": null,
            "left": null,
            "margin": null,
            "max_height": null,
            "max_width": null,
            "min_height": null,
            "min_width": null,
            "object_fit": null,
            "object_position": null,
            "order": null,
            "overflow": null,
            "overflow_x": null,
            "overflow_y": null,
            "padding": null,
            "right": null,
            "top": null,
            "visibility": null,
            "width": null
          }
        },
        "5541cee84dce4927bd35cb47f6b8475a": {
          "model_module": "@jupyter-widgets/controls",
          "model_name": "DescriptionStyleModel",
          "model_module_version": "1.5.0",
          "state": {
            "_model_module": "@jupyter-widgets/controls",
            "_model_module_version": "1.5.0",
            "_model_name": "DescriptionStyleModel",
            "_view_count": null,
            "_view_module": "@jupyter-widgets/base",
            "_view_module_version": "1.2.0",
            "_view_name": "StyleView",
            "description_width": ""
          }
        },
        "1e00c9d7042e48fbb11cffac7bfdefec": {
          "model_module": "@jupyter-widgets/base",
          "model_name": "LayoutModel",
          "model_module_version": "1.2.0",
          "state": {
            "_model_module": "@jupyter-widgets/base",
            "_model_module_version": "1.2.0",
            "_model_name": "LayoutModel",
            "_view_count": null,
            "_view_module": "@jupyter-widgets/base",
            "_view_module_version": "1.2.0",
            "_view_name": "LayoutView",
            "align_content": null,
            "align_items": null,
            "align_self": null,
            "border": null,
            "bottom": null,
            "display": null,
            "flex": null,
            "flex_flow": null,
            "grid_area": null,
            "grid_auto_columns": null,
            "grid_auto_flow": null,
            "grid_auto_rows": null,
            "grid_column": null,
            "grid_gap": null,
            "grid_row": null,
            "grid_template_areas": null,
            "grid_template_columns": null,
            "grid_template_rows": null,
            "height": null,
            "justify_content": null,
            "justify_items": null,
            "left": null,
            "margin": null,
            "max_height": null,
            "max_width": null,
            "min_height": null,
            "min_width": null,
            "object_fit": null,
            "object_position": null,
            "order": null,
            "overflow": null,
            "overflow_x": null,
            "overflow_y": null,
            "padding": null,
            "right": null,
            "top": null,
            "visibility": null,
            "width": null
          }
        },
        "8c8c2d9efeb94e2ab59e26210f94023a": {
          "model_module": "@jupyter-widgets/controls",
          "model_name": "ProgressStyleModel",
          "model_module_version": "1.5.0",
          "state": {
            "_model_module": "@jupyter-widgets/controls",
            "_model_module_version": "1.5.0",
            "_model_name": "ProgressStyleModel",
            "_view_count": null,
            "_view_module": "@jupyter-widgets/base",
            "_view_module_version": "1.2.0",
            "_view_name": "StyleView",
            "bar_color": null,
            "description_width": ""
          }
        },
        "b0714a629eaf4bbda9dfba039295b5a1": {
          "model_module": "@jupyter-widgets/base",
          "model_name": "LayoutModel",
          "model_module_version": "1.2.0",
          "state": {
            "_model_module": "@jupyter-widgets/base",
            "_model_module_version": "1.2.0",
            "_model_name": "LayoutModel",
            "_view_count": null,
            "_view_module": "@jupyter-widgets/base",
            "_view_module_version": "1.2.0",
            "_view_name": "LayoutView",
            "align_content": null,
            "align_items": null,
            "align_self": null,
            "border": null,
            "bottom": null,
            "display": null,
            "flex": null,
            "flex_flow": null,
            "grid_area": null,
            "grid_auto_columns": null,
            "grid_auto_flow": null,
            "grid_auto_rows": null,
            "grid_column": null,
            "grid_gap": null,
            "grid_row": null,
            "grid_template_areas": null,
            "grid_template_columns": null,
            "grid_template_rows": null,
            "height": null,
            "justify_content": null,
            "justify_items": null,
            "left": null,
            "margin": null,
            "max_height": null,
            "max_width": null,
            "min_height": null,
            "min_width": null,
            "object_fit": null,
            "object_position": null,
            "order": null,
            "overflow": null,
            "overflow_x": null,
            "overflow_y": null,
            "padding": null,
            "right": null,
            "top": null,
            "visibility": null,
            "width": null
          }
        },
        "152fd2c7807442bdb560c39c7fcb1e34": {
          "model_module": "@jupyter-widgets/controls",
          "model_name": "DescriptionStyleModel",
          "model_module_version": "1.5.0",
          "state": {
            "_model_module": "@jupyter-widgets/controls",
            "_model_module_version": "1.5.0",
            "_model_name": "DescriptionStyleModel",
            "_view_count": null,
            "_view_module": "@jupyter-widgets/base",
            "_view_module_version": "1.2.0",
            "_view_name": "StyleView",
            "description_width": ""
          }
        }
      }
    }
  },
  "cells": [
    {
      "cell_type": "code",
      "source": [
        "!pip install tpot"
      ],
      "metadata": {
        "colab": {
          "base_uri": "https://localhost:8080/"
        },
        "id": "DXxIXDCE85tz",
        "outputId": "2c922213-5958-4f86-e093-17d5151f2eb3"
      },
      "execution_count": 2,
      "outputs": [
        {
          "output_type": "stream",
          "name": "stdout",
          "text": [
            "Requirement already satisfied: tpot in /usr/local/lib/python3.10/dist-packages (0.12.1)\n",
            "Requirement already satisfied: numpy>=1.16.3 in /usr/local/lib/python3.10/dist-packages (from tpot) (1.23.5)\n",
            "Requirement already satisfied: scipy>=1.3.1 in /usr/local/lib/python3.10/dist-packages (from tpot) (1.11.4)\n",
            "Requirement already satisfied: scikit-learn>=0.22.0 in /usr/local/lib/python3.10/dist-packages (from tpot) (1.2.2)\n",
            "Requirement already satisfied: deap>=1.2 in /usr/local/lib/python3.10/dist-packages (from tpot) (1.4.1)\n",
            "Requirement already satisfied: update-checker>=0.16 in /usr/local/lib/python3.10/dist-packages (from tpot) (0.18.0)\n",
            "Requirement already satisfied: tqdm>=4.36.1 in /usr/local/lib/python3.10/dist-packages (from tpot) (4.66.1)\n",
            "Requirement already satisfied: stopit>=1.1.1 in /usr/local/lib/python3.10/dist-packages (from tpot) (1.1.2)\n",
            "Requirement already satisfied: pandas>=0.24.2 in /usr/local/lib/python3.10/dist-packages (from tpot) (1.5.3)\n",
            "Requirement already satisfied: joblib>=0.13.2 in /usr/local/lib/python3.10/dist-packages (from tpot) (1.3.2)\n",
            "Requirement already satisfied: xgboost>=1.1.0 in /usr/local/lib/python3.10/dist-packages (from tpot) (2.0.3)\n",
            "Requirement already satisfied: python-dateutil>=2.8.1 in /usr/local/lib/python3.10/dist-packages (from pandas>=0.24.2->tpot) (2.8.2)\n",
            "Requirement already satisfied: pytz>=2020.1 in /usr/local/lib/python3.10/dist-packages (from pandas>=0.24.2->tpot) (2023.4)\n",
            "Requirement already satisfied: threadpoolctl>=2.0.0 in /usr/local/lib/python3.10/dist-packages (from scikit-learn>=0.22.0->tpot) (3.2.0)\n",
            "Requirement already satisfied: requests>=2.3.0 in /usr/local/lib/python3.10/dist-packages (from update-checker>=0.16->tpot) (2.31.0)\n",
            "Requirement already satisfied: six>=1.5 in /usr/local/lib/python3.10/dist-packages (from python-dateutil>=2.8.1->pandas>=0.24.2->tpot) (1.16.0)\n",
            "Requirement already satisfied: charset-normalizer<4,>=2 in /usr/local/lib/python3.10/dist-packages (from requests>=2.3.0->update-checker>=0.16->tpot) (3.3.2)\n",
            "Requirement already satisfied: idna<4,>=2.5 in /usr/local/lib/python3.10/dist-packages (from requests>=2.3.0->update-checker>=0.16->tpot) (3.6)\n",
            "Requirement already satisfied: urllib3<3,>=1.21.1 in /usr/local/lib/python3.10/dist-packages (from requests>=2.3.0->update-checker>=0.16->tpot) (2.0.7)\n",
            "Requirement already satisfied: certifi>=2017.4.17 in /usr/local/lib/python3.10/dist-packages (from requests>=2.3.0->update-checker>=0.16->tpot) (2024.2.2)\n"
          ]
        }
      ]
    },
    {
      "cell_type": "code",
      "source": [
        "import pandas as pd\n",
        "df = pd.read_excel('/content/imputed_missing_values_sklearn.xlsx')\n",
        "df.shape"
      ],
      "metadata": {
        "colab": {
          "base_uri": "https://localhost:8080/"
        },
        "id": "ATiFh8jZDXlj",
        "outputId": "b4a41099-640f-428f-a787-4923202196f7"
      },
      "execution_count": 2,
      "outputs": [
        {
          "output_type": "execute_result",
          "data": {
            "text/plain": [
              "(1612, 17)"
            ]
          },
          "metadata": {},
          "execution_count": 2
        }
      ]
    },
    {
      "cell_type": "code",
      "source": [
        "from tpot import TPOTClassifier\n",
        "from sklearn.model_selection import train_test_split\n",
        "from imblearn.over_sampling import ADASYN\n",
        "\n",
        "# Assuming df is your DataFrame and it's ready for use\n",
        "X = df.drop('STATUS_dead_alive', axis=1)  # Features\n",
        "y = df['STATUS_dead_alive']  # Target variable\n",
        "\n",
        "# Split the data into training and test sets\n",
        "X_train, X_test, y_train, y_test = train_test_split(X, y, test_size=0.2, random_state=42, stratify=y, shuffle=True)\n",
        "print(X_train.shape)\n",
        "print(X_test.shape)\n",
        "adasyn = ADASYN(sampling_strategy='auto', random_state=42, n_neighbors=10)  # Experiment with different values.\n",
        "X_train_resampled, y_train_resampled = adasyn.fit_resample(X_train, y_train)\n",
        "X_train=X_train_resampled\n",
        "y_train= y_train_resampled\n",
        "print(X_train.shape)\n",
        "print(X_test.shape)\n",
        "# Create a DataFrame for the balanced training dataset\n",
        "# balanced_train_df = pd.concat([X_train_resampled, y_train_resampled], axis=1)\n",
        "\n",
        "# Initialize TPOTClassifier with F1 scoring for optimization\n",
        "tpot = TPOTClassifier(generations=3, population_size=50, verbosity=2, scoring='f1_micro', random_state=42,\n",
        "                      early_stop=3, config_dict=\"TPOT sparse\")  # Use 'f1_micro' for F1 score\n",
        "\n",
        "# Fit TPOT on the training data\n",
        "tpot.fit(X_train, y_train)\n",
        "\n",
        "# Print the training F1 score\n",
        "train_f1 = tpot.score(X_train, y_train)\n",
        "print(\"F1 Score on Training Set:\", train_f1)\n",
        "\n",
        "# Print the best pipeline's F1 score on the test set\n",
        "test_f1 = tpot.score(X_test, y_test)\n",
        "print(\"Best F1 Score on Test Set:\", test_f1)\n",
        "\n",
        "# Export the best pipeline as Python code\n",
        "tpot.export('tpot_best_pipeline.py')\n"
      ],
      "metadata": {
        "colab": {
          "base_uri": "https://localhost:8080/",
          "height": 283,
          "referenced_widgets": [
            "ca20f2e12522431d9040cb3ed9721218",
            "4a98e7de1edc43ee8bf86922c1792e85",
            "ed5c4cb3fa3f4b4295e872117465ec44",
            "9f2ea21b0c714303aa2a556431280e14",
            "e082dc7de30e4eb3b585e5b92fedc2ff",
            "211f7238749841fd852e083b4e511d07",
            "eacd199d7aab4d2b893bf63cf3ce7a4d",
            "fd5bdff19f87472097038aa141ae494e",
            "3bf8c11f1b794d6ebc85155e1b39f486",
            "bc4a44d4621b45f6a9eec25e1b3004e9",
            "de9a5e4002514f7bba8731ed30bef712"
          ]
        },
        "id": "Lr0cHqb7EJgo",
        "outputId": "e29af330-477b-404c-c3db-8c52efc2a536"
      },
      "execution_count": 6,
      "outputs": [
        {
          "output_type": "stream",
          "name": "stdout",
          "text": [
            "(1289, 16)\n",
            "(323, 16)\n",
            "(2338, 16)\n",
            "(323, 16)\n"
          ]
        },
        {
          "output_type": "display_data",
          "data": {
            "text/plain": [
              "Optimization Progress:   0%|          | 0/200 [00:00<?, ?pipeline/s]"
            ],
            "application/vnd.jupyter.widget-view+json": {
              "version_major": 2,
              "version_minor": 0,
              "model_id": "ca20f2e12522431d9040cb3ed9721218"
            }
          },
          "metadata": {}
        },
        {
          "output_type": "stream",
          "name": "stdout",
          "text": [
            "\n",
            "Generation 1 - Current best internal CV score: 0.9216969563864638\n",
            "\n",
            "Generation 2 - Current best internal CV score: 0.9216969563864638\n",
            "\n",
            "Generation 3 - Current best internal CV score: 0.9216969563864638\n",
            "\n",
            "Best pipeline: RandomForestClassifier(SelectPercentile(input_matrix, percentile=67), bootstrap=True, criterion=gini, max_features=0.7500000000000001, min_samples_leaf=8, min_samples_split=3, n_estimators=100)\n",
            "F1 Score on Training Set: 0.9217279726261762\n",
            "Best F1 Score on Test Set: 0.9287925696594427\n"
          ]
        }
      ]
    },
    {
      "cell_type": "code",
      "source": [
        "tpot.export('optimized_pipeline.py')\n",
        "from joblib import dump"
      ],
      "metadata": {
        "colab": {
          "base_uri": "https://localhost:8080/",
          "height": 195
        },
        "id": "6lqBp5oUPhZv",
        "outputId": "8f8f4046-c4c5-4e51-e35c-6afbe02a777e"
      },
      "execution_count": 1,
      "outputs": [
        {
          "output_type": "error",
          "ename": "NameError",
          "evalue": "name 'tpot' is not defined",
          "traceback": [
            "\u001b[0;31m---------------------------------------------------------------------------\u001b[0m",
            "\u001b[0;31mNameError\u001b[0m                                 Traceback (most recent call last)",
            "\u001b[0;32m<ipython-input-1-9125093d530e>\u001b[0m in \u001b[0;36m<cell line: 1>\u001b[0;34m()\u001b[0m\n\u001b[0;32m----> 1\u001b[0;31m \u001b[0mtpot\u001b[0m\u001b[0;34m.\u001b[0m\u001b[0mexport\u001b[0m\u001b[0;34m(\u001b[0m\u001b[0;34m'optimized_pipeline.py'\u001b[0m\u001b[0;34m)\u001b[0m\u001b[0;34m\u001b[0m\u001b[0;34m\u001b[0m\u001b[0m\n\u001b[0m\u001b[1;32m      2\u001b[0m \u001b[0;32mfrom\u001b[0m \u001b[0mjoblib\u001b[0m \u001b[0;32mimport\u001b[0m \u001b[0mdump\u001b[0m\u001b[0;34m\u001b[0m\u001b[0;34m\u001b[0m\u001b[0m\n",
            "\u001b[0;31mNameError\u001b[0m: name 'tpot' is not defined"
          ]
        }
      ]
    },
    {
      "cell_type": "code",
      "source": [],
      "metadata": {
        "id": "7efcxDtkWCmj"
      },
      "execution_count": 17,
      "outputs": []
    },
    {
      "cell_type": "code",
      "source": [
        "from joblib import dump\n",
        "\n",
        "# Save the trained TPOT model\n",
        "dump(tpot.fitted_pipeline_, 'tpot_trained_model.joblib')\n"
      ],
      "metadata": {
        "colab": {
          "base_uri": "https://localhost:8080/"
        },
        "id": "N5ywMv-cns4c",
        "outputId": "fda4908f-5eba-4bed-e876-32a8c67a9935"
      },
      "execution_count": 18,
      "outputs": [
        {
          "output_type": "execute_result",
          "data": {
            "text/plain": [
              "['tpot_trained_model.joblib']"
            ]
          },
          "metadata": {},
          "execution_count": 18
        }
      ]
    },
    {
      "cell_type": "code",
      "source": [
        "from joblib import load\n",
        "# Load the saved TPOT model\n",
        "tpot_model = load('tpot_trained_model.joblib')"
      ],
      "metadata": {
        "id": "ej45yLq6XFaP"
      },
      "execution_count": 19,
      "outputs": []
    },
    {
      "cell_type": "code",
      "source": [
        "from sklearn.metrics import roc_auc_score, roc_curve\n",
        "import matplotlib.pyplot as plt\n",
        "\n",
        "# Load the saved TPOT model\n",
        "tpot_model = load('tpot_trained_model.joblib')\n",
        "\n",
        "# Calculate ROC AUC for train and test sets\n",
        "train_roc_auc = roc_auc_score(y_train, tpot_model.predict_proba(X_train)[:, 1])\n",
        "test_roc_auc = roc_auc_score(y_test, tpot_model.predict_proba(X_test)[:, 1])\n",
        "\n",
        "print(\"ROC AUC for Train Set:\", train_roc_auc)\n",
        "print(\"ROC AUC for Test Set:\", test_roc_auc)\n",
        "\n",
        "# Plot ROC curves\n",
        "train_fpr, train_tpr, _ = roc_curve(y_train, tpot_model.predict_proba(X_train)[:, 1])\n",
        "test_fpr, test_tpr, _ = roc_curve(y_test, tpot_model.predict_proba(X_test)[:, 1])\n",
        "\n",
        "plt.figure(figsize=(10, 6))\n",
        "plt.plot(train_fpr, train_tpr, label='Train ROC Curve (AUC = {:.2f})'.format(train_roc_auc), color='blue')\n",
        "plt.plot(test_fpr, test_tpr, label='Test ROC Curve (AUC = {:.2f})'.format(test_roc_auc), color='red')\n",
        "plt.plot([0, 1], [0, 1], linestyle='--', color='gray')\n",
        "plt.xlabel('False Positive Rate')\n",
        "plt.ylabel('True Positive Rate')\n",
        "plt.title('Receiver Operating Characteristic (ROC) Curve')\n",
        "plt.legend()\n",
        "plt.grid(True)\n",
        "plt.show()\n"
      ],
      "metadata": {
        "colab": {
          "base_uri": "https://localhost:8080/",
          "height": 599
        },
        "id": "33cm5G7hb-Mr",
        "outputId": "2bcc76f2-d87d-40a9-f362-605db86ba660"
      },
      "execution_count": 20,
      "outputs": [
        {
          "output_type": "stream",
          "name": "stdout",
          "text": [
            "ROC AUC for Train Set: 0.9631113082000972\n",
            "ROC AUC for Test Set: 0.9487450152474783\n"
          ]
        },
        {
          "output_type": "display_data",
          "data": {
            "text/plain": [
              "<Figure size 1000x600 with 1 Axes>"
            ],
            "image/png": "[encoded data removed]"
          },
          "metadata": {}
        }
      ]
    },
    {
      "cell_type": "code",
      "source": [
        "from sklearn.metrics import confusion_matrix, accuracy_score, precision_score, recall_score, f1_score\n",
        "\n",
        "# Make predictions on the training and test sets\n",
        "y_train_pred = tpot_model.predict(X_train)\n",
        "y_test_pred = tpot_model.predict(X_test)\n",
        "\n",
        "# Confusion matrix\n",
        "conf_matrix_train = confusion_matrix(y_train, y_train_pred)\n",
        "conf_matrix_test = confusion_matrix(y_test, y_test_pred)\n",
        "\n",
        "# True positive, true negative, false positive, false negative\n",
        "tp_train, tn_train, fp_train, fn_train = conf_matrix_train.ravel()\n",
        "tp_test, tn_test, fp_test, fn_test = conf_matrix_test.ravel()\n",
        "\n",
        "# Sensitivity (True Positive Rate)\n",
        "sensitivity_train = recall_score(y_train, y_train_pred)\n",
        "sensitivity_test = recall_score(y_test, y_test_pred)\n",
        "\n",
        "# Specificity (True Negative Rate)\n",
        "specificity_train = tn_train / (tn_train + fp_train)\n",
        "specificity_test = tn_test / (tn_test + fp_test)\n",
        "\n",
        "# Recall\n",
        "recall_train = recall_score(y_train, y_train_pred)\n",
        "recall_test = recall_score(y_test, y_test_pred)\n",
        "\n",
        "# Precision\n",
        "precision_train = precision_score(y_train, y_train_pred)\n",
        "precision_test = precision_score(y_test, y_test_pred)\n",
        "\n",
        "# Accuracy\n",
        "accuracy_train = accuracy_score(y_train, y_train_pred)\n",
        "accuracy_test = accuracy_score(y_test, y_test_pred)\n",
        "\n",
        "# F1 Score\n",
        "f1_train = f1_score(y_train, y_train_pred)\n",
        "f1_test = f1_score(y_test, y_test_pred)\n",
        "\n",
        "# Positive Predictive Value (PPV)\n",
        "ppv_train = tp_train / (tp_train + fp_train)\n",
        "ppv_test = tp_test / (tp_test + fp_test)\n",
        "\n",
        "# Negative Predictive Value (NPV)\n",
        "npv_train = tn_train / (tn_train + fn_train)\n",
        "npv_test = tn_test / (tn_test + fn_test)\n",
        "\n",
        "# Positive Likelihood Ratio (LR+)\n",
        "lr_plus_train = sensitivity_train / (1 - specificity_train)\n",
        "lr_plus_test = sensitivity_test / (1 - specificity_test)\n",
        "\n",
        "# Negative Likelihood Ratio (LR-)\n",
        "lr_minus_train = (1 - sensitivity_train) / specificity_train\n",
        "lr_minus_test = (1 - sensitivity_test) / specificity_test\n",
        "\n",
        "# Print results\n",
        "print(\"Training Set:\")\n",
        "print(\"True Positive:\", tp_train)\n",
        "print(\"True Negative:\", tn_train)\n",
        "print(\"False Positive:\", fp_train)\n",
        "print(\"False Negative:\", fn_train)\n",
        "print(\"Sensitivity (Recall):\", sensitivity_train)\n",
        "print(\"Specificity:\", specificity_train)\n",
        "print(\"Precision:\", precision_train)\n",
        "print(\"Accuracy:\", accuracy_train)\n",
        "print(\"F1 Score:\", f1_train)\n",
        "print(\"Positive Predictive Value (PPV):\", ppv_train)\n",
        "print(\"Negative Predictive Value (NPV):\", npv_train)\n",
        "print(\"Positive Likelihood Ratio (LR+):\", lr_plus_train)\n",
        "print(\"Negative Likelihood Ratio (LR-):\", lr_minus_train)\n",
        "\n",
        "print(\"\\nTest Set:\")\n",
        "print(\"True Positive:\", tp_test)\n",
        "print(\"True Negative:\", tn_test)\n",
        "print(\"False Positive:\", fp_test)\n",
        "print(\"False Negative:\", fn_test)\n",
        "print(\"Sensitivity (Recall):\", sensitivity_test)\n",
        "print(\"Specificity:\", specificity_test)\n",
        "print(\"Precision:\", precision_test)\n",
        "print(\"Accuracy:\", accuracy_test)\n",
        "print(\"F1 Score:\", f1_test)\n",
        "print(\"Positive Predictive Value (PPV):\", ppv_test)\n",
        "print(\"Negative Predictive Value (NPV):\", npv_test)\n",
        "print(\"Positive Likelihood Ratio (LR+):\", lr_plus_test)\n",
        "print(\"Negative Likelihood Ratio (LR-):\", lr_minus_test)\n"
      ],
      "metadata": {
        "colab": {
          "base_uri": "https://localhost:8080/"
        },
        "id": "sS-W-6KQcpi_",
        "outputId": "bfdc194f-c8bd-4c63-91b8-7a0aeaabba8a"
      },
      "execution_count": 21,
      "outputs": [
        {
          "output_type": "stream",
          "name": "stdout",
          "text": [
            "Training Set:\n",
            "True Positive: 1101\n",
            "True Negative: 70\n",
            "False Positive: 113\n",
            "False Negative: 1054\n",
            "Sensitivity (Recall): 0.9031705227077977\n",
            "Specificity: 0.3825136612021858\n",
            "Precision: 0.9377224199288257\n",
            "Accuracy: 0.9217279726261762\n",
            "F1 Score: 0.9201222173723266\n",
            "Positive Predictive Value (PPV): 0.9069192751235585\n",
            "Negative Predictive Value (NPV): 0.06227758007117438\n",
            "Positive Likelihood Ratio (LR+): 1.462656687217053\n",
            "Negative Likelihood Ratio (LR-): 0.2531399192067573\n",
            "\n",
            "Test Set:\n",
            "True Positive: 272\n",
            "True Negative: 22\n",
            "False Positive: 1\n",
            "False Negative: 28\n",
            "Sensitivity (Recall): 0.9655172413793104\n",
            "Specificity: 0.9565217391304348\n",
            "Precision: 0.56\n",
            "Accuracy: 0.9287925696594427\n",
            "F1 Score: 0.7088607594936709\n",
            "Positive Predictive Value (PPV): 0.9963369963369964\n",
            "Negative Predictive Value (NPV): 0.44\n",
            "Positive Likelihood Ratio (LR+): 22.206896551724153\n",
            "Negative Likelihood Ratio (LR-): 0.036050156739811864\n"
          ]
        }
      ]
    },
    {
      "cell_type": "code",
      "source": [],
      "metadata": {
        "colab": {
          "base_uri": "https://localhost:8080/"
        },
        "id": "w1gsGSHBhp-C",
        "outputId": "d75d9ea4-d951-44b2-a2f2-be0490d75afe"
      },
      "execution_count": 20,
      "outputs": [
        {
          "output_type": "stream",
          "name": "stdout",
          "text": [
            "F1 Score (Train): 0.8070175438596492\n",
            "F1 Score (Test): 0.7384615384615385\n"
          ]
        }
      ]
    },
    {
      "cell_type": "code",
      "source": [
        "tpot.fitted_pipeline_"
      ],
      "metadata": {
        "colab": {
          "base_uri": "https://localhost:8080/",
          "height": 189
        },
        "id": "qVnmeBLdiP_B",
        "outputId": "d1860d61-0f68-4441-b92f-f57e411251cf"
      },
      "execution_count": 22,
      "outputs": [
        {
          "output_type": "execute_result",
          "data": {
            "text/plain": [
              "Pipeline(steps=[('selectpercentile', SelectPercentile(percentile=67)),\n",
              "                ('randomforestclassifier',\n",
              "                 RandomForestClassifier(max_features=0.7500000000000001,\n",
              "                                        min_samples_leaf=8, min_samples_split=3,\n",
              "                                        random_state=42))])"
            ],
            "text/html": [
              "<style>#sk-container-id-1 {color: black;background-color: white;}#sk-container-id-1 pre{padding: 0;}#sk-container-id-1 div.sk-toggleable {background-color: white;}#sk-container-id-1 label.sk-toggleable__label {cursor: pointer;display: block;width: 100%;margin-bottom: 0;padding: 0.3em;box-sizing: border-box;text-align: center;}#sk-container-id-1 label.sk-toggleable__label-arrow:before {content: \"▸\";float: left;margin-right: 0.25em;color: #696969;}#sk-container-id-1 label.sk-toggleable__label-arrow:hover:before {color: black;}#sk-container-id-1 div.sk-estimator:hover label.sk-toggleable__label-arrow:before {color: black;}#sk-container-id-1 div.sk-toggleable__content {max-height: 0;max-width: 0;overflow: hidden;text-align: left;background-color: #f0f8ff;}#sk-container-id-1 div.sk-toggleable__content pre {margin: 0.2em;color: black;border-radius: 0.25em;background-color: #f0f8ff;}#sk-container-id-1 input.sk-toggleable__control:checked~div.sk-toggleable__content {max-height: 200px;max-width: 100%;overflow: auto;}#sk-container-id-1 input.sk-toggleable__control:checked~label.sk-toggleable__label-arrow:before {content: \"▾\";}#sk-container-id-1 div.sk-estimator input.sk-toggleable__control:checked~label.sk-toggleable__label {background-color: #d4ebff;}#sk-container-id-1 div.sk-label input.sk-toggleable__control:checked~label.sk-toggleable__label {background-color: #d4ebff;}#sk-container-id-1 input.sk-hidden--visually {border: 0;clip: rect(1px 1px 1px 1px);clip: rect(1px, 1px, 1px, 1px);height: 1px;margin: -1px;overflow: hidden;padding: 0;position: absolute;width: 1px;}#sk-container-id-1 div.sk-estimator {font-family: monospace;background-color: #f0f8ff;border: 1px dotted black;border-radius: 0.25em;box-sizing: border-box;margin-bottom: 0.5em;}#sk-container-id-1 div.sk-estimator:hover {background-color: #d4ebff;}#sk-container-id-1 div.sk-parallel-item::after {content: \"\";width: 100%;border-bottom: 1px solid gray;flex-grow: 1;}#sk-container-id-1 div.sk-label:hover label.sk-toggleable__label {background-color: #d4ebff;}#sk-container-id-1 div.sk-serial::before {content: \"\";position: absolute;border-left: 1px solid gray;box-sizing: border-box;top: 0;bottom: 0;left: 50%;z-index: 0;}#sk-container-id-1 div.sk-serial {display: flex;flex-direction: column;align-items: center;background-color: white;padding-right: 0.2em;padding-left: 0.2em;position: relative;}#sk-container-id-1 div.sk-item {position: relative;z-index: 1;}#sk-container-id-1 div.sk-parallel {display: flex;align-items: stretch;justify-content: center;background-color: white;position: relative;}#sk-container-id-1 div.sk-item::before, #sk-container-id-1 div.sk-parallel-item::before {content: \"\";position: absolute;border-left: 1px solid gray;box-sizing: border-box;top: 0;bottom: 0;left: 50%;z-index: -1;}#sk-container-id-1 div.sk-parallel-item {display: flex;flex-direction: column;z-index: 1;position: relative;background-color: white;}#sk-container-id-1 div.sk-parallel-item:first-child::after {align-self: flex-end;width: 50%;}#sk-container-id-1 div.sk-parallel-item:last-child::after {align-self: flex-start;width: 50%;}#sk-container-id-1 div.sk-parallel-item:only-child::after {width: 0;}#sk-container-id-1 div.sk-dashed-wrapped {border: 1px dashed gray;margin: 0 0.4em 0.5em 0.4em;box-sizing: border-box;padding-bottom: 0.4em;background-color: white;}#sk-container-id-1 div.sk-label label {font-family: monospace;font-weight: bold;display: inline-block;line-height: 1.2em;}#sk-container-id-1 div.sk-label-container {text-align: center;}#sk-container-id-1 div.sk-container {/* jupyter's `normalize.less` sets `[hidden] { display: none; }` but bootstrap.min.css set `[hidden] { display: none !important; }` so we also need the `!important` here to be able to override the default hidden behavior on the sphinx rendered scikit-learn.org. See: https://github.com/scikit-learn/scikit-learn/issues/21755 */display: inline-block !important;position: relative;}#sk-container-id-1 div.sk-text-repr-fallback {display: none;}</style><div id=\"sk-container-id-1\" class=\"sk-top-container\"><div class=\"sk-text-repr-fallback\"><pre>Pipeline(steps=[(&#x27;selectpercentile&#x27;, SelectPercentile(percentile=67)),\n",
              "                (&#x27;randomforestclassifier&#x27;,\n",
              "                 RandomForestClassifier(max_features=0.7500000000000001,\n",
              "                                        min_samples_leaf=8, min_samples_split=3,\n",
              "                                        random_state=42))])</pre><b>In a Jupyter environment, please rerun this cell to show the HTML representation or trust the notebook. <br />On GitHub, the HTML representation is unable to render, please try loading this page with nbviewer.org.</b></div><div class=\"sk-container\" hidden><div class=\"sk-item sk-dashed-wrapped\"><div class=\"sk-label-container\"><div class=\"sk-label sk-toggleable\"><input class=\"sk-toggleable__control sk-hidden--visually\" id=\"sk-estimator-id-1\" type=\"checkbox\" ><label for=\"sk-estimator-id-1\" class=\"sk-toggleable__label sk-toggleable__label-arrow\">Pipeline</label><div class=\"sk-toggleable__content\"><pre>Pipeline(steps=[(&#x27;selectpercentile&#x27;, SelectPercentile(percentile=67)),\n",
              "                (&#x27;randomforestclassifier&#x27;,\n",
              "                 RandomForestClassifier(max_features=0.7500000000000001,\n",
              "                                        min_samples_leaf=8, min_samples_split=3,\n",
              "                                        random_state=42))])</pre></div></div></div><div class=\"sk-serial\"><div class=\"sk-item\"><div class=\"sk-estimator sk-toggleable\"><input class=\"sk-toggleable__control sk-hidden--visually\" id=\"sk-estimator-id-2\" type=\"checkbox\" ><label for=\"sk-estimator-id-2\" class=\"sk-toggleable__label sk-toggleable__label-arrow\">SelectPercentile</label><div class=\"sk-toggleable__content\"><pre>SelectPercentile(percentile=67)</pre></div></div></div><div class=\"sk-item\"><div class=\"sk-estimator sk-toggleable\"><input class=\"sk-toggleable__control sk-hidden--visually\" id=\"sk-estimator-id-3\" type=\"checkbox\" ><label for=\"sk-estimator-id-3\" class=\"sk-toggleable__label sk-toggleable__label-arrow\">RandomForestClassifier</label><div class=\"sk-toggleable__content\"><pre>RandomForestClassifier(max_features=0.7500000000000001, min_samples_leaf=8,\n",
              "                       min_samples_split=3, random_state=42)</pre></div></div></div></div></div></div></div>"
            ]
          },
          "metadata": {},
          "execution_count": 22
        }
      ]
    },
    {
      "cell_type": "code",
      "source": [
        "tpot.score(X_test, y_test)"
      ],
      "metadata": {
        "colab": {
          "base_uri": "https://localhost:8080/",
          "height": 177
        },
        "id": "HFx0CIenldxJ",
        "outputId": "f4b537a5-24df-43cb-d466-1ffec2473837"
      },
      "execution_count": 2,
      "outputs": [
        {
          "output_type": "error",
          "ename": "NameError",
          "evalue": "name 'tpot' is not defined",
          "traceback": [
            "\u001b[0;31m---------------------------------------------------------------------------\u001b[0m",
            "\u001b[0;31mNameError\u001b[0m                                 Traceback (most recent call last)",
            "\u001b[0;32m<ipython-input-2-4ba329c2671b>\u001b[0m in \u001b[0;36m<cell line: 1>\u001b[0;34m()\u001b[0m\n\u001b[0;32m----> 1\u001b[0;31m \u001b[0mtpot\u001b[0m\u001b[0;34m.\u001b[0m\u001b[0mscore\u001b[0m\u001b[0;34m(\u001b[0m\u001b[0mX_test\u001b[0m\u001b[0;34m,\u001b[0m \u001b[0my_test\u001b[0m\u001b[0;34m)\u001b[0m\u001b[0;34m\u001b[0m\u001b[0;34m\u001b[0m\u001b[0m\n\u001b[0m",
            "\u001b[0;31mNameError\u001b[0m: name 'tpot' is not defined"
          ]
        }
      ]
    },
    {
      "cell_type": "code",
      "source": [
        "tpot.score(X_train, y_train)"
      ],
      "metadata": {
        "colab": {
          "base_uri": "https://localhost:8080/",
          "height": 177
        },
        "id": "nAyi4BgHldz4",
        "outputId": "af82003c-2eda-400a-b77a-e3b42ec77818"
      },
      "execution_count": 3,
      "outputs": [
        {
          "output_type": "error",
          "ename": "NameError",
          "evalue": "name 'tpot' is not defined",
          "traceback": [
            "\u001b[0;31m---------------------------------------------------------------------------\u001b[0m",
            "\u001b[0;31mNameError\u001b[0m                                 Traceback (most recent call last)",
            "\u001b[0;32m<ipython-input-3-39a46ba65c78>\u001b[0m in \u001b[0;36m<cell line: 1>\u001b[0;34m()\u001b[0m\n\u001b[0;32m----> 1\u001b[0;31m \u001b[0mtpot\u001b[0m\u001b[0;34m.\u001b[0m\u001b[0mscore\u001b[0m\u001b[0;34m(\u001b[0m\u001b[0mX_train\u001b[0m\u001b[0;34m,\u001b[0m \u001b[0my_train\u001b[0m\u001b[0;34m)\u001b[0m\u001b[0;34m\u001b[0m\u001b[0;34m\u001b[0m\u001b[0m\n\u001b[0m",
            "\u001b[0;31mNameError\u001b[0m: name 'tpot' is not defined"
          ]
        }
      ]
    },
    {
      "cell_type": "code",
      "source": [
        "!pip install tensorflow\n"
      ],
      "metadata": {
        "colab": {
          "base_uri": "https://localhost:8080/"
        },
        "id": "8d2qlxIr8mry",
        "outputId": "a876e1b5-562f-47d3-9994-4b626565fc73"
      },
      "execution_count": 1,
      "outputs": [
        {
          "output_type": "stream",
          "name": "stdout",
          "text": [
            "Requirement already satisfied: tensorflow in /usr/local/lib/python3.10/dist-packages (2.15.0)\n",
            "Requirement already satisfied: absl-py>=1.0.0 in /usr/local/lib/python3.10/dist-packages (from tensorflow) (1.4.0)\n",
            "Requirement already satisfied: astunparse>=1.6.0 in /usr/local/lib/python3.10/dist-packages (from tensorflow) (1.6.3)\n",
            "Requirement already satisfied: flatbuffers>=23.5.26 in /usr/local/lib/python3.10/dist-packages (from tensorflow) (23.5.26)\n",
            "Requirement already satisfied: gast!=0.5.0,!=0.5.1,!=0.5.2,>=0.2.1 in /usr/local/lib/python3.10/dist-packages (from tensorflow) (0.5.4)\n",
            "Requirement already satisfied: google-pasta>=0.1.1 in /usr/local/lib/python3.10/dist-packages (from tensorflow) (0.2.0)\n",
            "Requirement already satisfied: h5py>=2.9.0 in /usr/local/lib/python3.10/dist-packages (from tensorflow) (3.9.0)\n",
            "Requirement already satisfied: libclang>=13.0.0 in /usr/local/lib/python3.10/dist-packages (from tensorflow) (16.0.6)\n",
            "Requirement already satisfied: ml-dtypes~=0.2.0 in /usr/local/lib/python3.10/dist-packages (from tensorflow) (0.2.0)\n",
            "Requirement already satisfied: numpy<2.0.0,>=1.23.5 in /usr/local/lib/python3.10/dist-packages (from tensorflow) (1.23.5)\n",
            "Requirement already satisfied: opt-einsum>=2.3.2 in /usr/local/lib/python3.10/dist-packages (from tensorflow) (3.3.0)\n",
            "Requirement already satisfied: packaging in /usr/local/lib/python3.10/dist-packages (from tensorflow) (23.2)\n",
            "Requirement already satisfied: protobuf!=4.21.0,!=4.21.1,!=4.21.2,!=4.21.3,!=4.21.4,!=4.21.5,<5.0.0dev,>=3.20.3 in /usr/local/lib/python3.10/dist-packages (from tensorflow) (3.20.3)\n",
            "Requirement already satisfied: setuptools in /usr/local/lib/python3.10/dist-packages (from tensorflow) (67.7.2)\n",
            "Requirement already satisfied: six>=1.12.0 in /usr/local/lib/python3.10/dist-packages (from tensorflow) (1.16.0)\n",
            "Requirement already satisfied: termcolor>=1.1.0 in /usr/local/lib/python3.10/dist-packages (from tensorflow) (2.4.0)\n",
            "Requirement already satisfied: typing-extensions>=3.6.6 in /usr/local/lib/python3.10/dist-packages (from tensorflow) (4.9.0)\n",
            "Requirement already satisfied: wrapt<1.15,>=1.11.0 in /usr/local/lib/python3.10/dist-packages (from tensorflow) (1.14.1)\n",
            "Requirement already satisfied: tensorflow-io-gcs-filesystem>=0.23.1 in /usr/local/lib/python3.10/dist-packages (from tensorflow) (0.36.0)\n",
            "Requirement already satisfied: grpcio<2.0,>=1.24.3 in /usr/local/lib/python3.10/dist-packages (from tensorflow) (1.60.1)\n",
            "Requirement already satisfied: tensorboard<2.16,>=2.15 in /usr/local/lib/python3.10/dist-packages (from tensorflow) (2.15.1)\n",
            "Requirement already satisfied: tensorflow-estimator<2.16,>=2.15.0 in /usr/local/lib/python3.10/dist-packages (from tensorflow) (2.15.0)\n",
            "Requirement already satisfied: keras<2.16,>=2.15.0 in /usr/local/lib/python3.10/dist-packages (from tensorflow) (2.15.0)\n",
            "Requirement already satisfied: wheel<1.0,>=0.23.0 in /usr/local/lib/python3.10/dist-packages (from astunparse>=1.6.0->tensorflow) (0.42.0)\n",
            "Requirement already satisfied: google-auth<3,>=1.6.3 in /usr/local/lib/python3.10/dist-packages (from tensorboard<2.16,>=2.15->tensorflow) (2.17.3)\n",
            "Requirement already satisfied: google-auth-oauthlib<2,>=0.5 in /usr/local/lib/python3.10/dist-packages (from tensorboard<2.16,>=2.15->tensorflow) (1.2.0)\n",
            "Requirement already satisfied: markdown>=2.6.8 in /usr/local/lib/python3.10/dist-packages (from tensorboard<2.16,>=2.15->tensorflow) (3.5.2)\n",
            "Requirement already satisfied: requests<3,>=2.21.0 in /usr/local/lib/python3.10/dist-packages (from tensorboard<2.16,>=2.15->tensorflow) (2.31.0)\n",
            "Requirement already satisfied: tensorboard-data-server<0.8.0,>=0.7.0 in /usr/local/lib/python3.10/dist-packages (from tensorboard<2.16,>=2.15->tensorflow) (0.7.2)\n",
            "Requirement already satisfied: werkzeug>=1.0.1 in /usr/local/lib/python3.10/dist-packages (from tensorboard<2.16,>=2.15->tensorflow) (3.0.1)\n",
            "Requirement already satisfied: cachetools<6.0,>=2.0.0 in /usr/local/lib/python3.10/dist-packages (from google-auth<3,>=1.6.3->tensorboard<2.16,>=2.15->tensorflow) (5.3.2)\n",
            "Requirement already satisfied: pyasn1-modules>=0.2.1 in /usr/local/lib/python3.10/dist-packages (from google-auth<3,>=1.6.3->tensorboard<2.16,>=2.15->tensorflow) (0.3.0)\n",
            "Requirement already satisfied: rsa<5,>=3.1.4 in /usr/local/lib/python3.10/dist-packages (from google-auth<3,>=1.6.3->tensorboard<2.16,>=2.15->tensorflow) (4.9)\n",
            "Requirement already satisfied: requests-oauthlib>=0.7.0 in /usr/local/lib/python3.10/dist-packages (from google-auth-oauthlib<2,>=0.5->tensorboard<2.16,>=2.15->tensorflow) (1.3.1)\n",
            "Requirement already satisfied: charset-normalizer<4,>=2 in /usr/local/lib/python3.10/dist-packages (from requests<3,>=2.21.0->tensorboard<2.16,>=2.15->tensorflow) (3.3.2)\n",
            "Requirement already satisfied: idna<4,>=2.5 in /usr/local/lib/python3.10/dist-packages (from requests<3,>=2.21.0->tensorboard<2.16,>=2.15->tensorflow) (3.6)\n",
            "Requirement already satisfied: urllib3<3,>=1.21.1 in /usr/local/lib/python3.10/dist-packages (from requests<3,>=2.21.0->tensorboard<2.16,>=2.15->tensorflow) (2.0.7)\n",
            "Requirement already satisfied: certifi>=2017.4.17 in /usr/local/lib/python3.10/dist-packages (from requests<3,>=2.21.0->tensorboard<2.16,>=2.15->tensorflow) (2024.2.2)\n",
            "Requirement already satisfied: MarkupSafe>=2.1.1 in /usr/local/lib/python3.10/dist-packages (from werkzeug>=1.0.1->tensorboard<2.16,>=2.15->tensorflow) (2.1.5)\n",
            "Requirement already satisfied: pyasn1<0.6.0,>=0.4.6 in /usr/local/lib/python3.10/dist-packages (from pyasn1-modules>=0.2.1->google-auth<3,>=1.6.3->tensorboard<2.16,>=2.15->tensorflow) (0.5.1)\n",
            "Requirement already satisfied: oauthlib>=3.0.0 in /usr/local/lib/python3.10/dist-packages (from requests-oauthlib>=0.7.0->google-auth-oauthlib<2,>=0.5->tensorboard<2.16,>=2.15->tensorflow) (3.2.2)\n"
          ]
        }
      ]
    },
    {
      "cell_type": "code",
      "source": [
        "import pandas as pd\n",
        "\n",
        "# Load the datasets\n",
        "train_df = pd.read_excel('/content/balanced_train.xlsx')\n",
        "test_df = pd.read_excel('/content/test_data.xlsx')\n",
        "\n",
        "# Prepare the data\n",
        "X_train = train_df.drop('STATUS_dead_alive', axis=1)\n",
        "y_train = train_df['STATUS_dead_alive']\n",
        "X_test = test_df.drop('STATUS_dead_alive', axis=1)\n",
        "y_test = test_df['STATUS_dead_alive']\n"
      ],
      "metadata": {
        "id": "vyv2QCgW8mu-"
      },
      "execution_count": 2,
      "outputs": []
    },
    {
      "cell_type": "code",
      "source": [
        "from tensorflow.keras.models import Sequential\n",
        "from tensorflow.keras.layers import Dense\n",
        "from tensorflow.keras.optimizers import Adam\n",
        "from sklearn.metrics import f1_score\n",
        "import numpy as np"
      ],
      "metadata": {
        "id": "Ea32bypU8myO"
      },
      "execution_count": 3,
      "outputs": []
    },
    {
      "cell_type": "code",
      "source": [
        "import tensorflow as tf\n",
        "from tensorflow.keras.models import Sequential\n",
        "from tensorflow.keras.layers import Dense, Dropout\n",
        "from tensorflow.keras.optimizers import Adam\n",
        "\n",
        "# Model architecture\n",
        "model = Sequential([\n",
        "    Dense(128, activation='relu', input_shape=(X_train.shape[1],)),\n",
        "    Dropout(0.5),\n",
        "    Dense(64, activation='relu'),\n",
        "    Dropout(0.5),\n",
        "    Dense(1, activation='sigmoid')\n",
        "])\n",
        "\n",
        "model.compile(optimizer=Adam(learning_rate=0.001),\n",
        "              loss='binary_crossentropy',\n",
        "              metrics=[tf.keras.metrics.BinaryAccuracy(name='accuracy'), tf.keras.metrics.Precision(name='precision'), tf.keras.metrics.Recall(name='recall')])\n",
        "history = model.fit(X_train, y_train, epochs=100, batch_size=32, validation_split=0.2, verbose=1)\n",
        "from sklearn.metrics import f1_score\n",
        "\n",
        "# Predictions\n",
        "y_train_pred = (model.predict(X_train) > 0.5).astype(\"int32\")\n",
        "y_test_pred = (model.predict(X_test) > 0.5).astype(\"int32\")\n",
        "\n",
        "# F1 scores\n",
        "train_f1 = f1_score(y_train, y_train_pred)\n",
        "test_f1 = f1_score(y_test, y_test_pred)\n",
        "\n",
        "print(f\"Train F1 Score: {train_f1}\")\n",
        "print(f\"Test F1 Score: {test_f1}\")\n"
      ],
      "metadata": {
        "colab": {
          "base_uri": "https://localhost:8080/"
        },
        "id": "ZTn1aWKQ9Csq",
        "outputId": "bea7dff5-ab18-4016-a35f-0e3c7a5dbca3"
      },
      "execution_count": 33,
      "outputs": [
        {
          "output_type": "stream",
          "name": "stdout",
          "text": [
            "Epoch 1/100\n",
            "55/55 [==============================] - 3s 15ms/step - loss: 0.5606 - accuracy: 0.7554 - precision: 0.8005 - recall: 0.4628 - val_loss: 0.5906 - val_accuracy: 0.7727 - val_precision: 1.0000 - val_recall: 0.7727\n",
            "Epoch 2/100\n",
            "55/55 [==============================] - 0s 7ms/step - loss: 0.3352 - accuracy: 0.8976 - precision: 0.8894 - recall: 0.8300 - val_loss: 0.4567 - val_accuracy: 0.8455 - val_precision: 1.0000 - val_recall: 0.8455\n",
            "Epoch 3/100\n",
            "55/55 [==============================] - 0s 6ms/step - loss: 0.2725 - accuracy: 0.9124 - precision: 0.8989 - recall: 0.8634 - val_loss: 0.4054 - val_accuracy: 0.8705 - val_precision: 1.0000 - val_recall: 0.8705\n",
            "Epoch 4/100\n",
            "55/55 [==============================] - 0s 7ms/step - loss: 0.2516 - accuracy: 0.9221 - precision: 0.8991 - recall: 0.8923 - val_loss: 0.4479 - val_accuracy: 0.8727 - val_precision: 1.0000 - val_recall: 0.8727\n",
            "Epoch 5/100\n",
            "55/55 [==============================] - 0s 6ms/step - loss: 0.2401 - accuracy: 0.9278 - precision: 0.9080 - recall: 0.8983 - val_loss: 0.4515 - val_accuracy: 0.8727 - val_precision: 1.0000 - val_recall: 0.8727\n",
            "Epoch 6/100\n",
            "55/55 [==============================] - 0s 4ms/step - loss: 0.2482 - accuracy: 0.9255 - precision: 0.9138 - recall: 0.8847 - val_loss: 0.4070 - val_accuracy: 0.8727 - val_precision: 1.0000 - val_recall: 0.8727\n",
            "Epoch 7/100\n",
            "55/55 [==============================] - 0s 4ms/step - loss: 0.2188 - accuracy: 0.9261 - precision: 0.9088 - recall: 0.8923 - val_loss: 0.4744 - val_accuracy: 0.8727 - val_precision: 1.0000 - val_recall: 0.8727\n",
            "Epoch 8/100\n",
            "55/55 [==============================] - 0s 4ms/step - loss: 0.2261 - accuracy: 0.9329 - precision: 0.9155 - recall: 0.9044 - val_loss: 0.4145 - val_accuracy: 0.8773 - val_precision: 1.0000 - val_recall: 0.8773\n",
            "Epoch 9/100\n",
            "55/55 [==============================] - 0s 3ms/step - loss: 0.2283 - accuracy: 0.9295 - precision: 0.9072 - recall: 0.9044 - val_loss: 0.4690 - val_accuracy: 0.8773 - val_precision: 1.0000 - val_recall: 0.8773\n",
            "Epoch 10/100\n",
            "55/55 [==============================] - 0s 4ms/step - loss: 0.2233 - accuracy: 0.9295 - precision: 0.9047 - recall: 0.9074 - val_loss: 0.4433 - val_accuracy: 0.8773 - val_precision: 1.0000 - val_recall: 0.8773\n",
            "Epoch 11/100\n",
            "55/55 [==============================] - 0s 4ms/step - loss: 0.2176 - accuracy: 0.9334 - precision: 0.9169 - recall: 0.9044 - val_loss: 0.4778 - val_accuracy: 0.8773 - val_precision: 1.0000 - val_recall: 0.8773\n",
            "Epoch 12/100\n",
            "55/55 [==============================] - 0s 3ms/step - loss: 0.2105 - accuracy: 0.9323 - precision: 0.9116 - recall: 0.9074 - val_loss: 0.4865 - val_accuracy: 0.8773 - val_precision: 1.0000 - val_recall: 0.8773\n",
            "Epoch 13/100\n",
            "55/55 [==============================] - 0s 4ms/step - loss: 0.2169 - accuracy: 0.9323 - precision: 0.9066 - recall: 0.9135 - val_loss: 0.4896 - val_accuracy: 0.8773 - val_precision: 1.0000 - val_recall: 0.8773\n",
            "Epoch 14/100\n",
            "55/55 [==============================] - 0s 3ms/step - loss: 0.2143 - accuracy: 0.9323 - precision: 0.9116 - recall: 0.9074 - val_loss: 0.4567 - val_accuracy: 0.8773 - val_precision: 1.0000 - val_recall: 0.8773\n",
            "Epoch 15/100\n",
            "55/55 [==============================] - 0s 4ms/step - loss: 0.2032 - accuracy: 0.9340 - precision: 0.9120 - recall: 0.9120 - val_loss: 0.4784 - val_accuracy: 0.8773 - val_precision: 1.0000 - val_recall: 0.8773\n",
            "Epoch 16/100\n",
            "55/55 [==============================] - 0s 4ms/step - loss: 0.2083 - accuracy: 0.9346 - precision: 0.9121 - recall: 0.9135 - val_loss: 0.5044 - val_accuracy: 0.8773 - val_precision: 1.0000 - val_recall: 0.8773\n",
            "Epoch 17/100\n",
            "55/55 [==============================] - 0s 3ms/step - loss: 0.1980 - accuracy: 0.9363 - precision: 0.9138 - recall: 0.9165 - val_loss: 0.4867 - val_accuracy: 0.8773 - val_precision: 1.0000 - val_recall: 0.8773\n",
            "Epoch 18/100\n",
            "55/55 [==============================] - 0s 4ms/step - loss: 0.2126 - accuracy: 0.9317 - precision: 0.9065 - recall: 0.9120 - val_loss: 0.4889 - val_accuracy: 0.8773 - val_precision: 1.0000 - val_recall: 0.8773\n",
            "Epoch 19/100\n",
            "55/55 [==============================] - 0s 4ms/step - loss: 0.2029 - accuracy: 0.9380 - precision: 0.9167 - recall: 0.9181 - val_loss: 0.4870 - val_accuracy: 0.8773 - val_precision: 1.0000 - val_recall: 0.8773\n",
            "Epoch 20/100\n",
            "55/55 [==============================] - 0s 3ms/step - loss: 0.2035 - accuracy: 0.9369 - precision: 0.9177 - recall: 0.9135 - val_loss: 0.4895 - val_accuracy: 0.8773 - val_precision: 1.0000 - val_recall: 0.8773\n",
            "Epoch 21/100\n",
            "55/55 [==============================] - 0s 3ms/step - loss: 0.1993 - accuracy: 0.9380 - precision: 0.9142 - recall: 0.9211 - val_loss: 0.4949 - val_accuracy: 0.8773 - val_precision: 1.0000 - val_recall: 0.8773\n",
            "Epoch 22/100\n",
            "55/55 [==============================] - 0s 4ms/step - loss: 0.1848 - accuracy: 0.9380 - precision: 0.9167 - recall: 0.9181 - val_loss: 0.5150 - val_accuracy: 0.8773 - val_precision: 1.0000 - val_recall: 0.8773\n",
            "Epoch 23/100\n",
            "55/55 [==============================] - 0s 4ms/step - loss: 0.1925 - accuracy: 0.9386 - precision: 0.9155 - recall: 0.9211 - val_loss: 0.4604 - val_accuracy: 0.8795 - val_precision: 1.0000 - val_recall: 0.8795\n",
            "Epoch 24/100\n",
            "55/55 [==============================] - 0s 6ms/step - loss: 0.1996 - accuracy: 0.9340 - precision: 0.9034 - recall: 0.9226 - val_loss: 0.4978 - val_accuracy: 0.8773 - val_precision: 1.0000 - val_recall: 0.8773\n",
            "Epoch 25/100\n",
            "55/55 [==============================] - 0s 5ms/step - loss: 0.1914 - accuracy: 0.9334 - precision: 0.9057 - recall: 0.9181 - val_loss: 0.4928 - val_accuracy: 0.8773 - val_precision: 1.0000 - val_recall: 0.8773\n",
            "Epoch 26/100\n",
            "55/55 [==============================] - 0s 5ms/step - loss: 0.1905 - accuracy: 0.9357 - precision: 0.9099 - recall: 0.9196 - val_loss: 0.4862 - val_accuracy: 0.8773 - val_precision: 1.0000 - val_recall: 0.8773\n",
            "Epoch 27/100\n",
            "55/55 [==============================] - 0s 5ms/step - loss: 0.1902 - accuracy: 0.9425 - precision: 0.9215 - recall: 0.9256 - val_loss: 0.4735 - val_accuracy: 0.8773 - val_precision: 1.0000 - val_recall: 0.8773\n",
            "Epoch 28/100\n",
            "55/55 [==============================] - 0s 5ms/step - loss: 0.1898 - accuracy: 0.9357 - precision: 0.9111 - recall: 0.9181 - val_loss: 0.5111 - val_accuracy: 0.8773 - val_precision: 1.0000 - val_recall: 0.8773\n",
            "Epoch 29/100\n",
            "55/55 [==============================] - 0s 6ms/step - loss: 0.1859 - accuracy: 0.9397 - precision: 0.9196 - recall: 0.9196 - val_loss: 0.5105 - val_accuracy: 0.8773 - val_precision: 1.0000 - val_recall: 0.8773\n",
            "Epoch 30/100\n",
            "55/55 [==============================] - 0s 6ms/step - loss: 0.1766 - accuracy: 0.9425 - precision: 0.9202 - recall: 0.9272 - val_loss: 0.5518 - val_accuracy: 0.8773 - val_precision: 1.0000 - val_recall: 0.8773\n",
            "Epoch 31/100\n",
            "55/55 [==============================] - 0s 6ms/step - loss: 0.1909 - accuracy: 0.9363 - precision: 0.9138 - recall: 0.9165 - val_loss: 0.5098 - val_accuracy: 0.8773 - val_precision: 1.0000 - val_recall: 0.8773\n",
            "Epoch 32/100\n",
            "55/55 [==============================] - 0s 4ms/step - loss: 0.1905 - accuracy: 0.9357 - precision: 0.9124 - recall: 0.9165 - val_loss: 0.4950 - val_accuracy: 0.8773 - val_precision: 1.0000 - val_recall: 0.8773\n",
            "Epoch 33/100\n",
            "55/55 [==============================] - 0s 4ms/step - loss: 0.1809 - accuracy: 0.9420 - precision: 0.9213 - recall: 0.9241 - val_loss: 0.5280 - val_accuracy: 0.8773 - val_precision: 1.0000 - val_recall: 0.8773\n",
            "Epoch 34/100\n",
            "55/55 [==============================] - 0s 4ms/step - loss: 0.1870 - accuracy: 0.9403 - precision: 0.9197 - recall: 0.9211 - val_loss: 0.5181 - val_accuracy: 0.8773 - val_precision: 1.0000 - val_recall: 0.8773\n",
            "Epoch 35/100\n",
            "55/55 [==============================] - 0s 4ms/step - loss: 0.1819 - accuracy: 0.9357 - precision: 0.9099 - recall: 0.9196 - val_loss: 0.5176 - val_accuracy: 0.8773 - val_precision: 1.0000 - val_recall: 0.8773\n",
            "Epoch 36/100\n",
            "55/55 [==============================] - 0s 3ms/step - loss: 0.1817 - accuracy: 0.9374 - precision: 0.9128 - recall: 0.9211 - val_loss: 0.5303 - val_accuracy: 0.8773 - val_precision: 1.0000 - val_recall: 0.8773\n",
            "Epoch 37/100\n",
            "55/55 [==============================] - 0s 4ms/step - loss: 0.1828 - accuracy: 0.9374 - precision: 0.9165 - recall: 0.9165 - val_loss: 0.5181 - val_accuracy: 0.8773 - val_precision: 1.0000 - val_recall: 0.8773\n",
            "Epoch 38/100\n",
            "55/55 [==============================] - 0s 3ms/step - loss: 0.1754 - accuracy: 0.9408 - precision: 0.9186 - recall: 0.9241 - val_loss: 0.5239 - val_accuracy: 0.8795 - val_precision: 1.0000 - val_recall: 0.8795\n",
            "Epoch 39/100\n",
            "55/55 [==============================] - 0s 3ms/step - loss: 0.1771 - accuracy: 0.9408 - precision: 0.9123 - recall: 0.9317 - val_loss: 0.5303 - val_accuracy: 0.8773 - val_precision: 1.0000 - val_recall: 0.8773\n",
            "Epoch 40/100\n",
            "55/55 [==============================] - 0s 3ms/step - loss: 0.1786 - accuracy: 0.9403 - precision: 0.9197 - recall: 0.9211 - val_loss: 0.4928 - val_accuracy: 0.8773 - val_precision: 1.0000 - val_recall: 0.8773\n",
            "Epoch 41/100\n",
            "55/55 [==============================] - 0s 3ms/step - loss: 0.1743 - accuracy: 0.9408 - precision: 0.9160 - recall: 0.9272 - val_loss: 0.5320 - val_accuracy: 0.8773 - val_precision: 1.0000 - val_recall: 0.8773\n",
            "Epoch 42/100\n",
            "55/55 [==============================] - 0s 4ms/step - loss: 0.1780 - accuracy: 0.9403 - precision: 0.9184 - recall: 0.9226 - val_loss: 0.5534 - val_accuracy: 0.8773 - val_precision: 1.0000 - val_recall: 0.8773\n",
            "Epoch 43/100\n",
            "55/55 [==============================] - 0s 3ms/step - loss: 0.1697 - accuracy: 0.9443 - precision: 0.9269 - recall: 0.9241 - val_loss: 0.5247 - val_accuracy: 0.8773 - val_precision: 1.0000 - val_recall: 0.8773\n",
            "Epoch 44/100\n",
            "55/55 [==============================] - 0s 4ms/step - loss: 0.1733 - accuracy: 0.9386 - precision: 0.9130 - recall: 0.9241 - val_loss: 0.5606 - val_accuracy: 0.8773 - val_precision: 1.0000 - val_recall: 0.8773\n",
            "Epoch 45/100\n",
            "55/55 [==============================] - 0s 4ms/step - loss: 0.1747 - accuracy: 0.9386 - precision: 0.9168 - recall: 0.9196 - val_loss: 0.5495 - val_accuracy: 0.8773 - val_precision: 1.0000 - val_recall: 0.8773\n",
            "Epoch 46/100\n",
            "55/55 [==============================] - 0s 3ms/step - loss: 0.1707 - accuracy: 0.9386 - precision: 0.9245 - recall: 0.9105 - val_loss: 0.5364 - val_accuracy: 0.8773 - val_precision: 1.0000 - val_recall: 0.8773\n",
            "Epoch 47/100\n",
            "55/55 [==============================] - 0s 4ms/step - loss: 0.1727 - accuracy: 0.9403 - precision: 0.9184 - recall: 0.9226 - val_loss: 0.5416 - val_accuracy: 0.8773 - val_precision: 1.0000 - val_recall: 0.8773\n",
            "Epoch 48/100\n",
            "55/55 [==============================] - 0s 4ms/step - loss: 0.1655 - accuracy: 0.9431 - precision: 0.9203 - recall: 0.9287 - val_loss: 0.5485 - val_accuracy: 0.8773 - val_precision: 1.0000 - val_recall: 0.8773\n",
            "Epoch 49/100\n",
            "55/55 [==============================] - 0s 3ms/step - loss: 0.1684 - accuracy: 0.9414 - precision: 0.9225 - recall: 0.9211 - val_loss: 0.5422 - val_accuracy: 0.8773 - val_precision: 1.0000 - val_recall: 0.8773\n",
            "Epoch 50/100\n",
            "55/55 [==============================] - 0s 4ms/step - loss: 0.1703 - accuracy: 0.9437 - precision: 0.9308 - recall: 0.9181 - val_loss: 0.5294 - val_accuracy: 0.8773 - val_precision: 1.0000 - val_recall: 0.8773\n",
            "Epoch 51/100\n",
            "55/55 [==============================] - 0s 3ms/step - loss: 0.1723 - accuracy: 0.9374 - precision: 0.9055 - recall: 0.9302 - val_loss: 0.5498 - val_accuracy: 0.8773 - val_precision: 1.0000 - val_recall: 0.8773\n",
            "Epoch 52/100\n",
            "55/55 [==============================] - 0s 3ms/step - loss: 0.1733 - accuracy: 0.9448 - precision: 0.9219 - recall: 0.9317 - val_loss: 0.5570 - val_accuracy: 0.8773 - val_precision: 1.0000 - val_recall: 0.8773\n",
            "Epoch 53/100\n",
            "55/55 [==============================] - 0s 3ms/step - loss: 0.1701 - accuracy: 0.9414 - precision: 0.9187 - recall: 0.9256 - val_loss: 0.5238 - val_accuracy: 0.8795 - val_precision: 1.0000 - val_recall: 0.8795\n",
            "Epoch 54/100\n",
            "55/55 [==============================] - 0s 4ms/step - loss: 0.1756 - accuracy: 0.9397 - precision: 0.9108 - recall: 0.9302 - val_loss: 0.5255 - val_accuracy: 0.8773 - val_precision: 1.0000 - val_recall: 0.8773\n",
            "Epoch 55/100\n",
            "55/55 [==============================] - 0s 4ms/step - loss: 0.1735 - accuracy: 0.9397 - precision: 0.9158 - recall: 0.9241 - val_loss: 0.5433 - val_accuracy: 0.8773 - val_precision: 1.0000 - val_recall: 0.8773\n",
            "Epoch 56/100\n",
            "55/55 [==============================] - 0s 4ms/step - loss: 0.1782 - accuracy: 0.9391 - precision: 0.9132 - recall: 0.9256 - val_loss: 0.5322 - val_accuracy: 0.8773 - val_precision: 1.0000 - val_recall: 0.8773\n",
            "Epoch 57/100\n",
            "55/55 [==============================] - 0s 3ms/step - loss: 0.1741 - accuracy: 0.9363 - precision: 0.9188 - recall: 0.9105 - val_loss: 0.5120 - val_accuracy: 0.8795 - val_precision: 1.0000 - val_recall: 0.8795\n",
            "Epoch 58/100\n",
            "55/55 [==============================] - 0s 3ms/step - loss: 0.1666 - accuracy: 0.9431 - precision: 0.9203 - recall: 0.9287 - val_loss: 0.5674 - val_accuracy: 0.8773 - val_precision: 1.0000 - val_recall: 0.8773\n",
            "Epoch 59/100\n",
            "55/55 [==============================] - 0s 3ms/step - loss: 0.1694 - accuracy: 0.9443 - precision: 0.9282 - recall: 0.9226 - val_loss: 0.5267 - val_accuracy: 0.8773 - val_precision: 1.0000 - val_recall: 0.8773\n",
            "Epoch 60/100\n",
            "55/55 [==============================] - 0s 3ms/step - loss: 0.1696 - accuracy: 0.9391 - precision: 0.9132 - recall: 0.9256 - val_loss: 0.5640 - val_accuracy: 0.8682 - val_precision: 1.0000 - val_recall: 0.8682\n",
            "Epoch 61/100\n",
            "55/55 [==============================] - 0s 4ms/step - loss: 0.1675 - accuracy: 0.9391 - precision: 0.9169 - recall: 0.9211 - val_loss: 0.5253 - val_accuracy: 0.8795 - val_precision: 1.0000 - val_recall: 0.8795\n",
            "Epoch 62/100\n",
            "55/55 [==============================] - 0s 4ms/step - loss: 0.1686 - accuracy: 0.9397 - precision: 0.9158 - recall: 0.9241 - val_loss: 0.5475 - val_accuracy: 0.8773 - val_precision: 1.0000 - val_recall: 0.8773\n",
            "Epoch 63/100\n",
            "55/55 [==============================] - 0s 4ms/step - loss: 0.1682 - accuracy: 0.9454 - precision: 0.9246 - recall: 0.9302 - val_loss: 0.5683 - val_accuracy: 0.8773 - val_precision: 1.0000 - val_recall: 0.8773\n",
            "Epoch 64/100\n",
            "55/55 [==============================] - 0s 4ms/step - loss: 0.1629 - accuracy: 0.9425 - precision: 0.9202 - recall: 0.9272 - val_loss: 0.5698 - val_accuracy: 0.8682 - val_precision: 1.0000 - val_recall: 0.8682\n",
            "Epoch 65/100\n",
            "55/55 [==============================] - 0s 4ms/step - loss: 0.1698 - accuracy: 0.9425 - precision: 0.9227 - recall: 0.9241 - val_loss: 0.5425 - val_accuracy: 0.8705 - val_precision: 1.0000 - val_recall: 0.8705\n",
            "Epoch 66/100\n",
            "55/55 [==============================] - 0s 4ms/step - loss: 0.1608 - accuracy: 0.9431 - precision: 0.9216 - recall: 0.9272 - val_loss: 0.5589 - val_accuracy: 0.8773 - val_precision: 1.0000 - val_recall: 0.8773\n",
            "Epoch 67/100\n",
            "55/55 [==============================] - 0s 3ms/step - loss: 0.1630 - accuracy: 0.9420 - precision: 0.9213 - recall: 0.9241 - val_loss: 0.5746 - val_accuracy: 0.8773 - val_precision: 1.0000 - val_recall: 0.8773\n",
            "Epoch 68/100\n",
            "55/55 [==============================] - 0s 4ms/step - loss: 0.1697 - accuracy: 0.9397 - precision: 0.9170 - recall: 0.9226 - val_loss: 0.5398 - val_accuracy: 0.8773 - val_precision: 1.0000 - val_recall: 0.8773\n",
            "Epoch 69/100\n",
            "55/55 [==============================] - 0s 4ms/step - loss: 0.1719 - accuracy: 0.9414 - precision: 0.9187 - recall: 0.9256 - val_loss: 0.5394 - val_accuracy: 0.8795 - val_precision: 1.0000 - val_recall: 0.8795\n",
            "Epoch 70/100\n",
            "55/55 [==============================] - 0s 4ms/step - loss: 0.1594 - accuracy: 0.9448 - precision: 0.9245 - recall: 0.9287 - val_loss: 0.5988 - val_accuracy: 0.8568 - val_precision: 1.0000 - val_recall: 0.8568\n",
            "Epoch 71/100\n",
            "55/55 [==============================] - 0s 4ms/step - loss: 0.1636 - accuracy: 0.9425 - precision: 0.9266 - recall: 0.9196 - val_loss: 0.5774 - val_accuracy: 0.8773 - val_precision: 1.0000 - val_recall: 0.8773\n",
            "Epoch 72/100\n",
            "55/55 [==============================] - 0s 3ms/step - loss: 0.1579 - accuracy: 0.9454 - precision: 0.9311 - recall: 0.9226 - val_loss: 0.5563 - val_accuracy: 0.8773 - val_precision: 1.0000 - val_recall: 0.8773\n",
            "Epoch 73/100\n",
            "55/55 [==============================] - 0s 4ms/step - loss: 0.1636 - accuracy: 0.9414 - precision: 0.9212 - recall: 0.9226 - val_loss: 0.5831 - val_accuracy: 0.8568 - val_precision: 1.0000 - val_recall: 0.8568\n",
            "Epoch 74/100\n",
            "55/55 [==============================] - 0s 4ms/step - loss: 0.1612 - accuracy: 0.9408 - precision: 0.9250 - recall: 0.9165 - val_loss: 0.5883 - val_accuracy: 0.8773 - val_precision: 1.0000 - val_recall: 0.8773\n",
            "Epoch 75/100\n",
            "55/55 [==============================] - 0s 4ms/step - loss: 0.1574 - accuracy: 0.9386 - precision: 0.9130 - recall: 0.9241 - val_loss: 0.5841 - val_accuracy: 0.8773 - val_precision: 1.0000 - val_recall: 0.8773\n",
            "Epoch 76/100\n",
            "55/55 [==============================] - 0s 3ms/step - loss: 0.1617 - accuracy: 0.9448 - precision: 0.9258 - recall: 0.9272 - val_loss: 0.5887 - val_accuracy: 0.8773 - val_precision: 1.0000 - val_recall: 0.8773\n",
            "Epoch 77/100\n",
            "55/55 [==============================] - 0s 3ms/step - loss: 0.1604 - accuracy: 0.9420 - precision: 0.9239 - recall: 0.9211 - val_loss: 0.5872 - val_accuracy: 0.8773 - val_precision: 1.0000 - val_recall: 0.8773\n",
            "Epoch 78/100\n",
            "55/55 [==============================] - 0s 5ms/step - loss: 0.1591 - accuracy: 0.9425 - precision: 0.9164 - recall: 0.9317 - val_loss: 0.6095 - val_accuracy: 0.8773 - val_precision: 1.0000 - val_recall: 0.8773\n",
            "Epoch 79/100\n",
            "55/55 [==============================] - 0s 6ms/step - loss: 0.1599 - accuracy: 0.9448 - precision: 0.9350 - recall: 0.9165 - val_loss: 0.5997 - val_accuracy: 0.8773 - val_precision: 1.0000 - val_recall: 0.8773\n",
            "Epoch 80/100\n",
            "55/55 [==============================] - 0s 7ms/step - loss: 0.1649 - accuracy: 0.9391 - precision: 0.9144 - recall: 0.9241 - val_loss: 0.6009 - val_accuracy: 0.8773 - val_precision: 1.0000 - val_recall: 0.8773\n",
            "Epoch 81/100\n",
            "55/55 [==============================] - 0s 7ms/step - loss: 0.1573 - accuracy: 0.9408 - precision: 0.9237 - recall: 0.9181 - val_loss: 0.6166 - val_accuracy: 0.8773 - val_precision: 1.0000 - val_recall: 0.8773\n",
            "Epoch 82/100\n",
            "55/55 [==============================] - 0s 6ms/step - loss: 0.1516 - accuracy: 0.9414 - precision: 0.9199 - recall: 0.9241 - val_loss: 0.6404 - val_accuracy: 0.8682 - val_precision: 1.0000 - val_recall: 0.8682\n",
            "Epoch 83/100\n",
            "55/55 [==============================] - 0s 6ms/step - loss: 0.1515 - accuracy: 0.9414 - precision: 0.9277 - recall: 0.9150 - val_loss: 0.6227 - val_accuracy: 0.8682 - val_precision: 1.0000 - val_recall: 0.8682\n",
            "Epoch 84/100\n",
            "55/55 [==============================] - 0s 7ms/step - loss: 0.1564 - accuracy: 0.9454 - precision: 0.9298 - recall: 0.9241 - val_loss: 0.6317 - val_accuracy: 0.8682 - val_precision: 1.0000 - val_recall: 0.8682\n",
            "Epoch 85/100\n",
            "55/55 [==============================] - 0s 4ms/step - loss: 0.1614 - accuracy: 0.9425 - precision: 0.9240 - recall: 0.9226 - val_loss: 0.6358 - val_accuracy: 0.8659 - val_precision: 1.0000 - val_recall: 0.8659\n",
            "Epoch 86/100\n",
            "55/55 [==============================] - 0s 3ms/step - loss: 0.1616 - accuracy: 0.9425 - precision: 0.9227 - recall: 0.9241 - val_loss: 0.6140 - val_accuracy: 0.8659 - val_precision: 1.0000 - val_recall: 0.8659\n",
            "Epoch 87/100\n",
            "55/55 [==============================] - 0s 3ms/step - loss: 0.1623 - accuracy: 0.9460 - precision: 0.9260 - recall: 0.9302 - val_loss: 0.6152 - val_accuracy: 0.8500 - val_precision: 1.0000 - val_recall: 0.8500\n",
            "Epoch 88/100\n",
            "55/55 [==============================] - 0s 4ms/step - loss: 0.1525 - accuracy: 0.9471 - precision: 0.9367 - recall: 0.9211 - val_loss: 0.5858 - val_accuracy: 0.8773 - val_precision: 1.0000 - val_recall: 0.8773\n",
            "Epoch 89/100\n",
            "55/55 [==============================] - 0s 4ms/step - loss: 0.1640 - accuracy: 0.9425 - precision: 0.9202 - recall: 0.9272 - val_loss: 0.6365 - val_accuracy: 0.8659 - val_precision: 1.0000 - val_recall: 0.8659\n",
            "Epoch 90/100\n",
            "55/55 [==============================] - 0s 4ms/step - loss: 0.1574 - accuracy: 0.9425 - precision: 0.9279 - recall: 0.9181 - val_loss: 0.6331 - val_accuracy: 0.8773 - val_precision: 1.0000 - val_recall: 0.8773\n",
            "Epoch 91/100\n",
            "55/55 [==============================] - 0s 4ms/step - loss: 0.1574 - accuracy: 0.9448 - precision: 0.9271 - recall: 0.9256 - val_loss: 0.6354 - val_accuracy: 0.8773 - val_precision: 1.0000 - val_recall: 0.8773\n",
            "Epoch 92/100\n",
            "55/55 [==============================] - 0s 4ms/step - loss: 0.1589 - accuracy: 0.9454 - precision: 0.9259 - recall: 0.9287 - val_loss: 0.6221 - val_accuracy: 0.8773 - val_precision: 1.0000 - val_recall: 0.8773\n",
            "Epoch 93/100\n",
            "55/55 [==============================] - 0s 4ms/step - loss: 0.1617 - accuracy: 0.9420 - precision: 0.9265 - recall: 0.9181 - val_loss: 0.6499 - val_accuracy: 0.8568 - val_precision: 1.0000 - val_recall: 0.8568\n",
            "Epoch 94/100\n",
            "55/55 [==============================] - 0s 4ms/step - loss: 0.1550 - accuracy: 0.9460 - precision: 0.9325 - recall: 0.9226 - val_loss: 0.6446 - val_accuracy: 0.8773 - val_precision: 1.0000 - val_recall: 0.8773\n",
            "Epoch 95/100\n",
            "55/55 [==============================] - 0s 4ms/step - loss: 0.1553 - accuracy: 0.9431 - precision: 0.9254 - recall: 0.9226 - val_loss: 0.6034 - val_accuracy: 0.8773 - val_precision: 1.0000 - val_recall: 0.8773\n",
            "Epoch 96/100\n",
            "55/55 [==============================] - 0s 4ms/step - loss: 0.1508 - accuracy: 0.9443 - precision: 0.9282 - recall: 0.9226 - val_loss: 0.6173 - val_accuracy: 0.8773 - val_precision: 1.0000 - val_recall: 0.8773\n",
            "Epoch 97/100\n",
            "55/55 [==============================] - 0s 4ms/step - loss: 0.1522 - accuracy: 0.9465 - precision: 0.9326 - recall: 0.9241 - val_loss: 0.6474 - val_accuracy: 0.8568 - val_precision: 1.0000 - val_recall: 0.8568\n",
            "Epoch 98/100\n",
            "55/55 [==============================] - 0s 4ms/step - loss: 0.1563 - accuracy: 0.9443 - precision: 0.9309 - recall: 0.9196 - val_loss: 0.6246 - val_accuracy: 0.8568 - val_precision: 1.0000 - val_recall: 0.8568\n",
            "Epoch 99/100\n",
            "55/55 [==============================] - 0s 4ms/step - loss: 0.1487 - accuracy: 0.9471 - precision: 0.9275 - recall: 0.9317 - val_loss: 0.6408 - val_accuracy: 0.8659 - val_precision: 1.0000 - val_recall: 0.8659\n",
            "Epoch 100/100\n",
            "55/55 [==============================] - 0s 4ms/step - loss: 0.1613 - accuracy: 0.9431 - precision: 0.9267 - recall: 0.9211 - val_loss: 0.6389 - val_accuracy: 0.8568 - val_precision: 1.0000 - val_recall: 0.8568\n",
            "69/69 [==============================] - 0s 1ms/step\n",
            "13/13 [==============================] - 0s 2ms/step\n",
            "Train F1 Score: 0.9266917293233082\n",
            "Test F1 Score: 0.7415730337078652\n"
          ]
        }
      ]
    },
    {
      "cell_type": "code",
      "source": [
        "y_train_pred = (model.predict(X_train) > 0.5).astype(\"int32\")\n",
        "y_test_pred = (model.predict(X_test) > 0.5).astype(\"int32\")\n",
        "\n",
        "train_f1 = f1_score(y_train, y_train_pred)\n",
        "test_f1 = f1_score(y_test, y_test_pred)\n",
        "\n",
        "print(f\"Adjusted Model - Train F1 Score: {train_f1}\")\n",
        "print(f\"Adjusted Model - Test F1 Score: {test_f1}\")\n"
      ],
      "metadata": {
        "colab": {
          "base_uri": "https://localhost:8080/"
        },
        "id": "s9B3hTip9tfO",
        "outputId": "a02c5950-1cb7-4eec-91aa-516013d99e50"
      },
      "execution_count": 34,
      "outputs": [
        {
          "output_type": "stream",
          "name": "stdout",
          "text": [
            "69/69 [==============================] - 0s 1ms/step\n",
            "13/13 [==============================] - 0s 2ms/step\n",
            "Adjusted Model - Train F1 Score: 0.9266917293233082\n",
            "Adjusted Model - Test F1 Score: 0.7415730337078652\n"
          ]
        }
      ]
    },
    {
      "cell_type": "code",
      "source": [
        "import numpy as np\n",
        "import pandas as pd\n",
        "from tensorflow.keras.models import Sequential\n",
        "from tensorflow.keras.layers import Dense, Dropout\n",
        "from tensorflow.keras.regularizers import l1_l2\n",
        "from sklearn.model_selection import StratifiedKFold\n",
        "from sklearn.metrics import f1_score\n",
        "import tensorflow as tf\n"
      ],
      "metadata": {
        "id": "9kR2vZ539Cvc"
      },
      "execution_count": 35,
      "outputs": []
    },
    {
      "cell_type": "code",
      "source": [
        "# Assuming the datasets are already loaded into train_df and test_df\n",
        "X_train = train_df.drop('STATUS_dead_alive', axis=1).values\n",
        "y_train = train_df['STATUS_dead_alive'].values\n",
        "X_test = test_df.drop('STATUS_dead_alive', axis=1).values\n",
        "y_test = test_df['STATUS_dead_alive'].values\n"
      ],
      "metadata": {
        "id": "N3eT3r-XB7D5"
      },
      "execution_count": 36,
      "outputs": []
    },
    {
      "cell_type": "code",
      "source": [
        "def create_model():\n",
        "    model = Sequential([\n",
        "        Dense(128, activation='relu', input_shape=(X_train.shape[1],), kernel_regularizer=l1_l2(l1=0.01, l2=0.01)),\n",
        "        Dropout(0.5),\n",
        "        Dense(64, activation='relu', kernel_regularizer=l1_l2(l1=0.01, l2=0.01)),\n",
        "        Dropout(0.5),\n",
        "        Dense(1, activation='sigmoid')\n",
        "    ])\n",
        "    model.compile(optimizer='adam',\n",
        "                  loss='binary_crossentropy',\n",
        "                  metrics=['accuracy'])\n",
        "    return model\n"
      ],
      "metadata": {
        "id": "vVxsh-6QB7HO"
      },
      "execution_count": 37,
      "outputs": []
    },
    {
      "cell_type": "code",
      "source": [
        "n_splits = 5\n",
        "kfold = StratifiedKFold(n_splits=n_splits, shuffle=True, random_state=42)\n",
        "\n",
        "scores = []\n",
        "for train, val in kfold.split(X_train, y_train):\n",
        "    model = create_model()\n",
        "    model.fit(X_train[train], y_train[train], epochs=100, batch_size=32, verbose=0)\n",
        "\n",
        "    # Generate predictions and calculate F1 score\n",
        "    y_val_pred = (model.predict(X_train[val]) > 0.5).astype(int)\n",
        "    score = f1_score(y_train[val], y_val_pred)\n",
        "    scores.append(score)\n",
        "    print(f\"Validation F1 Score: {score}\")\n",
        "\n",
        "print(f\"Average F1 Score: {np.mean(scores)}\")\n"
      ],
      "metadata": {
        "colab": {
          "base_uri": "https://localhost:8080/"
        },
        "id": "Nj9ZraB5B7Kh",
        "outputId": "7776ed90-6285-4abf-9d17-ee8186b1c8e8"
      },
      "execution_count": 38,
      "outputs": [
        {
          "output_type": "stream",
          "name": "stdout",
          "text": [
            "14/14 [==============================] - 0s 2ms/step\n",
            "Validation F1 Score: 0.9289099526066351\n",
            "14/14 [==============================] - 0s 2ms/step\n",
            "Validation F1 Score: 0.9039812646370023\n",
            "14/14 [==============================] - 0s 2ms/step\n",
            "Validation F1 Score: 0.9039812646370023\n",
            "14/14 [==============================] - 0s 2ms/step\n",
            "Validation F1 Score: 0.8995215311004785\n",
            "14/14 [==============================] - 0s 2ms/step\n",
            "Validation F1 Score: 0.8992974238875878\n",
            "Average F1 Score: 0.9071382873737412\n"
          ]
        }
      ]
    },
    {
      "cell_type": "code",
      "source": [
        "# Retrain on the full training set\n",
        "model = create_model()\n",
        "model.fit(X_train, y_train, epochs=100, batch_size=32, verbose=1)\n",
        "\n",
        "# Evaluate on the test set\n",
        "y_test_pred = (model.predict(X_test) > 0.5).astype(int)\n",
        "test_f1 = f1_score(y_test, y_test_pred)\n",
        "print(f\"Test F1 Score: {test_f1}\")\n"
      ],
      "metadata": {
        "colab": {
          "base_uri": "https://localhost:8080/"
        },
        "id": "z-IRE4cnB7Nd",
        "outputId": "e6e0c679-f5df-48db-a53f-7dfceb17ccb9"
      },
      "execution_count": 39,
      "outputs": [
        {
          "output_type": "stream",
          "name": "stdout",
          "text": [
            "Epoch 1/100\n",
            "69/69 [==============================] - 1s 2ms/step - loss: 7.8103 - accuracy: 0.6365\n",
            "Epoch 2/100\n",
            "69/69 [==============================] - 0s 2ms/step - loss: 2.9997 - accuracy: 0.7411\n",
            "Epoch 3/100\n",
            "69/69 [==============================] - 0s 2ms/step - loss: 1.0086 - accuracy: 0.7357\n",
            "Epoch 4/100\n",
            "69/69 [==============================] - 0s 2ms/step - loss: 0.7078 - accuracy: 0.7411\n",
            "Epoch 5/100\n",
            "69/69 [==============================] - 0s 2ms/step - loss: 0.6660 - accuracy: 0.7807\n",
            "Epoch 6/100\n",
            "69/69 [==============================] - 0s 2ms/step - loss: 0.6424 - accuracy: 0.7907\n",
            "Epoch 7/100\n",
            "69/69 [==============================] - 0s 3ms/step - loss: 0.6219 - accuracy: 0.7939\n",
            "Epoch 8/100\n",
            "69/69 [==============================] - 0s 2ms/step - loss: 0.6107 - accuracy: 0.7989\n",
            "Epoch 9/100\n",
            "69/69 [==============================] - 0s 2ms/step - loss: 0.5858 - accuracy: 0.8157\n",
            "Epoch 10/100\n",
            "69/69 [==============================] - 0s 2ms/step - loss: 0.5869 - accuracy: 0.8135\n",
            "Epoch 11/100\n",
            "69/69 [==============================] - 0s 2ms/step - loss: 0.6025 - accuracy: 0.7975\n",
            "Epoch 12/100\n",
            "69/69 [==============================] - 0s 2ms/step - loss: 0.6055 - accuracy: 0.7957\n",
            "Epoch 13/100\n",
            "69/69 [==============================] - 0s 2ms/step - loss: 0.5793 - accuracy: 0.8135\n",
            "Epoch 14/100\n",
            "69/69 [==============================] - 0s 2ms/step - loss: 0.5926 - accuracy: 0.7962\n",
            "Epoch 15/100\n",
            "69/69 [==============================] - 0s 2ms/step - loss: 0.5817 - accuracy: 0.8057\n",
            "Epoch 16/100\n",
            "69/69 [==============================] - 0s 2ms/step - loss: 0.5820 - accuracy: 0.8062\n",
            "Epoch 17/100\n",
            "69/69 [==============================] - 0s 2ms/step - loss: 0.5708 - accuracy: 0.8085\n",
            "Epoch 18/100\n",
            "69/69 [==============================] - 0s 2ms/step - loss: 0.5902 - accuracy: 0.7957\n",
            "Epoch 19/100\n",
            "69/69 [==============================] - 0s 2ms/step - loss: 0.6053 - accuracy: 0.7898\n",
            "Epoch 20/100\n",
            "69/69 [==============================] - 0s 2ms/step - loss: 0.5738 - accuracy: 0.8066\n",
            "Epoch 21/100\n",
            "69/69 [==============================] - 0s 2ms/step - loss: 0.5705 - accuracy: 0.8121\n",
            "Epoch 22/100\n",
            "69/69 [==============================] - 0s 2ms/step - loss: 0.5839 - accuracy: 0.8085\n",
            "Epoch 23/100\n",
            "69/69 [==============================] - 0s 2ms/step - loss: 0.5894 - accuracy: 0.7971\n",
            "Epoch 24/100\n",
            "69/69 [==============================] - 0s 2ms/step - loss: 0.5716 - accuracy: 0.8071\n",
            "Epoch 25/100\n",
            "69/69 [==============================] - 0s 2ms/step - loss: 0.5761 - accuracy: 0.8044\n",
            "Epoch 26/100\n",
            "69/69 [==============================] - 0s 2ms/step - loss: 0.5737 - accuracy: 0.8071\n",
            "Epoch 27/100\n",
            "69/69 [==============================] - 0s 2ms/step - loss: 0.5773 - accuracy: 0.8053\n",
            "Epoch 28/100\n",
            "69/69 [==============================] - 0s 2ms/step - loss: 0.5837 - accuracy: 0.7998\n",
            "Epoch 29/100\n",
            "69/69 [==============================] - 0s 2ms/step - loss: 0.5819 - accuracy: 0.7980\n",
            "Epoch 30/100\n",
            "69/69 [==============================] - 0s 2ms/step - loss: 0.5813 - accuracy: 0.7994\n",
            "Epoch 31/100\n",
            "69/69 [==============================] - 0s 4ms/step - loss: 0.5739 - accuracy: 0.8039\n",
            "Epoch 32/100\n",
            "69/69 [==============================] - 0s 3ms/step - loss: 0.5834 - accuracy: 0.7912\n",
            "Epoch 33/100\n",
            "69/69 [==============================] - 0s 3ms/step - loss: 0.5914 - accuracy: 0.7944\n",
            "Epoch 34/100\n",
            "69/69 [==============================] - 0s 3ms/step - loss: 0.5658 - accuracy: 0.8066\n",
            "Epoch 35/100\n",
            "69/69 [==============================] - 0s 4ms/step - loss: 0.5651 - accuracy: 0.8103\n",
            "Epoch 36/100\n",
            "69/69 [==============================] - 0s 3ms/step - loss: 0.5649 - accuracy: 0.8048\n",
            "Epoch 37/100\n",
            "69/69 [==============================] - 0s 4ms/step - loss: 0.5675 - accuracy: 0.8085\n",
            "Epoch 38/100\n",
            "69/69 [==============================] - 0s 3ms/step - loss: 0.5635 - accuracy: 0.8030\n",
            "Epoch 39/100\n",
            "69/69 [==============================] - 0s 4ms/step - loss: 0.5545 - accuracy: 0.8162\n",
            "Epoch 40/100\n",
            "69/69 [==============================] - 0s 4ms/step - loss: 0.5615 - accuracy: 0.8107\n",
            "Epoch 41/100\n",
            "69/69 [==============================] - 0s 3ms/step - loss: 0.5526 - accuracy: 0.8135\n",
            "Epoch 42/100\n",
            "69/69 [==============================] - 0s 2ms/step - loss: 0.5760 - accuracy: 0.7980\n",
            "Epoch 43/100\n",
            "69/69 [==============================] - 0s 2ms/step - loss: 0.5721 - accuracy: 0.8025\n",
            "Epoch 44/100\n",
            "69/69 [==============================] - 0s 3ms/step - loss: 0.5788 - accuracy: 0.8003\n",
            "Epoch 45/100\n",
            "69/69 [==============================] - 0s 2ms/step - loss: 0.5671 - accuracy: 0.8030\n",
            "Epoch 46/100\n",
            "69/69 [==============================] - 0s 2ms/step - loss: 0.5729 - accuracy: 0.8053\n",
            "Epoch 47/100\n",
            "69/69 [==============================] - 0s 3ms/step - loss: 0.5770 - accuracy: 0.7966\n",
            "Epoch 48/100\n",
            "69/69 [==============================] - 0s 3ms/step - loss: 0.5788 - accuracy: 0.8025\n",
            "Epoch 49/100\n",
            "69/69 [==============================] - 0s 2ms/step - loss: 0.5554 - accuracy: 0.8089\n",
            "Epoch 50/100\n",
            "69/69 [==============================] - 0s 2ms/step - loss: 0.5831 - accuracy: 0.7939\n",
            "Epoch 51/100\n",
            "69/69 [==============================] - 0s 2ms/step - loss: 0.5707 - accuracy: 0.8007\n",
            "Epoch 52/100\n",
            "69/69 [==============================] - 0s 2ms/step - loss: 0.5641 - accuracy: 0.8080\n",
            "Epoch 53/100\n",
            "69/69 [==============================] - 0s 2ms/step - loss: 0.5733 - accuracy: 0.8003\n",
            "Epoch 54/100\n",
            "69/69 [==============================] - 0s 2ms/step - loss: 0.5547 - accuracy: 0.8089\n",
            "Epoch 55/100\n",
            "69/69 [==============================] - 0s 2ms/step - loss: 0.5602 - accuracy: 0.8016\n",
            "Epoch 56/100\n",
            "69/69 [==============================] - 0s 2ms/step - loss: 0.5579 - accuracy: 0.8112\n",
            "Epoch 57/100\n",
            "69/69 [==============================] - 0s 2ms/step - loss: 0.5445 - accuracy: 0.8198\n",
            "Epoch 58/100\n",
            "69/69 [==============================] - 0s 2ms/step - loss: 0.5717 - accuracy: 0.8071\n",
            "Epoch 59/100\n",
            "69/69 [==============================] - 0s 2ms/step - loss: 0.5473 - accuracy: 0.8126\n",
            "Epoch 60/100\n",
            "69/69 [==============================] - 0s 2ms/step - loss: 0.5601 - accuracy: 0.8126\n",
            "Epoch 61/100\n",
            "69/69 [==============================] - 0s 2ms/step - loss: 0.5659 - accuracy: 0.8089\n",
            "Epoch 62/100\n",
            "69/69 [==============================] - 0s 3ms/step - loss: 0.5634 - accuracy: 0.8039\n",
            "Epoch 63/100\n",
            "69/69 [==============================] - 0s 2ms/step - loss: 0.5503 - accuracy: 0.8135\n",
            "Epoch 64/100\n",
            "69/69 [==============================] - 0s 2ms/step - loss: 0.5614 - accuracy: 0.8076\n",
            "Epoch 65/100\n",
            "69/69 [==============================] - 0s 2ms/step - loss: 0.5349 - accuracy: 0.8148\n",
            "Epoch 66/100\n",
            "69/69 [==============================] - 0s 2ms/step - loss: 0.5497 - accuracy: 0.8167\n",
            "Epoch 67/100\n",
            "69/69 [==============================] - 0s 2ms/step - loss: 0.5599 - accuracy: 0.8003\n",
            "Epoch 68/100\n",
            "69/69 [==============================] - 0s 2ms/step - loss: 0.5724 - accuracy: 0.8003\n",
            "Epoch 69/100\n",
            "69/69 [==============================] - 0s 3ms/step - loss: 0.5525 - accuracy: 0.8121\n",
            "Epoch 70/100\n",
            "69/69 [==============================] - 0s 2ms/step - loss: 0.5515 - accuracy: 0.8094\n",
            "Epoch 71/100\n",
            "69/69 [==============================] - 0s 3ms/step - loss: 0.5483 - accuracy: 0.8126\n",
            "Epoch 72/100\n",
            "69/69 [==============================] - 0s 3ms/step - loss: 0.5575 - accuracy: 0.8048\n",
            "Epoch 73/100\n",
            "69/69 [==============================] - 0s 2ms/step - loss: 0.5630 - accuracy: 0.8035\n",
            "Epoch 74/100\n",
            "69/69 [==============================] - 0s 2ms/step - loss: 0.5494 - accuracy: 0.8089\n",
            "Epoch 75/100\n",
            "69/69 [==============================] - 0s 3ms/step - loss: 0.5482 - accuracy: 0.8116\n",
            "Epoch 76/100\n",
            "69/69 [==============================] - 0s 2ms/step - loss: 0.5584 - accuracy: 0.8085\n",
            "Epoch 77/100\n",
            "69/69 [==============================] - 0s 3ms/step - loss: 0.5540 - accuracy: 0.8053\n",
            "Epoch 78/100\n",
            "69/69 [==============================] - 0s 2ms/step - loss: 0.5488 - accuracy: 0.8071\n",
            "Epoch 79/100\n",
            "69/69 [==============================] - 0s 2ms/step - loss: 0.5630 - accuracy: 0.7925\n",
            "Epoch 80/100\n",
            "69/69 [==============================] - 0s 2ms/step - loss: 0.5398 - accuracy: 0.8189\n",
            "Epoch 81/100\n",
            "69/69 [==============================] - 0s 2ms/step - loss: 0.5562 - accuracy: 0.8044\n",
            "Epoch 82/100\n",
            "69/69 [==============================] - 0s 3ms/step - loss: 0.5515 - accuracy: 0.8066\n",
            "Epoch 83/100\n",
            "69/69 [==============================] - 0s 2ms/step - loss: 0.5446 - accuracy: 0.8098\n",
            "Epoch 84/100\n",
            "69/69 [==============================] - 0s 2ms/step - loss: 0.5640 - accuracy: 0.8066\n",
            "Epoch 85/100\n",
            "69/69 [==============================] - 0s 2ms/step - loss: 0.5439 - accuracy: 0.8126\n",
            "Epoch 86/100\n",
            "69/69 [==============================] - 0s 2ms/step - loss: 0.5679 - accuracy: 0.8003\n",
            "Epoch 87/100\n",
            "69/69 [==============================] - 0s 2ms/step - loss: 0.5589 - accuracy: 0.7962\n",
            "Epoch 88/100\n",
            "69/69 [==============================] - 0s 3ms/step - loss: 0.5630 - accuracy: 0.7966\n",
            "Epoch 89/100\n",
            "69/69 [==============================] - 0s 2ms/step - loss: 0.5618 - accuracy: 0.7971\n",
            "Epoch 90/100\n",
            "69/69 [==============================] - 0s 2ms/step - loss: 0.5565 - accuracy: 0.8007\n",
            "Epoch 91/100\n",
            "69/69 [==============================] - 0s 2ms/step - loss: 0.5310 - accuracy: 0.8207\n",
            "Epoch 92/100\n",
            "69/69 [==============================] - 0s 3ms/step - loss: 0.5403 - accuracy: 0.8121\n",
            "Epoch 93/100\n",
            "69/69 [==============================] - 0s 3ms/step - loss: 0.5440 - accuracy: 0.8162\n",
            "Epoch 94/100\n",
            "69/69 [==============================] - 0s 2ms/step - loss: 0.5427 - accuracy: 0.8144\n",
            "Epoch 95/100\n",
            "69/69 [==============================] - 0s 2ms/step - loss: 0.5372 - accuracy: 0.8094\n",
            "Epoch 96/100\n",
            "69/69 [==============================] - 0s 2ms/step - loss: 0.5614 - accuracy: 0.8025\n",
            "Epoch 97/100\n",
            "69/69 [==============================] - 0s 2ms/step - loss: 0.5394 - accuracy: 0.8130\n",
            "Epoch 98/100\n",
            "69/69 [==============================] - 0s 2ms/step - loss: 0.5517 - accuracy: 0.8035\n",
            "Epoch 99/100\n",
            "69/69 [==============================] - 0s 3ms/step - loss: 0.5598 - accuracy: 0.7985\n",
            "Epoch 100/100\n",
            "69/69 [==============================] - 0s 4ms/step - loss: 0.5436 - accuracy: 0.8103\n",
            "13/13 [==============================] - 0s 2ms/step\n",
            "Test F1 Score: 0.7578947368421053\n"
          ]
        }
      ]
    },
    {
      "cell_type": "code",
      "source": [
        "!pip install autokeras\n"
      ],
      "metadata": {
        "colab": {
          "base_uri": "https://localhost:8080/"
        },
        "id": "yEo8hTgQC1HW",
        "outputId": "5dfbf389-737d-4009-83bc-ff565503794f"
      },
      "execution_count": 40,
      "outputs": [
        {
          "output_type": "stream",
          "name": "stdout",
          "text": [
            "Collecting autokeras\n",
            "  Downloading autokeras-1.1.0-py3-none-any.whl (148 kB)\n",
            "\u001b[2K     \u001b[90m━━━━━━━━━━━━━━━━━━━━━━━━━━━━━━━━━━━━━━━━\u001b[0m \u001b[32m148.6/148.6 kB\u001b[0m \u001b[31m1.7 MB/s\u001b[0m eta \u001b[36m0:00:00\u001b[0m\n",
            "\u001b[?25hRequirement already satisfied: packaging in /usr/local/lib/python3.10/dist-packages (from autokeras) (23.2)\n",
            "Requirement already satisfied: tensorflow>=2.8.0 in /usr/local/lib/python3.10/dist-packages (from autokeras) (2.15.0)\n",
            "Collecting keras-tuner>=1.1.0 (from autokeras)\n",
            "  Downloading keras_tuner-1.4.6-py3-none-any.whl (128 kB)\n",
            "\u001b[2K     \u001b[90m━━━━━━━━━━━━━━━━━━━━━━━━━━━━━━━━━━━━━━━━\u001b[0m \u001b[32m128.9/128.9 kB\u001b[0m \u001b[31m6.5 MB/s\u001b[0m eta \u001b[36m0:00:00\u001b[0m\n",
            "\u001b[?25hCollecting keras-nlp>=0.4.0 (from autokeras)\n",
            "  Downloading keras_nlp-0.7.0-py3-none-any.whl (415 kB)\n",
            "\u001b[2K     \u001b[90m━━━━━━━━━━━━━━━━━━━━━━━━━━━━━━━━━━━━━━━━\u001b[0m \u001b[32m415.4/415.4 kB\u001b[0m \u001b[31m8.1 MB/s\u001b[0m eta \u001b[36m0:00:00\u001b[0m\n",
            "\u001b[?25hRequirement already satisfied: pandas in /usr/local/lib/python3.10/dist-packages (from autokeras) (1.5.3)\n",
            "Collecting keras-core (from keras-nlp>=0.4.0->autokeras)\n",
            "  Downloading keras_core-0.1.7-py3-none-any.whl (950 kB)\n",
            "\u001b[2K     \u001b[90m━━━━━━━━━━━━━━━━━━━━━━━━━━━━━━━━━━━━━━━━\u001b[0m \u001b[32m950.8/950.8 kB\u001b[0m \u001b[31m9.4 MB/s\u001b[0m eta \u001b[36m0:00:00\u001b[0m\n",
            "\u001b[?25hRequirement already satisfied: absl-py in /usr/local/lib/python3.10/dist-packages (from keras-nlp>=0.4.0->autokeras) (1.4.0)\n",
            "Requirement already satisfied: numpy in /usr/local/lib/python3.10/dist-packages (from keras-nlp>=0.4.0->autokeras) (1.23.5)\n",
            "Requirement already satisfied: regex in /usr/local/lib/python3.10/dist-packages (from keras-nlp>=0.4.0->autokeras) (2023.12.25)\n",
            "Requirement already satisfied: rich in /usr/local/lib/python3.10/dist-packages (from keras-nlp>=0.4.0->autokeras) (13.7.0)\n",
            "Requirement already satisfied: dm-tree in /usr/local/lib/python3.10/dist-packages (from keras-nlp>=0.4.0->autokeras) (0.1.8)\n",
            "Requirement already satisfied: kagglehub in /usr/local/lib/python3.10/dist-packages (from keras-nlp>=0.4.0->autokeras) (0.1.9)\n",
            "Collecting tensorflow-text (from keras-nlp>=0.4.0->autokeras)\n",
            "  Downloading tensorflow_text-2.15.0-cp310-cp310-manylinux_2_17_x86_64.manylinux2014_x86_64.whl (5.2 MB)\n",
            "\u001b[2K     \u001b[90m━━━━━━━━━━━━━━━━━━━━━━━━━━━━━━━━━━━━━━━━\u001b[0m \u001b[32m5.2/5.2 MB\u001b[0m \u001b[31m16.4 MB/s\u001b[0m eta \u001b[36m0:00:00\u001b[0m\n",
            "\u001b[?25hRequirement already satisfied: keras in /usr/local/lib/python3.10/dist-packages (from keras-tuner>=1.1.0->autokeras) (2.15.0)\n",
            "Requirement already satisfied: requests in /usr/local/lib/python3.10/dist-packages (from keras-tuner>=1.1.0->autokeras) (2.31.0)\n",
            "Collecting kt-legacy (from keras-tuner>=1.1.0->autokeras)\n",
            "  Downloading kt_legacy-1.0.5-py3-none-any.whl (9.6 kB)\n",
            "Requirement already satisfied: astunparse>=1.6.0 in /usr/local/lib/python3.10/dist-packages (from tensorflow>=2.8.0->autokeras) (1.6.3)\n",
            "Requirement already satisfied: flatbuffers>=23.5.26 in /usr/local/lib/python3.10/dist-packages (from tensorflow>=2.8.0->autokeras) (23.5.26)\n",
            "Requirement already satisfied: gast!=0.5.0,!=0.5.1,!=0.5.2,>=0.2.1 in /usr/local/lib/python3.10/dist-packages (from tensorflow>=2.8.0->autokeras) (0.5.4)\n",
            "Requirement already satisfied: google-pasta>=0.1.1 in /usr/local/lib/python3.10/dist-packages (from tensorflow>=2.8.0->autokeras) (0.2.0)\n",
            "Requirement already satisfied: h5py>=2.9.0 in /usr/local/lib/python3.10/dist-packages (from tensorflow>=2.8.0->autokeras) (3.9.0)\n",
            "Requirement already satisfied: libclang>=13.0.0 in /usr/local/lib/python3.10/dist-packages (from tensorflow>=2.8.0->autokeras) (16.0.6)\n",
            "Requirement already satisfied: ml-dtypes~=0.2.0 in /usr/local/lib/python3.10/dist-packages (from tensorflow>=2.8.0->autokeras) (0.2.0)\n",
            "Requirement already satisfied: opt-einsum>=2.3.2 in /usr/local/lib/python3.10/dist-packages (from tensorflow>=2.8.0->autokeras) (3.3.0)\n",
            "Requirement already satisfied: protobuf!=4.21.0,!=4.21.1,!=4.21.2,!=4.21.3,!=4.21.4,!=4.21.5,<5.0.0dev,>=3.20.3 in /usr/local/lib/python3.10/dist-packages (from tensorflow>=2.8.0->autokeras) (3.20.3)\n",
            "Requirement already satisfied: setuptools in /usr/local/lib/python3.10/dist-packages (from tensorflow>=2.8.0->autokeras) (67.7.2)\n",
            "Requirement already satisfied: six>=1.12.0 in /usr/local/lib/python3.10/dist-packages (from tensorflow>=2.8.0->autokeras) (1.16.0)\n",
            "Requirement already satisfied: termcolor>=1.1.0 in /usr/local/lib/python3.10/dist-packages (from tensorflow>=2.8.0->autokeras) (2.4.0)\n",
            "Requirement already satisfied: typing-extensions>=3.6.6 in /usr/local/lib/python3.10/dist-packages (from tensorflow>=2.8.0->autokeras) (4.9.0)\n",
            "Requirement already satisfied: wrapt<1.15,>=1.11.0 in /usr/local/lib/python3.10/dist-packages (from tensorflow>=2.8.0->autokeras) (1.14.1)\n",
            "Requirement already satisfied: tensorflow-io-gcs-filesystem>=0.23.1 in /usr/local/lib/python3.10/dist-packages (from tensorflow>=2.8.0->autokeras) (0.36.0)\n",
            "Requirement already satisfied: grpcio<2.0,>=1.24.3 in /usr/local/lib/python3.10/dist-packages (from tensorflow>=2.8.0->autokeras) (1.60.1)\n",
            "Requirement already satisfied: tensorboard<2.16,>=2.15 in /usr/local/lib/python3.10/dist-packages (from tensorflow>=2.8.0->autokeras) (2.15.1)\n",
            "Requirement already satisfied: tensorflow-estimator<2.16,>=2.15.0 in /usr/local/lib/python3.10/dist-packages (from tensorflow>=2.8.0->autokeras) (2.15.0)\n",
            "Requirement already satisfied: python-dateutil>=2.8.1 in /usr/local/lib/python3.10/dist-packages (from pandas->autokeras) (2.8.2)\n",
            "Requirement already satisfied: pytz>=2020.1 in /usr/local/lib/python3.10/dist-packages (from pandas->autokeras) (2023.4)\n",
            "Requirement already satisfied: wheel<1.0,>=0.23.0 in /usr/local/lib/python3.10/dist-packages (from astunparse>=1.6.0->tensorflow>=2.8.0->autokeras) (0.42.0)\n",
            "Requirement already satisfied: google-auth<3,>=1.6.3 in /usr/local/lib/python3.10/dist-packages (from tensorboard<2.16,>=2.15->tensorflow>=2.8.0->autokeras) (2.17.3)\n",
            "Requirement already satisfied: google-auth-oauthlib<2,>=0.5 in /usr/local/lib/python3.10/dist-packages (from tensorboard<2.16,>=2.15->tensorflow>=2.8.0->autokeras) (1.2.0)\n",
            "Requirement already satisfied: markdown>=2.6.8 in /usr/local/lib/python3.10/dist-packages (from tensorboard<2.16,>=2.15->tensorflow>=2.8.0->autokeras) (3.5.2)\n",
            "Requirement already satisfied: tensorboard-data-server<0.8.0,>=0.7.0 in /usr/local/lib/python3.10/dist-packages (from tensorboard<2.16,>=2.15->tensorflow>=2.8.0->autokeras) (0.7.2)\n",
            "Requirement already satisfied: werkzeug>=1.0.1 in /usr/local/lib/python3.10/dist-packages (from tensorboard<2.16,>=2.15->tensorflow>=2.8.0->autokeras) (3.0.1)\n",
            "Requirement already satisfied: charset-normalizer<4,>=2 in /usr/local/lib/python3.10/dist-packages (from requests->keras-tuner>=1.1.0->autokeras) (3.3.2)\n",
            "Requirement already satisfied: idna<4,>=2.5 in /usr/local/lib/python3.10/dist-packages (from requests->keras-tuner>=1.1.0->autokeras) (3.6)\n",
            "Requirement already satisfied: urllib3<3,>=1.21.1 in /usr/local/lib/python3.10/dist-packages (from requests->keras-tuner>=1.1.0->autokeras) (2.0.7)\n",
            "Requirement already satisfied: certifi>=2017.4.17 in /usr/local/lib/python3.10/dist-packages (from requests->keras-tuner>=1.1.0->autokeras) (2024.2.2)\n",
            "Requirement already satisfied: tqdm in /usr/local/lib/python3.10/dist-packages (from kagglehub->keras-nlp>=0.4.0->autokeras) (4.66.1)\n",
            "Collecting namex (from keras-core->keras-nlp>=0.4.0->autokeras)\n",
            "  Downloading namex-0.0.7-py3-none-any.whl (5.8 kB)\n",
            "Requirement already satisfied: markdown-it-py>=2.2.0 in /usr/local/lib/python3.10/dist-packages (from rich->keras-nlp>=0.4.0->autokeras) (3.0.0)\n",
            "Requirement already satisfied: pygments<3.0.0,>=2.13.0 in /usr/local/lib/python3.10/dist-packages (from rich->keras-nlp>=0.4.0->autokeras) (2.16.1)\n",
            "Requirement already satisfied: tensorflow-hub>=0.13.0 in /usr/local/lib/python3.10/dist-packages (from tensorflow-text->keras-nlp>=0.4.0->autokeras) (0.16.1)\n",
            "Requirement already satisfied: cachetools<6.0,>=2.0.0 in /usr/local/lib/python3.10/dist-packages (from google-auth<3,>=1.6.3->tensorboard<2.16,>=2.15->tensorflow>=2.8.0->autokeras) (5.3.2)\n",
            "Requirement already satisfied: pyasn1-modules>=0.2.1 in /usr/local/lib/python3.10/dist-packages (from google-auth<3,>=1.6.3->tensorboard<2.16,>=2.15->tensorflow>=2.8.0->autokeras) (0.3.0)\n",
            "Requirement already satisfied: rsa<5,>=3.1.4 in /usr/local/lib/python3.10/dist-packages (from google-auth<3,>=1.6.3->tensorboard<2.16,>=2.15->tensorflow>=2.8.0->autokeras) (4.9)\n",
            "Requirement already satisfied: requests-oauthlib>=0.7.0 in /usr/local/lib/python3.10/dist-packages (from google-auth-oauthlib<2,>=0.5->tensorboard<2.16,>=2.15->tensorflow>=2.8.0->autokeras) (1.3.1)\n",
            "Requirement already satisfied: mdurl~=0.1 in /usr/local/lib/python3.10/dist-packages (from markdown-it-py>=2.2.0->rich->keras-nlp>=0.4.0->autokeras) (0.1.2)\n",
            "Requirement already satisfied: tf-keras>=2.14.1 in /usr/local/lib/python3.10/dist-packages (from tensorflow-hub>=0.13.0->tensorflow-text->keras-nlp>=0.4.0->autokeras) (2.15.0)\n",
            "Requirement already satisfied: MarkupSafe>=2.1.1 in /usr/local/lib/python3.10/dist-packages (from werkzeug>=1.0.1->tensorboard<2.16,>=2.15->tensorflow>=2.8.0->autokeras) (2.1.5)\n",
            "Requirement already satisfied: pyasn1<0.6.0,>=0.4.6 in /usr/local/lib/python3.10/dist-packages (from pyasn1-modules>=0.2.1->google-auth<3,>=1.6.3->tensorboard<2.16,>=2.15->tensorflow>=2.8.0->autokeras) (0.5.1)\n",
            "Requirement already satisfied: oauthlib>=3.0.0 in /usr/local/lib/python3.10/dist-packages (from requests-oauthlib>=0.7.0->google-auth-oauthlib<2,>=0.5->tensorboard<2.16,>=2.15->tensorflow>=2.8.0->autokeras) (3.2.2)\n",
            "Installing collected packages: namex, kt-legacy, keras-tuner, keras-core, tensorflow-text, keras-nlp, autokeras\n",
            "Successfully installed autokeras-1.1.0 keras-core-0.1.7 keras-nlp-0.7.0 keras-tuner-1.4.6 kt-legacy-1.0.5 namex-0.0.7 tensorflow-text-2.15.0\n"
          ]
        }
      ]
    },
    {
      "cell_type": "code",
      "source": [
        "import autokeras as ak\n",
        "from sklearn.metrics import f1_score\n",
        "\n",
        "# Assuming the datasets are loaded into train_df and test_df\n",
        "X_train = train_df.drop('STATUS_dead_alive', axis=1)\n",
        "y_train = train_df['STATUS_dead_alive']\n",
        "X_test = test_df.drop('STATUS_dead_alive', axis=1)\n",
        "y_test = test_df['STATUS_dead_alive']\n",
        "\n",
        "# Define the AutoKeras classifier\n",
        "clf = ak.StructuredDataClassifier(max_trials=10, objective=\"val_accuracy\")\n",
        "\n",
        "# Fit the model\n",
        "clf.fit(X_train, y_train, epochs=10)\n",
        "\n",
        "# Evaluate the model on the training data\n",
        "y_train_pred = clf.predict(X_train)\n",
        "train_f1 = f1_score(y_train, y_train_pred.astype('int'))\n",
        "\n",
        "# Evaluate the model on the test data\n",
        "y_test_pred = clf.predict(X_test)\n",
        "test_f1 = f1_score(y_test, y_test_pred.astype('int'))\n",
        "\n",
        "print(f\"Train F1 Score: {train_f1}\")\n",
        "print(f\"Test F1 Score: {test_f1}\")\n"
      ],
      "metadata": {
        "colab": {
          "base_uri": "https://localhost:8080/"
        },
        "id": "8yjO_lA1C1KY",
        "outputId": "303f626c-4ea1-49f0-e77f-6bc5d5fa8eda"
      },
      "execution_count": 41,
      "outputs": [
        {
          "output_type": "stream",
          "name": "stdout",
          "text": [
            "Trial 10 Complete [00h 00m 11s]\n",
            "val_accuracy: 0.8817734122276306\n",
            "\n",
            "Best val_accuracy So Far: 0.8916256427764893\n",
            "Total elapsed time: 00h 02m 03s\n",
            "Epoch 1/10\n",
            "69/69 [==============================] - 1s 3ms/step - loss: 0.7910 - accuracy: 0.4136\n",
            "Epoch 2/10\n",
            "69/69 [==============================] - 0s 3ms/step - loss: 0.6261 - accuracy: 0.7070\n",
            "Epoch 3/10\n",
            "69/69 [==============================] - 0s 3ms/step - loss: 0.5286 - accuracy: 0.8121\n",
            "Epoch 4/10\n",
            "69/69 [==============================] - 0s 3ms/step - loss: 0.4266 - accuracy: 0.8658\n",
            "Epoch 5/10\n",
            "69/69 [==============================] - 0s 3ms/step - loss: 0.3493 - accuracy: 0.8881\n",
            "Epoch 6/10\n",
            "69/69 [==============================] - 0s 3ms/step - loss: 0.3022 - accuracy: 0.9026\n",
            "Epoch 7/10\n",
            "69/69 [==============================] - 0s 3ms/step - loss: 0.2806 - accuracy: 0.9049\n",
            "Epoch 8/10\n",
            "69/69 [==============================] - 0s 3ms/step - loss: 0.2687 - accuracy: 0.9072\n",
            "Epoch 9/10\n",
            "69/69 [==============================] - 0s 3ms/step - loss: 0.2619 - accuracy: 0.9086\n",
            "Epoch 10/10\n",
            "69/69 [==============================] - 0s 3ms/step - loss: 0.2569 - accuracy: 0.9108\n",
            "69/69 [==============================] - 0s 2ms/step\n",
            "69/69 [==============================] - 0s 2ms/step\n",
            "13/13 [==============================] - 0s 2ms/step\n",
            "13/13 [==============================] - 0s 2ms/step\n",
            "Train F1 Score: 0.9113458888378503\n",
            "Test F1 Score: 0.6481481481481483\n"
          ]
        }
      ]
    },
    {
      "cell_type": "code",
      "source": [
        "import tensorflow as tf\n",
        "from tensorflow.keras import layers, models\n",
        "\n",
        "def residual_block(x, units):\n",
        "    x_skip = x\n",
        "    x = layers.Dense(units, activation='relu')(x)\n",
        "    x = layers.Dense(units, activation='relu')(x)\n",
        "    x = layers.add([x, x_skip])\n",
        "    return x\n"
      ],
      "metadata": {
        "id": "4V_EFZ_jC1NV"
      },
      "execution_count": 42,
      "outputs": []
    },
    {
      "cell_type": "code",
      "source": [
        "def build_model(input_shape):\n",
        "    inputs = tf.keras.Input(shape=(input_shape,))\n",
        "    x = layers.Dense(64, activation='relu')(inputs)\n",
        "    x = residual_block(x, 64)\n",
        "    x = layers.Dense(64, activation='relu')(x)\n",
        "    x = layers.Dropout(0.5)(x)\n",
        "    outputs = layers.Dense(1, activation='sigmoid')(x)\n",
        "\n",
        "    model = models.Model(inputs, outputs)\n",
        "    model.compile(optimizer='adam',\n",
        "                  loss='binary_crossentropy',\n",
        "                  metrics=['accuracy'])\n",
        "    return model\n"
      ],
      "metadata": {
        "id": "6EIG_-v5D6OC"
      },
      "execution_count": 43,
      "outputs": []
    },
    {
      "cell_type": "code",
      "source": [
        "# Assuming the datasets are already loaded and prepared\n",
        "model = build_model(X_train.shape[1])\n",
        "\n",
        "model.fit(X_train, y_train, epochs=10, batch_size=32, validation_split=0.2)\n"
      ],
      "metadata": {
        "colab": {
          "base_uri": "https://localhost:8080/"
        },
        "id": "viDzVTgUD6RR",
        "outputId": "50079e15-fa7c-448c-c7df-6dbcd394eeef"
      },
      "execution_count": 44,
      "outputs": [
        {
          "output_type": "stream",
          "name": "stdout",
          "text": [
            "Epoch 1/10\n",
            "55/55 [==============================] - 4s 8ms/step - loss: 0.4854 - accuracy: 0.8333 - val_loss: 0.3991 - val_accuracy: 0.8727\n",
            "Epoch 2/10\n",
            "55/55 [==============================] - 0s 4ms/step - loss: 0.2429 - accuracy: 0.9226 - val_loss: 0.3817 - val_accuracy: 0.8773\n",
            "Epoch 3/10\n",
            "55/55 [==============================] - 0s 4ms/step - loss: 0.2197 - accuracy: 0.9283 - val_loss: 0.5056 - val_accuracy: 0.8773\n",
            "Epoch 4/10\n",
            "55/55 [==============================] - 0s 4ms/step - loss: 0.2176 - accuracy: 0.9323 - val_loss: 0.3992 - val_accuracy: 0.8795\n",
            "Epoch 5/10\n",
            "55/55 [==============================] - 0s 4ms/step - loss: 0.2045 - accuracy: 0.9369 - val_loss: 0.3531 - val_accuracy: 0.8864\n",
            "Epoch 6/10\n",
            "55/55 [==============================] - 0s 3ms/step - loss: 0.1998 - accuracy: 0.9340 - val_loss: 0.4403 - val_accuracy: 0.8795\n",
            "Epoch 7/10\n",
            "55/55 [==============================] - 0s 4ms/step - loss: 0.1963 - accuracy: 0.9334 - val_loss: 0.5268 - val_accuracy: 0.8705\n",
            "Epoch 8/10\n",
            "55/55 [==============================] - 0s 6ms/step - loss: 0.1944 - accuracy: 0.9374 - val_loss: 0.5492 - val_accuracy: 0.8773\n",
            "Epoch 9/10\n",
            "55/55 [==============================] - 0s 5ms/step - loss: 0.1854 - accuracy: 0.9369 - val_loss: 0.4901 - val_accuracy: 0.8773\n",
            "Epoch 10/10\n",
            "55/55 [==============================] - 0s 6ms/step - loss: 0.1834 - accuracy: 0.9391 - val_loss: 0.5338 - val_accuracy: 0.8705\n"
          ]
        },
        {
          "output_type": "execute_result",
          "data": {
            "text/plain": [
              "<keras.src.callbacks.History at 0x7b27d86720e0>"
            ]
          },
          "metadata": {},
          "execution_count": 44
        }
      ]
    },
    {
      "cell_type": "code",
      "source": [
        "from sklearn.metrics import f1_score\n",
        "\n",
        "y_pred = model.predict(X_test)\n",
        "y_pred = (y_pred > 0.5).astype(int)\n",
        "\n",
        "# Calculate F1 score\n",
        "f1 = f1_score(y_test, y_pred)\n",
        "print(f\"F1 Score: {f1}\")\n"
      ],
      "metadata": {
        "colab": {
          "base_uri": "https://localhost:8080/"
        },
        "id": "eB-1RS7XD6UR",
        "outputId": "34420e26-f33f-4e10-bf3e-ad6617d06623"
      },
      "execution_count": 45,
      "outputs": [
        {
          "output_type": "stream",
          "name": "stdout",
          "text": [
            "13/13 [==============================] - 0s 3ms/step\n",
            "F1 Score: 0.7032967032967032\n"
          ]
        }
      ]
    },
    {
      "cell_type": "code",
      "source": [
        "from sklearn.ensemble import RandomForestClassifier\n",
        "from sklearn.metrics import f1_score\n",
        "\n",
        "# Initialize the model\n",
        "model = RandomForestClassifier(n_estimators=100, random_state=42)\n",
        "\n",
        "# Train the model\n",
        "model.fit(X_train, y_train)\n"
      ],
      "metadata": {
        "colab": {
          "base_uri": "https://localhost:8080/",
          "height": 75
        },
        "id": "5ZSmJ9dLEdza",
        "outputId": "bb4ee31f-42c9-4910-adbc-1b2d6815d57b"
      },
      "execution_count": 21,
      "outputs": [
        {
          "output_type": "execute_result",
          "data": {
            "text/plain": [
              "RandomForestClassifier(random_state=42)"
            ],
            "text/html": [
              "<style>#sk-container-id-2 {color: black;background-color: white;}#sk-container-id-2 pre{padding: 0;}#sk-container-id-2 div.sk-toggleable {background-color: white;}#sk-container-id-2 label.sk-toggleable__label {cursor: pointer;display: block;width: 100%;margin-bottom: 0;padding: 0.3em;box-sizing: border-box;text-align: center;}#sk-container-id-2 label.sk-toggleable__label-arrow:before {content: \"▸\";float: left;margin-right: 0.25em;color: #696969;}#sk-container-id-2 label.sk-toggleable__label-arrow:hover:before {color: black;}#sk-container-id-2 div.sk-estimator:hover label.sk-toggleable__label-arrow:before {color: black;}#sk-container-id-2 div.sk-toggleable__content {max-height: 0;max-width: 0;overflow: hidden;text-align: left;background-color: #f0f8ff;}#sk-container-id-2 div.sk-toggleable__content pre {margin: 0.2em;color: black;border-radius: 0.25em;background-color: #f0f8ff;}#sk-container-id-2 input.sk-toggleable__control:checked~div.sk-toggleable__content {max-height: 200px;max-width: 100%;overflow: auto;}#sk-container-id-2 input.sk-toggleable__control:checked~label.sk-toggleable__label-arrow:before {content: \"▾\";}#sk-container-id-2 div.sk-estimator input.sk-toggleable__control:checked~label.sk-toggleable__label {background-color: #d4ebff;}#sk-container-id-2 div.sk-label input.sk-toggleable__control:checked~label.sk-toggleable__label {background-color: #d4ebff;}#sk-container-id-2 input.sk-hidden--visually {border: 0;clip: rect(1px 1px 1px 1px);clip: rect(1px, 1px, 1px, 1px);height: 1px;margin: -1px;overflow: hidden;padding: 0;position: absolute;width: 1px;}#sk-container-id-2 div.sk-estimator {font-family: monospace;background-color: #f0f8ff;border: 1px dotted black;border-radius: 0.25em;box-sizing: border-box;margin-bottom: 0.5em;}#sk-container-id-2 div.sk-estimator:hover {background-color: #d4ebff;}#sk-container-id-2 div.sk-parallel-item::after {content: \"\";width: 100%;border-bottom: 1px solid gray;flex-grow: 1;}#sk-container-id-2 div.sk-label:hover label.sk-toggleable__label {background-color: #d4ebff;}#sk-container-id-2 div.sk-serial::before {content: \"\";position: absolute;border-left: 1px solid gray;box-sizing: border-box;top: 0;bottom: 0;left: 50%;z-index: 0;}#sk-container-id-2 div.sk-serial {display: flex;flex-direction: column;align-items: center;background-color: white;padding-right: 0.2em;padding-left: 0.2em;position: relative;}#sk-container-id-2 div.sk-item {position: relative;z-index: 1;}#sk-container-id-2 div.sk-parallel {display: flex;align-items: stretch;justify-content: center;background-color: white;position: relative;}#sk-container-id-2 div.sk-item::before, #sk-container-id-2 div.sk-parallel-item::before {content: \"\";position: absolute;border-left: 1px solid gray;box-sizing: border-box;top: 0;bottom: 0;left: 50%;z-index: -1;}#sk-container-id-2 div.sk-parallel-item {display: flex;flex-direction: column;z-index: 1;position: relative;background-color: white;}#sk-container-id-2 div.sk-parallel-item:first-child::after {align-self: flex-end;width: 50%;}#sk-container-id-2 div.sk-parallel-item:last-child::after {align-self: flex-start;width: 50%;}#sk-container-id-2 div.sk-parallel-item:only-child::after {width: 0;}#sk-container-id-2 div.sk-dashed-wrapped {border: 1px dashed gray;margin: 0 0.4em 0.5em 0.4em;box-sizing: border-box;padding-bottom: 0.4em;background-color: white;}#sk-container-id-2 div.sk-label label {font-family: monospace;font-weight: bold;display: inline-block;line-height: 1.2em;}#sk-container-id-2 div.sk-label-container {text-align: center;}#sk-container-id-2 div.sk-container {/* jupyter's `normalize.less` sets `[hidden] { display: none; }` but bootstrap.min.css set `[hidden] { display: none !important; }` so we also need the `!important` here to be able to override the default hidden behavior on the sphinx rendered scikit-learn.org. See: https://github.com/scikit-learn/scikit-learn/issues/21755 */display: inline-block !important;position: relative;}#sk-container-id-2 div.sk-text-repr-fallback {display: none;}</style><div id=\"sk-container-id-2\" class=\"sk-top-container\"><div class=\"sk-text-repr-fallback\"><pre>RandomForestClassifier(random_state=42)</pre><b>In a Jupyter environment, please rerun this cell to show the HTML representation or trust the notebook. <br />On GitHub, the HTML representation is unable to render, please try loading this page with nbviewer.org.</b></div><div class=\"sk-container\" hidden><div class=\"sk-item\"><div class=\"sk-estimator sk-toggleable\"><input class=\"sk-toggleable__control sk-hidden--visually\" id=\"sk-estimator-id-2\" type=\"checkbox\" checked><label for=\"sk-estimator-id-2\" class=\"sk-toggleable__label sk-toggleable__label-arrow\">RandomForestClassifier</label><div class=\"sk-toggleable__content\"><pre>RandomForestClassifier(random_state=42)</pre></div></div></div></div></div>"
            ]
          },
          "metadata": {},
          "execution_count": 21
        }
      ]
    },
    {
      "cell_type": "code",
      "source": [
        "from sklearn.metrics import f1_score\n",
        "\n",
        "# Make predictions\n",
        "y_train_pred = model.predict(X_train)\n",
        "y_test_pred = model.predict(X_test)\n",
        "\n",
        "# Calculate F1 scores\n",
        "f1_train = f1_score(y_train, y_train_pred)\n",
        "f1_test = f1_score(y_test, y_test_pred)\n",
        "\n",
        "print(f\"Training F1 Score: {f1_train}\")\n",
        "print(f\"Test F1 Score: {f1_test}\")\n"
      ],
      "metadata": {
        "colab": {
          "base_uri": "https://localhost:8080/"
        },
        "id": "1Pq5i_JvEd2J",
        "outputId": "141b0aab-2ade-4045-929c-501e825ab7d1"
      },
      "execution_count": 47,
      "outputs": [
        {
          "output_type": "stream",
          "name": "stdout",
          "text": [
            "Training F1 Score: 0.9412835685025034\n",
            "Test F1 Score: 0.6481481481481483\n"
          ]
        }
      ]
    },
    {
      "cell_type": "code",
      "source": [
        "from sklearn.ensemble import RandomForestClassifier\n",
        "from sklearn.model_selection import GridSearchCV\n",
        "\n",
        "# Define the parameter grid\n",
        "param_grid = {\n",
        "    'n_estimators': [50, 100, 200],\n",
        "    'max_depth': [None, 10, 20, 30],\n",
        "    'min_samples_split': [2, 5, 10],\n",
        "    'min_samples_leaf': [1, 2, 4]\n",
        "}\n",
        "\n",
        "# Initialize the model\n",
        "rf = RandomForestClassifier(random_state=42)\n",
        "\n",
        "# Initialize the GridSearchCV\n",
        "grid_search = GridSearchCV(estimator=rf, param_grid=param_grid, cv=3, scoring='f1', verbose=2, n_jobs=-1)\n",
        "\n",
        "# Fit the GridSearchCV\n",
        "grid_search.fit(X_train, y_train)\n",
        "\n",
        "# Best parameters and F1 score\n",
        "print(\"Best Parameters:\", grid_search.best_params_)\n",
        "print(\"Best F1 Score:\", grid_search.best_score_)\n",
        "\n",
        "# Evaluate on the test set with the best parameters\n",
        "best_model = grid_search.best_estimator_\n",
        "y_test_pred = best_model.predict(X_test)\n",
        "print(\"Test F1 Score with Best Model:\", f1_score(y_test, y_test_pred))\n"
      ],
      "metadata": {
        "colab": {
          "base_uri": "https://localhost:8080/"
        },
        "id": "oZYLAsYvEd5L",
        "outputId": "8eb60bd2-335e-4a31-8d25-6d0a7c09e3c8"
      },
      "execution_count": 48,
      "outputs": [
        {
          "output_type": "stream",
          "name": "stdout",
          "text": [
            "Fitting 3 folds for each of 108 candidates, totalling 324 fits\n",
            "Best Parameters: {'max_depth': 10, 'min_samples_leaf': 1, 'min_samples_split': 2, 'n_estimators': 200}\n",
            "Best F1 Score: 0.9140009346214426\n",
            "Test F1 Score with Best Model: 0.7446808510638299\n"
          ]
        }
      ]
    },
    {
      "cell_type": "code",
      "source": [
        "from sklearn.ensemble import RandomForestClassifier\n",
        "from sklearn.feature_selection import SelectFromModel\n",
        "\n",
        "# Assuming X_train and y_train are defined as before\n",
        "\n",
        "# Fit a model to compute feature importances\n",
        "model = RandomForestClassifier()\n",
        "model.fit(X_train, y_train)\n",
        "\n",
        "# Select features based on importance\n",
        "selector = SelectFromModel(model, prefit=True, threshold='mean')  # Keep features with importance above the mean\n",
        "X_train_reduced = selector.transform(X_train)\n",
        "X_test_reduced = selector.transform(X_test)\n",
        "\n",
        "print(f\"Original number of features: {X_train.shape[1]}\")\n",
        "print(f\"Reduced number of features: {X_train_reduced.shape[1]}\")\n"
      ],
      "metadata": {
        "colab": {
          "base_uri": "https://localhost:8080/"
        },
        "id": "4Y8O8WQgGRM0",
        "outputId": "705a79fe-a707-4baf-cf73-234dc31bae54"
      },
      "execution_count": 49,
      "outputs": [
        {
          "output_type": "stream",
          "name": "stdout",
          "text": [
            "Original number of features: 16\n",
            "Reduced number of features: 1\n"
          ]
        },
        {
          "output_type": "stream",
          "name": "stderr",
          "text": [
            "/usr/local/lib/python3.10/dist-packages/sklearn/base.py:432: UserWarning: X has feature names, but SelectFromModel was fitted without feature names\n",
            "  warnings.warn(\n",
            "/usr/local/lib/python3.10/dist-packages/sklearn/base.py:432: UserWarning: X has feature names, but SelectFromModel was fitted without feature names\n",
            "  warnings.warn(\n"
          ]
        }
      ]
    },
    {
      "cell_type": "code",
      "source": [
        "from sklearn.ensemble import RandomForestClassifier\n",
        "from sklearn.feature_selection import SelectFromModel\n",
        "from sklearn.metrics import f1_score\n",
        "\n",
        "# Assuming X_train, y_train, X_test, and y_test are already defined\n",
        "\n",
        "# Step 1: Feature Selection\n",
        "model = RandomForestClassifier(n_estimators=100, random_state=42)\n",
        "model.fit(X_train, y_train)\n",
        "\n",
        "selector = SelectFromModel(model, prefit=True)\n",
        "X_train_reduced = selector.transform(X_train)\n",
        "X_test_reduced = selector.transform(X_test)\n",
        "\n",
        "# Step 2: Train a model on the reduced feature set\n",
        "model_reduced = RandomForestClassifier(n_estimators=100, random_state=42)\n",
        "model_reduced.fit(X_train_reduced, y_train)\n",
        "\n",
        "# Step 3: Make predictions on both the training and test sets\n",
        "y_train_pred = model_reduced.predict(X_train_reduced)\n",
        "y_test_pred = model_reduced.predict(X_test_reduced)\n",
        "\n",
        "# Step 4: Calculate F1 scores\n",
        "f1_train = f1_score(y_train, y_train_pred)\n",
        "f1_test = f1_score(y_test, y_test_pred)\n",
        "\n",
        "f1_train, f1_test\n"
      ],
      "metadata": {
        "colab": {
          "base_uri": "https://localhost:8080/"
        },
        "id": "-EKx7IYHGRPF",
        "outputId": "9acebc1a-50c2-45fc-a33d-e42857940c36"
      },
      "execution_count": 50,
      "outputs": [
        {
          "output_type": "stream",
          "name": "stderr",
          "text": [
            "/usr/local/lib/python3.10/dist-packages/sklearn/base.py:432: UserWarning: X has feature names, but SelectFromModel was fitted without feature names\n",
            "  warnings.warn(\n",
            "/usr/local/lib/python3.10/dist-packages/sklearn/base.py:432: UserWarning: X has feature names, but SelectFromModel was fitted without feature names\n",
            "  warnings.warn(\n"
          ]
        },
        {
          "output_type": "execute_result",
          "data": {
            "text/plain": [
              "(0.9071192833569072, 0.7578947368421053)"
            ]
          },
          "metadata": {},
          "execution_count": 50
        }
      ]
    },
    {
      "cell_type": "code",
      "source": [
        "from sklearn.ensemble import RandomForestClassifier, GradientBoostingClassifier, VotingClassifier\n",
        "from sklearn.linear_model import LogisticRegression\n",
        "from sklearn.metrics import f1_score\n",
        "from sklearn.preprocessing import StandardScaler\n",
        "from sklearn.pipeline import make_pipeline\n",
        "\n",
        "# Initialize the individual classifiers with basic hyperparameters\n",
        "clf1 = RandomForestClassifier(n_estimators=100, random_state=42)\n",
        "clf2 = GradientBoostingClassifier(n_estimators=100, random_state=42)\n",
        "clf3 = make_pipeline(StandardScaler(), LogisticRegression(max_iter=1000, random_state=42))\n",
        "\n",
        "# Create a voting classifier\n",
        "ensemble_clf = VotingClassifier(estimators=[\n",
        "    ('rf', clf1),\n",
        "    ('gb', clf2),\n",
        "    ('lr', clf3)],\n",
        "    voting='soft')\n",
        "\n",
        "# Fit the ensemble model\n",
        "ensemble_clf.fit(X_train_reduced, y_train)\n",
        "\n",
        "# Predictions\n",
        "y_train_pred = ensemble_clf.predict(X_train_reduced)\n",
        "y_test_pred = ensemble_clf.predict(X_test_reduced)\n",
        "\n",
        "# Calculate F1 scores\n",
        "f1_train = f1_score(y_train, y_train_pred)\n",
        "f1_test = f1_score(y_test, y_test_pred)\n",
        "\n",
        "print(f\"Training F1 Score: {f1_train}\")\n",
        "print(f\"Test F1 Score: {f1_test}\")\n"
      ],
      "metadata": {
        "colab": {
          "base_uri": "https://localhost:8080/"
        },
        "id": "8PI_mO42GjwR",
        "outputId": "65dba572-dcdd-46b7-e419-07d60f3b8d40"
      },
      "execution_count": 51,
      "outputs": [
        {
          "output_type": "stream",
          "name": "stdout",
          "text": [
            "Training F1 Score: 0.9071192833569072\n",
            "Test F1 Score: 0.7578947368421053\n"
          ]
        }
      ]
    },
    {
      "cell_type": "code",
      "source": [
        "from sklearn.model_selection import GridSearchCV\n",
        "from sklearn.ensemble import RandomForestClassifier, GradientBoostingClassifier, StackingClassifier\n",
        "from sklearn.linear_model import LogisticRegression\n",
        "from sklearn.pipeline import make_pipeline\n",
        "from sklearn.preprocessing import StandardScaler\n",
        "from sklearn.metrics import f1_score, make_scorer\n",
        "\n",
        "# Define base models\n",
        "rf = RandomForestClassifier(random_state=42)\n",
        "gb = GradientBoostingClassifier(n_estimators=100, random_state=42)\n",
        "lr = make_pipeline(StandardScaler(), LogisticRegression(max_iter=1000, random_state=42))\n",
        "\n",
        "# Hyperparameter tuning for RandomForestClassifier\n",
        "param_grid_rf = {\n",
        "    'n_estimators': [100, 200],\n",
        "    'max_depth': [None, 10, 20],\n",
        "    'min_samples_leaf': [1, 2, 4]\n",
        "}\n",
        "\n",
        "# Use F1 score as the scoring criterion\n",
        "scorer = make_scorer(f1_score)\n",
        "\n",
        "# Setup the grid search\n",
        "grid_search_rf = GridSearchCV(estimator=rf, param_grid=param_grid_rf, cv=5, scoring=scorer, n_jobs=-1, verbose=2)\n",
        "grid_search_rf.fit(X_train, y_train)  # Note: Use the full training set; assuming it's already reduced if needed\n",
        "\n",
        "# Update the rf model with the best parameters\n",
        "rf_best = grid_search_rf.best_estimator_\n"
      ],
      "metadata": {
        "colab": {
          "base_uri": "https://localhost:8080/"
        },
        "id": "x2JVxnLcG4F1",
        "outputId": "3b2f200b-8a1f-4cf9-ac43-de9613ab858a"
      },
      "execution_count": 52,
      "outputs": [
        {
          "output_type": "stream",
          "name": "stdout",
          "text": [
            "Fitting 5 folds for each of 18 candidates, totalling 90 fits\n"
          ]
        }
      ]
    },
    {
      "cell_type": "code",
      "source": [
        "# Define the stacking ensemble\n",
        "stacking_clf = StackingClassifier(\n",
        "    estimators=[('rf', rf_best), ('gb', gb), ('lr', lr)],\n",
        "    final_estimator=LogisticRegression(),\n",
        "    cv=5\n",
        ")\n",
        "\n",
        "# Fit the stacking ensemble model\n",
        "stacking_clf.fit(X_train, y_train)\n",
        "\n",
        "# Predictions\n",
        "y_train_pred = stacking_clf.predict(X_train)\n",
        "y_test_pred = stacking_clf.predict(X_test)\n",
        "\n",
        "# Calculate F1 scores\n",
        "f1_train = f1_score(y_train, y_train_pred)\n",
        "f1_test = f1_score(y_test, y_test_pred)\n",
        "\n",
        "print(f\"Training F1 Score: {f1_train}\")\n",
        "print(f\"Test F1 Score: {f1_test}\")\n"
      ],
      "metadata": {
        "colab": {
          "base_uri": "https://localhost:8080/"
        },
        "id": "DQV9tW6iHOPb",
        "outputId": "8308897a-10f7-467d-85f6-b6d47f51af0d"
      },
      "execution_count": 53,
      "outputs": [
        {
          "output_type": "stream",
          "name": "stdout",
          "text": [
            "Training F1 Score: 0.9316712834718376\n",
            "Test F1 Score: 0.7500000000000001\n"
          ]
        }
      ]
    },
    {
      "cell_type": "code",
      "source": [],
      "metadata": {
        "id": "pBtAILzmHOn9"
      },
      "execution_count": null,
      "outputs": []
    },
    {
      "cell_type": "code",
      "source": [],
      "metadata": {
        "id": "y2YC_wjmHOql"
      },
      "execution_count": null,
      "outputs": []
    },
    {
      "cell_type": "code",
      "source": [
        "!pip install h2o"
      ],
      "metadata": {
        "colab": {
          "base_uri": "https://localhost:8080/"
        },
        "id": "w5Utry5HHOuI",
        "outputId": "e42e28f6-4db2-488b-9d51-01d86f670d40"
      },
      "execution_count": 1,
      "outputs": [
        {
          "output_type": "stream",
          "name": "stdout",
          "text": [
            "Collecting h2o\n",
            "  Downloading h2o-3.44.0.3.tar.gz (265.2 MB)\n",
            "\u001b[2K     \u001b[90m━━━━━━━━━━━━━━━━━━━━━━━━━━━━━━━━━━━━━━━━\u001b[0m \u001b[32m265.2/265.2 MB\u001b[0m \u001b[31m3.5 MB/s\u001b[0m eta \u001b[36m0:00:00\u001b[0m\n",
            "\u001b[?25h  Preparing metadata (setup.py) ... \u001b[?25l\u001b[?25hdone\n",
            "Requirement already satisfied: requests in /usr/local/lib/python3.10/dist-packages (from h2o) (2.31.0)\n",
            "Requirement already satisfied: tabulate in /usr/local/lib/python3.10/dist-packages (from h2o) (0.9.0)\n",
            "Requirement already satisfied: charset-normalizer<4,>=2 in /usr/local/lib/python3.10/dist-packages (from requests->h2o) (3.3.2)\n",
            "Requirement already satisfied: idna<4,>=2.5 in /usr/local/lib/python3.10/dist-packages (from requests->h2o) (3.6)\n",
            "Requirement already satisfied: urllib3<3,>=1.21.1 in /usr/local/lib/python3.10/dist-packages (from requests->h2o) (2.0.7)\n",
            "Requirement already satisfied: certifi>=2017.4.17 in /usr/local/lib/python3.10/dist-packages (from requests->h2o) (2024.2.2)\n",
            "Building wheels for collected packages: h2o\n",
            "  Building wheel for h2o (setup.py) ... \u001b[?25l\u001b[?25hdone\n",
            "  Created wheel for h2o: filename=h2o-3.44.0.3-py2.py3-none-any.whl size=265293968 sha256=5b1eadb1d4fdffce38923f753faf8d1fc37749c0dfb3fbc5f960920659610829\n",
            "  Stored in directory: /root/.cache/pip/wheels/77/9a/1c/2da26f943fd46b57f3c20b54847b936b9152b831dc7447cf71\n",
            "Successfully built h2o\n",
            "Installing collected packages: h2o\n",
            "Successfully installed h2o-3.44.0.3\n"
          ]
        }
      ]
    },
    {
      "cell_type": "code",
      "source": [
        "import h2o\n",
        "from h2o.automl import H2OAutoML\n",
        "import pandas as pd\n",
        "from h2o.frame import H2OFrame\n",
        "\n",
        "# Initialize H2O cluster\n",
        "h2o.init()\n",
        "\n",
        "# Load your datasets\n",
        "train_path = '/content/balanced_train.xlsx'\n",
        "test_path = '/content/test_data.xlsx'\n",
        "\n",
        "# Load the datasets\n",
        "train_df = pd.read_excel(train_path)\n",
        "test_df = pd.read_excel(test_path)\n",
        "\n",
        "# Convert Pandas DataFrames to H2O Frames\n",
        "train_h2o = H2OFrame(train_df)\n",
        "test_h2o = H2OFrame(test_df)\n",
        "\n",
        "# Identify predictors and target\n",
        "predictors = train_h2o.columns[:-1]  # all columns except the last one\n",
        "target = 'STATUS_dead_alive'  # target variable\n",
        "\n",
        "# Ensure the target column is treated as a categorical variable for classification\n",
        "train_h2o[target] = train_h2o[target].asfactor()\n",
        "test_h2o[target] = test_h2o[target].asfactor()\n",
        "\n",
        "# Initialize and train the H2O AutoML model\n",
        "automl = H2OAutoML(max_models=20, seed=1, max_runtime_secs=600, stopping_metric='mean_per_class_error')\n",
        "automl.train(x=predictors, y=target, training_frame=train_h2o)\n",
        "\n",
        "# Leader model and its performance\n",
        "leader_model = automl.leader\n",
        "print(\"Model Summary:\", leader_model.model_id)\n",
        "\n",
        "# Predict on training set and test set\n",
        "train_pred = leader_model.predict(train_h2o)\n",
        "test_pred = leader_model.predict(test_h2o)\n",
        "\n",
        "# Calculate F1 score on training and test sets using H2O's performance metrics\n",
        "train_perf = leader_model.model_performance(train_h2o)\n",
        "test_perf = leader_model.model_performance(test_h2o)\n",
        "\n",
        "# print(f\"Training F1 Score: {train_perf.f1()[0][1]}\")\n",
        "# print(f\"Test F1 Score: {test_perf.f1()[0][1]}\")\n",
        "\n",
        "# # Shutdown H2O - free up resources\n",
        "# h2o.shutdown(prompt=False)\n"
      ],
      "metadata": {
        "colab": {
          "base_uri": "https://localhost:8080/",
          "height": 871
        },
        "id": "xeAXugwDTWjG",
        "outputId": "5b695a90-2fff-41db-c1a9-db5c8a8948db"
      },
      "execution_count": 3,
      "outputs": [
        {
          "output_type": "stream",
          "name": "stdout",
          "text": [
            "Checking whether there is an H2O instance running at http://localhost:54321. connected.\n"
          ]
        },
        {
          "output_type": "display_data",
          "data": {
            "text/plain": [
              "--------------------------  -----------------------------------------------------------------------------------------\n",
              "H2O_cluster_uptime:         2 mins 26 secs\n",
              "H2O_cluster_timezone:       Etc/UTC\n",
              "H2O_data_parsing_timezone:  UTC\n",
              "H2O_cluster_version:        3.44.0.3\n",
              "H2O_cluster_version_age:    1 month and 22 days\n",
              "H2O_cluster_name:           H2O_from_python_unknownUser_ouufit\n",
              "H2O_cluster_total_nodes:    1\n",
              "H2O_cluster_free_memory:    3.170 Gb\n",
              "H2O_cluster_total_cores:    2\n",
              "H2O_cluster_allowed_cores:  2\n",
              "H2O_cluster_status:         locked, healthy\n",
              "H2O_connection_url:         http://localhost:54321\n",
              "H2O_connection_proxy:       {\"http\": null, \"https\": null, \"colab_language_server\": \"/usr/colab/bin/language_service\"}\n",
              "H2O_internal_security:      False\n",
              "Python_version:             3.10.12 final\n",
              "--------------------------  -----------------------------------------------------------------------------------------"
            ],
            "text/html": [
              "\n",
              "<style>\n",
              "\n",
              "#h2o-table-2.h2o-container {\n",
              "  overflow-x: auto;\n",
              "}\n",
              "#h2o-table-2 .h2o-table {\n",
              "  /* width: 100%; */\n",
              "  margin-top: 1em;\n",
              "  margin-bottom: 1em;\n",
              "}\n",
              "#h2o-table-2 .h2o-table caption {\n",
              "  white-space: nowrap;\n",
              "  caption-side: top;\n",
              "  text-align: left;\n",
              "  /* margin-left: 1em; */\n",
              "  margin: 0;\n",
              "  font-size: larger;\n",
              "}\n",
              "#h2o-table-2 .h2o-table thead {\n",
              "  white-space: nowrap; \n",
              "  position: sticky;\n",
              "  top: 0;\n",
              "  box-shadow: 0 -1px inset;\n",
              "}\n",
              "#h2o-table-2 .h2o-table tbody {\n",
              "  overflow: auto;\n",
              "}\n",
              "#h2o-table-2 .h2o-table th,\n",
              "#h2o-table-2 .h2o-table td {\n",
              "  text-align: right;\n",
              "  /* border: 1px solid; */\n",
              "}\n",
              "#h2o-table-2 .h2o-table tr:nth-child(even) {\n",
              "  /* background: #F5F5F5 */\n",
              "}\n",
              "\n",
              "</style>      \n",
              "<div id=\"h2o-table-2\" class=\"h2o-container\">\n",
              "  <table class=\"h2o-table\">\n",
              "    <caption></caption>\n",
              "    <thead></thead>\n",
              "    <tbody><tr><td>H2O_cluster_uptime:</td>\n",
              "<td>2 mins 26 secs</td></tr>\n",
              "<tr><td>H2O_cluster_timezone:</td>\n",
              "<td>Etc/UTC</td></tr>\n",
              "<tr><td>H2O_data_parsing_timezone:</td>\n",
              "<td>UTC</td></tr>\n",
              "<tr><td>H2O_cluster_version:</td>\n",
              "<td>3.44.0.3</td></tr>\n",
              "<tr><td>H2O_cluster_version_age:</td>\n",
              "<td>1 month and 22 days</td></tr>\n",
              "<tr><td>H2O_cluster_name:</td>\n",
              "<td>H2O_from_python_unknownUser_ouufit</td></tr>\n",
              "<tr><td>H2O_cluster_total_nodes:</td>\n",
              "<td>1</td></tr>\n",
              "<tr><td>H2O_cluster_free_memory:</td>\n",
              "<td>3.170 Gb</td></tr>\n",
              "<tr><td>H2O_cluster_total_cores:</td>\n",
              "<td>2</td></tr>\n",
              "<tr><td>H2O_cluster_allowed_cores:</td>\n",
              "<td>2</td></tr>\n",
              "<tr><td>H2O_cluster_status:</td>\n",
              "<td>locked, healthy</td></tr>\n",
              "<tr><td>H2O_connection_url:</td>\n",
              "<td>http://localhost:54321</td></tr>\n",
              "<tr><td>H2O_connection_proxy:</td>\n",
              "<td>{\"http\": null, \"https\": null, \"colab_language_server\": \"/usr/colab/bin/language_service\"}</td></tr>\n",
              "<tr><td>H2O_internal_security:</td>\n",
              "<td>False</td></tr>\n",
              "<tr><td>Python_version:</td>\n",
              "<td>3.10.12 final</td></tr></tbody>\n",
              "  </table>\n",
              "</div>\n"
            ]
          },
          "metadata": {}
        },
        {
          "output_type": "stream",
          "name": "stdout",
          "text": [
            "Parse progress: |████████████████████████████████████████████████████████████████| (done) 100%\n",
            "Parse progress: |████████████████████████████████████████████████████████████████| (done) 100%\n",
            "AutoML progress: |███████████████████████████████████████████████████████████████| (done) 100%\n",
            "Model Summary: GBM_3_AutoML_1_20240211_175657\n",
            "gbm prediction progress: |███████████████████████████████████████████████████████| (done) 100%\n",
            "gbm prediction progress: |███████████████████████████████████████████████████████| (done) 100%\n"
          ]
        },
        {
          "output_type": "error",
          "ename": "AttributeError",
          "evalue": "type object 'MetricsBase' has no attribute 'f1'",
          "traceback": [
            "\u001b[0;31m---------------------------------------------------------------------------\u001b[0m",
            "\u001b[0;31mAttributeError\u001b[0m                            Traceback (most recent call last)",
            "\u001b[0;32m<ipython-input-3-52c23db29783>\u001b[0m in \u001b[0;36m<cell line: 45>\u001b[0;34m()\u001b[0m\n\u001b[1;32m     43\u001b[0m \u001b[0mtest_perf\u001b[0m \u001b[0;34m=\u001b[0m \u001b[0mleader_model\u001b[0m\u001b[0;34m.\u001b[0m\u001b[0mmodel_performance\u001b[0m\u001b[0;34m(\u001b[0m\u001b[0mtest_h2o\u001b[0m\u001b[0;34m)\u001b[0m\u001b[0;34m\u001b[0m\u001b[0;34m\u001b[0m\u001b[0m\n\u001b[1;32m     44\u001b[0m \u001b[0;34m\u001b[0m\u001b[0m\n\u001b[0;32m---> 45\u001b[0;31m \u001b[0mprint\u001b[0m\u001b[0;34m(\u001b[0m\u001b[0;34mf\"Training F1 Score: {train_perf.f1()[0][1]}\"\u001b[0m\u001b[0;34m)\u001b[0m\u001b[0;34m\u001b[0m\u001b[0;34m\u001b[0m\u001b[0m\n\u001b[0m\u001b[1;32m     46\u001b[0m \u001b[0mprint\u001b[0m\u001b[0;34m(\u001b[0m\u001b[0;34mf\"Test F1 Score: {test_perf.f1()[0][1]}\"\u001b[0m\u001b[0;34m)\u001b[0m\u001b[0;34m\u001b[0m\u001b[0;34m\u001b[0m\u001b[0m\n\u001b[1;32m     47\u001b[0m \u001b[0;34m\u001b[0m\u001b[0m\n",
            "\u001b[0;32m/usr/local/lib/python3.10/dist-packages/h2o/utils/metaclass.py\u001b[0m in \u001b[0;36m__getattr__\u001b[0;34m(self, name)\u001b[0m\n\u001b[1;32m    350\u001b[0m             \u001b[0;32mif\u001b[0m \u001b[0mname\u001b[0m \u001b[0;34m!=\u001b[0m \u001b[0;34m'_bci'\u001b[0m \u001b[0;32mand\u001b[0m \u001b[0mname\u001b[0m \u001b[0;32min\u001b[0m \u001b[0mself\u001b[0m\u001b[0;34m.\u001b[0m\u001b[0m_bci\u001b[0m\u001b[0;34m:\u001b[0m\u001b[0;34m\u001b[0m\u001b[0;34m\u001b[0m\u001b[0m\n\u001b[1;32m    351\u001b[0m                 \u001b[0;32mreturn\u001b[0m \u001b[0mself\u001b[0m\u001b[0;34m.\u001b[0m\u001b[0m_bci\u001b[0m\u001b[0;34m[\u001b[0m\u001b[0mname\u001b[0m\u001b[0;34m]\u001b[0m\u001b[0;34m\u001b[0m\u001b[0;34m\u001b[0m\u001b[0m\n\u001b[0;32m--> 352\u001b[0;31m             \u001b[0;32mreturn\u001b[0m \u001b[0mgetattr\u001b[0m\u001b[0;34m(\u001b[0m\u001b[0mnew_clz\u001b[0m\u001b[0;34m,\u001b[0m \u001b[0mname\u001b[0m\u001b[0;34m)\u001b[0m\u001b[0;34m\u001b[0m\u001b[0;34m\u001b[0m\u001b[0m\n\u001b[0m\u001b[1;32m    353\u001b[0m \u001b[0;34m\u001b[0m\u001b[0m\n\u001b[1;32m    354\u001b[0m         \u001b[0mnew_clz\u001b[0m \u001b[0;34m=\u001b[0m \u001b[0mextend_and_replace\u001b[0m\u001b[0;34m(\u001b[0m\u001b[0mclz\u001b[0m\u001b[0;34m,\u001b[0m \u001b[0m__init__\u001b[0m\u001b[0;34m=\u001b[0m\u001b[0m__init__\u001b[0m\u001b[0;34m,\u001b[0m \u001b[0m__getattr__\u001b[0m\u001b[0;34m=\u001b[0m\u001b[0m__getattr__\u001b[0m\u001b[0;34m)\u001b[0m\u001b[0;34m\u001b[0m\u001b[0;34m\u001b[0m\u001b[0m\n",
            "\u001b[0;32m/usr/local/lib/python3.10/dist-packages/h2o/utils/metaclass.py\u001b[0m in \u001b[0;36m__getattribute__\u001b[0;34m(cls, name)\u001b[0m\n\u001b[1;32m    395\u001b[0m             \u001b[0;32mif\u001b[0m \u001b[0mattr\u001b[0m \u001b[0;32mis\u001b[0m \u001b[0;32mnot\u001b[0m \u001b[0mMetaFeature\u001b[0m\u001b[0;34m.\u001b[0m\u001b[0mNOT_FOUND\u001b[0m\u001b[0;34m:\u001b[0m\u001b[0;34m\u001b[0m\u001b[0;34m\u001b[0m\u001b[0m\n\u001b[1;32m    396\u001b[0m                 \u001b[0;32mreturn\u001b[0m \u001b[0mattr\u001b[0m\u001b[0;34m\u001b[0m\u001b[0;34m\u001b[0m\u001b[0m\n\u001b[0;32m--> 397\u001b[0;31m         \u001b[0;32mreturn\u001b[0m \u001b[0mtype\u001b[0m\u001b[0;34m.\u001b[0m\u001b[0m__getattribute__\u001b[0m\u001b[0;34m(\u001b[0m\u001b[0mcls\u001b[0m\u001b[0;34m,\u001b[0m \u001b[0mname\u001b[0m\u001b[0;34m)\u001b[0m\u001b[0;34m\u001b[0m\u001b[0;34m\u001b[0m\u001b[0m\n\u001b[0m\u001b[1;32m    398\u001b[0m \u001b[0;34m\u001b[0m\u001b[0m\n\u001b[1;32m    399\u001b[0m     \u001b[0;32mdef\u001b[0m \u001b[0m__setattr__\u001b[0m\u001b[0;34m(\u001b[0m\u001b[0mcls\u001b[0m\u001b[0;34m,\u001b[0m \u001b[0mname\u001b[0m\u001b[0;34m,\u001b[0m \u001b[0mvalue\u001b[0m\u001b[0;34m)\u001b[0m\u001b[0;34m:\u001b[0m\u001b[0;34m\u001b[0m\u001b[0;34m\u001b[0m\u001b[0m\n",
            "\u001b[0;31mAttributeError\u001b[0m: type object 'MetricsBase' has no attribute 'f1'"
          ]
        }
      ]
    },
    {
      "cell_type": "code",
      "source": [
        "# Get the F1 score at the best threshold for both training and test sets\n",
        "train_f1 = train_perf.F1()[0]  # Returns a tuple (threshold, F1 score)\n",
        "test_f1 = test_perf.F1()[0]  # Returns a tuple (threshold, F1 score)\n",
        "\n",
        "print(f\"Training F1 Score: {train_f1[1]} at threshold {train_f1[0]}\")\n",
        "print(f\"Test F1 Score: {test_f1[1]} at threshold {test_f1[0]}\")\n"
      ],
      "metadata": {
        "colab": {
          "base_uri": "https://localhost:8080/"
        },
        "id": "zUrAjlvtW9Cu",
        "outputId": "cbd63a79-ad63-4291-b0f5-07e6b72e48d8"
      },
      "execution_count": 4,
      "outputs": [
        {
          "output_type": "stream",
          "name": "stdout",
          "text": [
            "Training F1 Score: 0.933572710951526 at threshold 0.4619909376879531\n",
            "Test F1 Score: 0.7912087912087912 at threshold 0.681782994496961\n"
          ]
        }
      ]
    },
    {
      "cell_type": "code",
      "source": [
        "# Calculate additional performance metrics for both training and test sets\n",
        "train_auc = train_perf.auc()\n",
        "test_auc = test_perf.auc()\n",
        "\n",
        "train_precision = train_perf.precision()[0][1]\n",
        "test_precision = test_perf.precision()[0][1]\n",
        "\n",
        "train_recall = train_perf.recall()[0][1]\n",
        "test_recall = test_perf.recall()[0][1]\n",
        "\n",
        "print(f\"Training AUC: {train_auc}\")\n",
        "print(f\"Test AUC: {test_auc}\")\n",
        "print(f\"Training Precision: {train_precision} at threshold {train_f1[0]}\")\n",
        "print(f\"Test Precision: {test_precision} at threshold {test_f1[0]}\")\n",
        "print(f\"Training Recall: {train_recall} at threshold {train_f1[0]}\")\n",
        "print(f\"Test Recall: {test_recall} at threshold {test_f1[0]}\")\n"
      ],
      "metadata": {
        "colab": {
          "base_uri": "https://localhost:8080/"
        },
        "id": "TjZZxdcYUKCg",
        "outputId": "63238e1f-52b4-4c44-df4b-6e3dc39aa556"
      },
      "execution_count": 5,
      "outputs": [
        {
          "output_type": "stream",
          "name": "stdout",
          "text": [
            "Training AUC: 0.9794821332322128\n",
            "Test AUC: 0.9541795894254911\n",
            "Training Precision: 1.0 at threshold 0.4619909376879531\n",
            "Test Precision: 1.0 at threshold 0.681782994496961\n",
            "Training Recall: 1.0 at threshold 0.4619909376879531\n",
            "Test Recall: 1.0 at threshold 0.681782994496961\n"
          ]
        }
      ]
    },
    {
      "cell_type": "code",
      "source": [
        "# Example to adjust threshold based on needs\n",
        "# Here we simply reuse the best F1 threshold, but you may choose differently\n",
        "desired_threshold = test_f1[0]  # Adjust this based on your application's needs\n",
        "\n",
        "# Convert probabilities to binary predictions based on the desired threshold\n",
        "test_pred_adjusted = test_pred['predict'].asnumeric()\n",
        "test_pred_adjusted = test_pred_adjusted > desired_threshold\n",
        "\n",
        "# Calculate and print adjusted F1 score based on the new threshold\n",
        "# Assuming leader_model is your trained model, and test_h2o is your test set\n",
        "perf = leader_model.model_performance(test_h2o)\n",
        "\n",
        "# Printing AUC for review\n",
        "print(f\"Test AUC: {perf.auc()}\")\n",
        "\n",
        "# You cannot directly adjust the threshold within H2O's performance method for F1 calculation\n",
        "# However, you can review metrics at various thresholds:\n",
        "print(perf.gains_lift())\n",
        "\n",
        "# For custom threshold adjustment and F1 calculation, consider manual calculation or using other Python libraries such as scikit-learn, adjusting based on predictions and the desired threshold.\n",
        "\n"
      ],
      "metadata": {
        "colab": {
          "base_uri": "https://localhost:8080/"
        },
        "id": "Q0HvhWFAX3II",
        "outputId": "bb68e72a-cf20-4ebb-bff5-6ae3a0af2e91"
      },
      "execution_count": 8,
      "outputs": [
        {
          "output_type": "stream",
          "name": "stdout",
          "text": [
            "Test AUC: 0.9541795894254911\n",
            "Gains/Lift Table: Avg response rate:  9.18 %, avg score: 21.38 %\n",
            "group    cumulative_data_fraction    lower_threshold    lift      cumulative_lift    response_rate    score      cumulative_response_rate    cumulative_score    capture_rate    cumulative_capture_rate    gain      cumulative_gain    kolmogorov_smirnov\n",
            "-------  --------------------------  -----------------  --------  -----------------  ---------------  ---------  --------------------------  ------------------  --------------  -------------------------  --------  -----------------  --------------------\n",
            "1        0.0124069                   0.97497            8.71351   8.71351            0.8              0.980888   0.8                         0.980888            0.108108        0.108108                   771.351   771.351            0.105376\n",
            "2        0.0223325                   0.972353           8.16892   8.47147            0.75             0.973489   0.777778                    0.977599            0.0810811       0.189189                   716.892   747.147            0.183725\n",
            "3        0.0322581                   0.96741            8.16892   8.37838            0.75             0.969658   0.769231                    0.975156            0.0810811       0.27027                    716.892   737.838            0.262074\n",
            "4        0.0421836                   0.962351           8.16892   8.32909            0.75             0.964141   0.764706                    0.972564            0.0810811       0.351351                   716.892   732.909            0.340422\n",
            "5        0.0521092                   0.955809           8.16892   8.29858            0.75             0.95816    0.761905                    0.969821            0.0810811       0.432432                   716.892   729.858            0.418771\n",
            "6        0.101737                    0.857005           5.99054   7.17271            0.55             0.907872   0.658537                    0.939602            0.297297        0.72973                    499.054   617.271            0.691478\n",
            "7        0.156328                    0.539682           4.45577   6.22394            0.409091         0.701465   0.571429                    0.856443            0.243243        0.972973                   345.577   522.394            0.899202\n",
            "8        0.200993                    0.369506           0         4.84084            0                0.466669   0.444444                    0.769826            0               0.972973                   -100      384.084            0.850022\n",
            "9        0.300248                    0.135526           0         3.24056            0                0.220014   0.297521                    0.58807             0               0.972973                   -100      224.056            0.740733\n",
            "10       0.399504                    0.0942894          0         2.43545            0                0.114093   0.223602                    0.470312            0               0.972973                   -100      143.545            0.631443\n",
            "11       0.521092                    0.0661133          0         1.86718            0                0.0712786  0.171429                    0.377204            0               0.972973                   -100      86.7181            0.497563\n",
            "12       0.602978                    0.0623135          0         1.61361            0                0.0641053  0.148148                    0.334685            0               0.972973                   -100      61.3614            0.407399\n",
            "13       0.704715                    0.0424962          0         1.38066            0                0.0457532  0.126761                    0.292973            0               0.972973                   -100      38.0662            0.295377\n",
            "14       0.799007                    0.0271974          0         1.21773            0                0.0331363  0.111801                    0.262309            0               0.972973                   -100      21.7727            0.191552\n",
            "15       0.900744                    0.0210535          0.265656  1.11019            0.0243902        0.0235275  0.101928                    0.235339            0.027027        1                          -73.4344  11.0193            0.10929\n",
            "16       1                           0.00892177         0         1                  0                0.0184673  0.0918114                   0.213813            0               1                          -100      0                  0\n"
          ]
        }
      ]
    },
    {
      "cell_type": "code",
      "source": [
        "# Save the final model\n",
        "h2o.save_model(model=leader_model, path=\"/path/to/save/model\", force=True)"
      ],
      "metadata": {
        "colab": {
          "base_uri": "https://localhost:8080/",
          "height": 35
        },
        "id": "S2gJuBjdX3K5",
        "outputId": "6253373e-575c-4856-ed2f-0ac1bdac7d05"
      },
      "execution_count": 7,
      "outputs": [
        {
          "output_type": "execute_result",
          "data": {
            "text/plain": [
              "'/path/to/save/model/GBM_3_AutoML_1_20240211_175657'"
            ],
            "application/vnd.google.colaboratory.intrinsic+json": {
              "type": "string"
            }
          },
          "metadata": {},
          "execution_count": 7
        }
      ]
    },
    {
      "cell_type": "code",
      "source": [
        "import matplotlib.pyplot as plt\n",
        "\n",
        "# Assuming 'leader_model' is your trained H2O model\n",
        "# And 'train_h2o' and 'test_h2o' are your H2OFrame training and test sets\n",
        "\n",
        "# Calculate model performance on training and test sets\n",
        "train_perf = leader_model.model_performance(train_h2o)\n",
        "test_perf = leader_model.model_performance(test_h2o)\n",
        "\n",
        "# Get ROC curve data\n",
        "train_tpr = train_perf.tpr()  # True Positive Rate\n",
        "train_fpr = train_perf.fpr()  # False Positive Rate\n",
        "test_tpr = test_perf.tpr()\n",
        "test_fpr = test_perf.fpr()\n",
        "\n",
        "# AUC scores\n",
        "train_auc = train_perf.auc()\n",
        "test_auc = test_perf.auc()\n",
        "\n",
        "# Plotting ROC Curve\n",
        "plt.figure(figsize=(10, 8))\n",
        "plt.plot(train_fpr, train_tpr, label=f'Train ROC curve (area = {train_auc:.2f})')\n",
        "plt.plot(test_fpr, test_tpr, label=f'Test ROC curve (area = {test_auc:.2f})')\n",
        "plt.plot([0, 1], [0, 1], 'k--')  # Random chance line\n",
        "plt.xlabel('False Positive Rate')\n",
        "plt.ylabel('True Positive Rate')\n",
        "plt.title('ROC Curve')\n",
        "plt.legend(loc=\"lower right\")\n",
        "plt.show()\n"
      ],
      "metadata": {
        "colab": {
          "base_uri": "https://localhost:8080/",
          "height": 718
        },
        "id": "so6uXyDMYrOZ",
        "outputId": "e44d02a5-cb06-4099-a46f-77d57c73ca47"
      },
      "execution_count": 9,
      "outputs": [
        {
          "output_type": "display_data",
          "data": {
            "text/plain": [
              "<Figure size 1000x800 with 1 Axes>"
            ],
            "image/png": "[encoded data removed]"
          },
          "metadata": {}
        }
      ]
    },
    {
      "cell_type": "code",
      "source": [
        "# Assuming 'leader_model' is your trained H2O AutoML leader model\n",
        "model_path = h2o.save_model(model=leader_model, path=\"/content/\", force=True)\n",
        "\n",
        "print(f\"Model saved to: {model_path}\")\n",
        "\n"
      ],
      "metadata": {
        "colab": {
          "base_uri": "https://localhost:8080/"
        },
        "id": "fbTQIiSZYrTB",
        "outputId": "2f86602a-2a28-457c-d44d-0ce759344ce6"
      },
      "execution_count": 12,
      "outputs": [
        {
          "output_type": "stream",
          "name": "stdout",
          "text": [
            "Model saved to: /content/GBM_3_AutoML_1_20240211_175657\n"
          ]
        }
      ]
    },
    {
      "cell_type": "code",
      "source": [
        "loaded_model = h2o.load_model(\"//content/GBM_3_AutoML_1_20240211_175657\")  # Adjust the path and filename\n"
      ],
      "metadata": {
        "id": "EMmeBW6dYrZb"
      },
      "execution_count": 14,
      "outputs": []
    },
    {
      "cell_type": "code",
      "source": [
        "train_perf = loaded_model.model_performance(train_h2o)\n",
        "test_perf = loaded_model.model_performance(test_h2o)\n"
      ],
      "metadata": {
        "id": "OMcHiRhAaHND"
      },
      "execution_count": 15,
      "outputs": []
    },
    {
      "cell_type": "code",
      "source": [
        "import matplotlib.pyplot as plt\n",
        "\n",
        "# Get ROC curve data\n",
        "train_tpr = train_perf.tpr()  # True Positive Rate\n",
        "train_fpr = train_perf.fpr()  # False Positive Rate\n",
        "test_tpr = test_perf.tpr()\n",
        "test_fpr = test_perf.fpr()\n",
        "\n",
        "# AUC scores\n",
        "train_auc = train_perf.auc()\n",
        "test_auc = test_perf.auc()\n",
        "\n",
        "# Plotting ROC Curve\n",
        "plt.figure(figsize=(10, 8))\n",
        "plt.plot(train_fpr, train_tpr, label=f'Train ROC curve (area = {train_auc:.2f})')\n",
        "plt.plot(test_fpr, test_tpr, label=f'Test ROC curve (area = {test_auc:.2f})')\n",
        "plt.plot([0, 1], [0, 1], 'k--')  # Random chance line\n",
        "plt.xlabel('False Positive Rate')\n",
        "plt.ylabel('True Positive Rate')\n",
        "plt.title('ROC Curve')\n",
        "plt.legend(loc=\"lower right\")\n",
        "plt.show()\n"
      ],
      "metadata": {
        "colab": {
          "base_uri": "https://localhost:8080/",
          "height": 718
        },
        "id": "993GMO3PaHPw",
        "outputId": "28d36a60-a20b-4a53-a470-41f3d26a1ec7"
      },
      "execution_count": 16,
      "outputs": [
        {
          "output_type": "display_data",
          "data": {
            "text/plain": [
              "<Figure size 1000x800 with 1 Axes>"
            ],
            "image/png": "[encoded data removed]"
          },
          "metadata": {}
        }
      ]
    },
    {
      "cell_type": "code",
      "source": [
        "# Check performance metrics and confusion matrix\n",
        "train_cm = train_perf.confusion_matrix()\n",
        "test_cm = test_perf.confusion_matrix()\n",
        "\n",
        "print(\"Training Confusion Matrix:\")\n",
        "train_cm.show()\n",
        "\n",
        "print(\"Test Confusion Matrix:\")\n",
        "test_cm.show()\n"
      ],
      "metadata": {
        "colab": {
          "base_uri": "https://localhost:8080/",
          "height": 325
        },
        "id": "aiZ-gN8majUj",
        "outputId": "4838fd3c-8672-4f70-f618-8ea37fee3dac"
      },
      "execution_count": 17,
      "outputs": [
        {
          "output_type": "stream",
          "name": "stdout",
          "text": [
            "Training Confusion Matrix:\n"
          ]
        },
        {
          "output_type": "display_data",
          "data": {
            "text/plain": [
              "Confusion Matrix (Act/Pred) for max f1 @ threshold = 0.4619909376879531\n",
              "       0     1     Error    Rate\n",
              "-----  ----  ----  -------  --------------\n",
              "0      1010  89    0.081    (89.0/1099.0)\n",
              "1      59    1040  0.0537   (59.0/1099.0)\n",
              "Total  1069  1129  0.0673   (148.0/2198.0)"
            ],
            "text/html": [
              "\n",
              "<style>\n",
              "\n",
              "#h2o-table-3.h2o-container {\n",
              "  overflow-x: auto;\n",
              "}\n",
              "#h2o-table-3 .h2o-table {\n",
              "  /* width: 100%; */\n",
              "  margin-top: 1em;\n",
              "  margin-bottom: 1em;\n",
              "}\n",
              "#h2o-table-3 .h2o-table caption {\n",
              "  white-space: nowrap;\n",
              "  caption-side: top;\n",
              "  text-align: left;\n",
              "  /* margin-left: 1em; */\n",
              "  margin: 0;\n",
              "  font-size: larger;\n",
              "}\n",
              "#h2o-table-3 .h2o-table thead {\n",
              "  white-space: nowrap; \n",
              "  position: sticky;\n",
              "  top: 0;\n",
              "  box-shadow: 0 -1px inset;\n",
              "}\n",
              "#h2o-table-3 .h2o-table tbody {\n",
              "  overflow: auto;\n",
              "}\n",
              "#h2o-table-3 .h2o-table th,\n",
              "#h2o-table-3 .h2o-table td {\n",
              "  text-align: right;\n",
              "  /* border: 1px solid; */\n",
              "}\n",
              "#h2o-table-3 .h2o-table tr:nth-child(even) {\n",
              "  /* background: #F5F5F5 */\n",
              "}\n",
              "\n",
              "</style>      \n",
              "<div id=\"h2o-table-3\" class=\"h2o-container\">\n",
              "  <table class=\"h2o-table\">\n",
              "    <caption>Confusion Matrix (Act/Pred) for max f1 @ threshold = 0.4619909376879531</caption>\n",
              "    <thead><tr><th></th>\n",
              "<th>0</th>\n",
              "<th>1</th>\n",
              "<th>Error</th>\n",
              "<th>Rate</th></tr></thead>\n",
              "    <tbody><tr><td>0</td>\n",
              "<td>1010.0</td>\n",
              "<td>89.0</td>\n",
              "<td>0.081</td>\n",
              "<td> (89.0/1099.0)</td></tr>\n",
              "<tr><td>1</td>\n",
              "<td>59.0</td>\n",
              "<td>1040.0</td>\n",
              "<td>0.0537</td>\n",
              "<td> (59.0/1099.0)</td></tr>\n",
              "<tr><td>Total</td>\n",
              "<td>1069.0</td>\n",
              "<td>1129.0</td>\n",
              "<td>0.0673</td>\n",
              "<td> (148.0/2198.0)</td></tr></tbody>\n",
              "  </table>\n",
              "</div>\n"
            ]
          },
          "metadata": {}
        },
        {
          "output_type": "stream",
          "name": "stdout",
          "text": [
            "Test Confusion Matrix:\n"
          ]
        },
        {
          "output_type": "display_data",
          "data": {
            "text/plain": [
              "Confusion Matrix (Act/Pred) for max f1 @ threshold = 0.681782994496961\n",
              "       0    1    Error    Rate\n",
              "-----  ---  ---  -------  ------------\n",
              "0      348  18   0.0492   (18.0/366.0)\n",
              "1      1    36   0.027    (1.0/37.0)\n",
              "Total  349  54   0.0471   (19.0/403.0)"
            ],
            "text/html": [
              "\n",
              "<style>\n",
              "\n",
              "#h2o-table-4.h2o-container {\n",
              "  overflow-x: auto;\n",
              "}\n",
              "#h2o-table-4 .h2o-table {\n",
              "  /* width: 100%; */\n",
              "  margin-top: 1em;\n",
              "  margin-bottom: 1em;\n",
              "}\n",
              "#h2o-table-4 .h2o-table caption {\n",
              "  white-space: nowrap;\n",
              "  caption-side: top;\n",
              "  text-align: left;\n",
              "  /* margin-left: 1em; */\n",
              "  margin: 0;\n",
              "  font-size: larger;\n",
              "}\n",
              "#h2o-table-4 .h2o-table thead {\n",
              "  white-space: nowrap; \n",
              "  position: sticky;\n",
              "  top: 0;\n",
              "  box-shadow: 0 -1px inset;\n",
              "}\n",
              "#h2o-table-4 .h2o-table tbody {\n",
              "  overflow: auto;\n",
              "}\n",
              "#h2o-table-4 .h2o-table th,\n",
              "#h2o-table-4 .h2o-table td {\n",
              "  text-align: right;\n",
              "  /* border: 1px solid; */\n",
              "}\n",
              "#h2o-table-4 .h2o-table tr:nth-child(even) {\n",
              "  /* background: #F5F5F5 */\n",
              "}\n",
              "\n",
              "</style>      \n",
              "<div id=\"h2o-table-4\" class=\"h2o-container\">\n",
              "  <table class=\"h2o-table\">\n",
              "    <caption>Confusion Matrix (Act/Pred) for max f1 @ threshold = 0.681782994496961</caption>\n",
              "    <thead><tr><th></th>\n",
              "<th>0</th>\n",
              "<th>1</th>\n",
              "<th>Error</th>\n",
              "<th>Rate</th></tr></thead>\n",
              "    <tbody><tr><td>0</td>\n",
              "<td>348.0</td>\n",
              "<td>18.0</td>\n",
              "<td>0.0492</td>\n",
              "<td> (18.0/366.0)</td></tr>\n",
              "<tr><td>1</td>\n",
              "<td>1.0</td>\n",
              "<td>36.0</td>\n",
              "<td>0.027</td>\n",
              "<td> (1.0/37.0)</td></tr>\n",
              "<tr><td>Total</td>\n",
              "<td>349.0</td>\n",
              "<td>54.0</td>\n",
              "<td>0.0471</td>\n",
              "<td> (19.0/403.0)</td></tr></tbody>\n",
              "  </table>\n",
              "</div>\n"
            ]
          },
          "metadata": {}
        }
      ]
    },
    {
      "cell_type": "code",
      "source": [
        "# Plot ROC Curve again with adjusted axis limits and ensure plot details are visible\n",
        "plt.figure(figsize=(10, 8))\n",
        "plt.plot(train_fpr, train_tpr, label=f'Train ROC curve (area = {train_auc:.2f})')\n",
        "plt.plot(test_fpr, test_tpr, label=f'Test ROC curve (area = {test_auc:.2f})')\n",
        "plt.plot([0, 1], [0, 1], 'k--')  # Random chance line\n",
        "plt.xlim([0.0, 1.0])\n",
        "plt.ylim([0.0, 1.05])\n",
        "plt.xlabel('False Positive Rate')\n",
        "plt.ylabel('True Positive Rate')\n",
        "plt.title('ROC Curve')\n",
        "plt.legend(loc=\"lower right\")\n",
        "plt.show()\n"
      ],
      "metadata": {
        "colab": {
          "base_uri": "https://localhost:8080/",
          "height": 718
        },
        "id": "xeFCekXUajXi",
        "outputId": "8298d7bb-84bc-48b7-d7c8-76cee16aaf20"
      },
      "execution_count": 18,
      "outputs": [
        {
          "output_type": "display_data",
          "data": {
            "text/plain": [
              "<Figure size 1000x800 with 1 Axes>"
            ],
            "image/png": "[encoded data removed]"
          },
          "metadata": {}
        }
      ]
    },
    {
      "cell_type": "code",
      "source": [
        "# Calculate performance on training data\n",
        "train_perf = loaded_model.model_performance(train_h2o)\n",
        "\n",
        "# Calculate performance on test data\n",
        "test_perf = loaded_model.model_performance(test_h2o)\n"
      ],
      "metadata": {
        "id": "eTa2Vcpkajaw"
      },
      "execution_count": 19,
      "outputs": []
    },
    {
      "cell_type": "code",
      "source": [
        "# Define a function to extract metrics\n",
        "def print_metrics(perf, dataset_name):\n",
        "    f1_score = perf.F1()[0][1]\n",
        "    precision = perf.precision()[0][1]\n",
        "    recall = perf.recall()[0][1]\n",
        "    specificity = perf.specificity()[0][1]\n",
        "    cm = perf.confusion_matrix().to_list()  # Convert to list\n",
        "    sensitivity = cm[1][1] / (cm[1][1] + cm[1][0])  # True Positive Rate\n",
        "\n",
        "    print(f\"{dataset_name} Set Metrics:\")\n",
        "    print(f\"F1 Score: {f1_score}\")\n",
        "    print(f\"Precision: {precision}\")\n",
        "    print(f\"Recall: {recall}\")\n",
        "    print(f\"Sensitivity: {sensitivity}\")\n",
        "    print(f\"Specificity: {specificity}\")\n",
        "    print(\"Confusion Matrix:\")\n",
        "    for line in cm:\n",
        "        print(\"\\t\".join(map(str, line)))\n",
        "    print(\"\\n\")\n",
        "\n",
        "# Assuming you have train_perf and test_perf already calculated\n",
        "print_metrics(train_perf, \"Training\")\n",
        "print_metrics(test_perf, \"Test\")\n"
      ],
      "metadata": {
        "colab": {
          "base_uri": "https://localhost:8080/"
        },
        "id": "SHBg2i3Uajdt",
        "outputId": "09be921a-6fd2-429b-97f3-959dcffec144"
      },
      "execution_count": 24,
      "outputs": [
        {
          "output_type": "stream",
          "name": "stdout",
          "text": [
            "Training Set Metrics:\n",
            "F1 Score: 0.933572710951526\n",
            "Precision: 1.0\n",
            "Recall: 1.0\n",
            "Sensitivity: 0.9463148316651502\n",
            "Specificity: 1.0\n",
            "Confusion Matrix:\n",
            "1010\t89\n",
            "59\t1040\n",
            "\n",
            "\n",
            "Test Set Metrics:\n",
            "F1 Score: 0.7912087912087912\n",
            "Precision: 1.0\n",
            "Recall: 1.0\n",
            "Sensitivity: 0.972972972972973\n",
            "Specificity: 1.0\n",
            "Confusion Matrix:\n",
            "348\t18\n",
            "1\t36\n",
            "\n",
            "\n"
          ]
        }
      ]
    },
    {
      "cell_type": "code",
      "source": [
        "# Assuming you have a trained model and a test set ready\n",
        "test_predictions = loaded_model.predict(test_h2o)['p1']  # Get the probability of the positive class\n",
        "\n",
        "# Define a function to apply a custom threshold and calculate new metrics\n",
        "def apply_threshold_and_get_metrics(predictions, actuals, threshold):\n",
        "    # Apply the threshold to the positive class probabilities to get new predictions\n",
        "    new_predictions = predictions > threshold\n",
        "    new_confusion_matrix = actuals.cbind(new_predictions).as_data_frame()\n",
        "    new_confusion_matrix.columns = ['actual', 'predicted']\n",
        "\n",
        "    # Calculate new metrics\n",
        "    tp = sum((new_confusion_matrix['actual'] == 1) & (new_confusion_matrix['predicted'] == 1))\n",
        "    fn = sum((new_confusion_matrix['actual'] == 1) & (new_confusion_matrix['predicted'] == 0))\n",
        "    sensitivity = tp / (tp + fn)\n",
        "\n",
        "    print(f\"Sensitivity (Recall) at threshold {threshold}: {sensitivity}\")\n",
        "    print(f\"New Confusion Matrix at threshold {threshold}:\")\n",
        "    print(pd.crosstab(new_confusion_matrix['actual'], new_confusion_matrix['predicted'], rownames=['Actual'], colnames=['Predicted']))\n",
        "\n",
        "# Apply a lower threshold to prioritize reducing false negatives\n",
        "apply_threshold_and_get_metrics(test_predictions, test_h2o[target], threshold=0.3)  # Adjust threshold as needed\n"
      ],
      "metadata": {
        "colab": {
          "base_uri": "https://localhost:8080/"
        },
        "id": "hD7cuhdbajgb",
        "outputId": "958c937b-a132-4e3c-d604-4fb0346739cf"
      },
      "execution_count": 25,
      "outputs": [
        {
          "output_type": "stream",
          "name": "stdout",
          "text": [
            "gbm prediction progress: |███████████████████████████████████████████████████████| (done) 100%\n",
            "Export File progress: |██████████████████████████████████████████████████████████| (done) 100%\n",
            "Sensitivity (Recall) at threshold 0.3: 0.972972972972973\n",
            "New Confusion Matrix at threshold 0.3:\n",
            "Predicted    0   1\n",
            "Actual            \n",
            "0          314  52\n",
            "1            1  36\n"
          ]
        }
      ]
    },
    {
      "cell_type": "code",
      "source": [
        "# Define a function to extract metrics\n",
        "def print_metrics(perf, dataset_name):\n",
        "    f1_score = perf.F1()[0][1]\n",
        "    precision = perf.precision()[0][1]\n",
        "    recall = perf.recall()[0][1]\n",
        "    specificity = perf.specificity()[0][1]\n",
        "    cm = perf.confusion_matrix().to_list()  # Convert to list\n",
        "    sensitivity = cm[1][1] / (cm[1][1] + cm[1][0])  # True Positive Rate\n",
        "\n",
        "    print(f\"{dataset_name} Set Metrics:\")\n",
        "    print(f\"F1 Score: {f1_score}\")\n",
        "    print(f\"Precision: {precision}\")\n",
        "    print(f\"Recall: {recall}\")\n",
        "    print(f\"Sensitivity: {sensitivity}\")\n",
        "    print(f\"Specificity: {specificity}\")\n",
        "    print(\"Confusion Matrix:\")\n",
        "    for line in cm:\n",
        "        print(\"\\t\".join(map(str, line)))\n",
        "    print(\"\\n\")\n",
        "\n",
        "# Assuming you have train_perf and test_perf already calculated\n",
        "print_metrics(train_perf, \"Training\")\n",
        "print_metrics(test_perf, \"Test\")\n"
      ],
      "metadata": {
        "colab": {
          "base_uri": "https://localhost:8080/"
        },
        "id": "3Pz17XsVd-KI",
        "outputId": "44fb0cc9-3cfb-4c24-fa9f-294ca0dcc9e8"
      },
      "execution_count": 26,
      "outputs": [
        {
          "output_type": "stream",
          "name": "stdout",
          "text": [
            "Training Set Metrics:\n",
            "F1 Score: 0.933572710951526\n",
            "Precision: 1.0\n",
            "Recall: 1.0\n",
            "Sensitivity: 0.9463148316651502\n",
            "Specificity: 1.0\n",
            "Confusion Matrix:\n",
            "1010\t89\n",
            "59\t1040\n",
            "\n",
            "\n",
            "Test Set Metrics:\n",
            "F1 Score: 0.7912087912087912\n",
            "Precision: 1.0\n",
            "Recall: 1.0\n",
            "Sensitivity: 0.972972972972973\n",
            "Specificity: 1.0\n",
            "Confusion Matrix:\n",
            "348\t18\n",
            "1\t36\n",
            "\n",
            "\n"
          ]
        }
      ]
    },
    {
      "cell_type": "code",
      "source": [
        "def print_metrics_with_threshold(perf, threshold, dataset_name):\n",
        "    # Apply the threshold to get the confusion matrix\n",
        "    cm = perf.confusion_matrix(thresholds=[threshold]).table.as_data_frame()\n",
        "    tp = int(cm.iloc[1,1])\n",
        "    fn = int(cm.iloc[1,0])\n",
        "    fp = int(cm.iloc[0,1])\n",
        "    tn = int(cm.iloc[0,0])\n",
        "\n",
        "    # Calculate the new sensitivity and specificity\n",
        "    sensitivity = tp / (tp + fn) if (tp + fn) > 0 else 0\n",
        "    specificity = tn / (tn + fp) if (tn + fp) > 0 else 0\n",
        "\n",
        "    # Calculate precision and recall\n",
        "    precision = tp / (tp + fp) if (tp + fp) > 0 else 0\n",
        "    recall = sensitivity  # recall is the same as sensitivity\n",
        "\n",
        "    # Calculate F1 score\n",
        "    f1 = 2 * (precision * recall) / (precision + recall) if (precision + recall) > 0 else 0\n",
        "\n",
        "    print(f\"{dataset_name} Set Metrics at Threshold {threshold}:\")\n",
        "    print(f\"F1 Score: {f1}\")\n",
        "    print(f\"Precision: {precision}\")\n",
        "    print(f\"Recall (Sensitivity): {recall}\")\n",
        "    print(f\"Specificity: {specificity}\")\n",
        "    print(\"Confusion Matrix:\")\n",
        "    print(cm)\n",
        "    print(\"\\n\")\n",
        "\n",
        "# Determine a new threshold that might reduce false negatives\n",
        "new_threshold = 0.4  # This is an example value, adjust based on your model's ROC curve\n",
        "\n",
        "# Print adjusted metrics for training set\n",
        "print_metrics_with_threshold(train_perf, new_threshold, \"Training\")\n",
        "\n",
        "# Print adjusted metrics for test set\n",
        "print_metrics_with_threshold(test_perf, new_threshold, \"Test\")\n"
      ],
      "metadata": {
        "colab": {
          "base_uri": "https://localhost:8080/"
        },
        "id": "620Uk71xeCQs",
        "outputId": "c08a5ad1-839e-4f13-ef9c-d0f42e0ee55f"
      },
      "execution_count": 28,
      "outputs": [
        {
          "output_type": "stream",
          "name": "stdout",
          "text": [
            "Could not find exact threshold 0.4; using closest threshold found 0.379559252683754.\n",
            "Training Set Metrics at Threshold 0.4:\n",
            "F1 Score: 0.09927797833935019\n",
            "Precision: 0.05228136882129278\n",
            "Recall (Sensitivity): 0.9821428571428571\n",
            "Specificity: 0.0\n",
            "Confusion Matrix:\n",
            "               0       1   Error             Rate\n",
            "0      0   997.0   102.0  0.0928   (102.0/1099.0)\n",
            "1      1    55.0  1044.0    0.05    (55.0/1099.0)\n",
            "2  Total  1052.0  1146.0  0.0714   (157.0/2198.0)\n",
            "\n",
            "\n",
            "Could not find exact threshold 0.4; using closest threshold found 0.379559252683754.\n",
            "Test Set Metrics at Threshold 0.4:\n",
            "F1 Score: 0.00617283950617284\n",
            "Precision: 0.003105590062111801\n",
            "Recall (Sensitivity): 0.5\n",
            "Specificity: 0.0\n",
            "Confusion Matrix:\n",
            "              0     1   Error           Rate\n",
            "0      0  321.0  45.0   0.123   (45.0/366.0)\n",
            "1      1    1.0  36.0   0.027     (1.0/37.0)\n",
            "2  Total  322.0  81.0  0.1141   (46.0/403.0)\n",
            "\n",
            "\n"
          ]
        }
      ]
    },
    {
      "cell_type": "code",
      "source": [
        "# Define a function to extract metrics\n",
        "def print_metrics(perf, dataset_name):\n",
        "    f1_score = perf.F1()[0][1]\n",
        "    precision = perf.precision()[0][1]\n",
        "    recall = perf.recall()[0][1]\n",
        "    specificity = perf.specificity()[0][1]\n",
        "    cm = perf.confusion_matrix().to_list()  # Convert to list\n",
        "    sensitivity = cm[1][1] / (cm[1][1] + cm[1][0])  # True Positive Rate\n",
        "\n",
        "    print(f\"{dataset_name} Set Metrics:\")\n",
        "    print(f\"F1 Score: {f1_score}\")\n",
        "    print(f\"Precision: {precision}\")\n",
        "    print(f\"Recall: {recall}\")\n",
        "    print(f\"Sensitivity: {sensitivity}\")\n",
        "    print(f\"Specificity: {specificity}\")\n",
        "    print(\"Confusion Matrix:\")\n",
        "    for line in cm:\n",
        "        print(\"\\t\".join(map(str, line)))\n",
        "    print(\"\\n\")\n",
        "\n",
        "# Assuming you have train_perf and test_perf already calculated\n",
        "print_metrics(train_perf, \"Training\")\n",
        "print_metrics(test_perf, \"Test\")\n"
      ],
      "metadata": {
        "colab": {
          "base_uri": "https://localhost:8080/"
        },
        "id": "0GTUqYN7ex3W",
        "outputId": "997a1e5d-4619-47a0-9827-2e4460a6b2d9"
      },
      "execution_count": 29,
      "outputs": [
        {
          "output_type": "stream",
          "name": "stdout",
          "text": [
            "Training Set Metrics:\n",
            "F1 Score: 0.933572710951526\n",
            "Precision: 1.0\n",
            "Recall: 1.0\n",
            "Sensitivity: 0.9463148316651502\n",
            "Specificity: 1.0\n",
            "Confusion Matrix:\n",
            "1010\t89\n",
            "59\t1040\n",
            "\n",
            "\n",
            "Test Set Metrics:\n",
            "F1 Score: 0.7912087912087912\n",
            "Precision: 1.0\n",
            "Recall: 1.0\n",
            "Sensitivity: 0.972972972972973\n",
            "Specificity: 1.0\n",
            "Confusion Matrix:\n",
            "348\t18\n",
            "1\t36\n",
            "\n",
            "\n"
          ]
        }
      ]
    },
    {
      "cell_type": "code",
      "source": [],
      "metadata": {
        "id": "F-Dn9vL3-_O9"
      },
      "execution_count": null,
      "outputs": []
    },
    {
      "cell_type": "code",
      "source": [
        "# Assuming you have an H2OAutoML object named `automl`\n",
        "leader_model = automl.leader\n",
        "\n",
        "# Print the model details\n",
        "print(\"Best Model Type: \", leader_model.algo)  # Type of the model\n",
        "print(\"Best Model ID: \", leader_model.model_id)  # Identifier for the model\n",
        "print(\"Best Model Performance: \")\n",
        "print(leader_model.cross_validation_metrics_summary())  # Cross-validated performance metrics summary\n",
        "\n",
        "# For more detailed model parameters and settings\n",
        "print(\"Model Parameters: \")\n",
        "print(leader_model.params)\n",
        "\n",
        "# To get the full model details in JSON format, which includes everything about the model\n",
        "print(\"Full Model Details: \")\n",
        "model_details = leader_model.get_params()\n",
        "print(model_details)\n"
      ],
      "metadata": {
        "colab": {
          "base_uri": "https://localhost:8080/"
        },
        "id": "zKag-da8fcfu",
        "outputId": "7ff2cb5b-fd4a-4687-e129-639d53d96094"
      },
      "execution_count": 30,
      "outputs": [
        {
          "output_type": "stream",
          "name": "stdout",
          "text": [
            "Best Model Type:  gbm\n",
            "Best Model ID:  GBM_3_AutoML_1_20240211_175657\n",
            "Best Model Performance: \n",
            "Cross-Validation Metrics Summary: \n",
            "                         mean       sd          cv_1_valid    cv_2_valid    cv_3_valid    cv_4_valid    cv_5_valid\n",
            "-----------------------  ---------  ----------  ------------  ------------  ------------  ------------  ------------\n",
            "accuracy                 0.929487   0.0116702   0.927273      0.931818      0.915909      0.924829      0.947608\n",
            "auc                      0.971287   0.00889954  0.965221      0.971618      0.973146      0.961628      0.98482\n",
            "err                      0.0705125  0.0116702   0.0727273     0.0681818     0.0840909     0.0751708     0.0523918\n",
            "err_count                31         5.14781     32            30            37            33            23\n",
            "f0point5                 0.92633    0.0138682   0.940212      0.919283      0.907906      0.92437       0.939881\n",
            "f1                       0.929699   0.0126828   0.924171      0.931818      0.918681      0.923077      0.950749\n",
            "f2                       0.933349   0.0206062   0.908667      0.944701      0.929715      0.921788      0.961872\n",
            "lift_top_group           2.00123    0.0554086   2.02765       2.04651       1.97309       2.04186       1.91703\n",
            "logloss                  0.214482   0.030195    0.223773      0.204763      0.220737      0.25286       0.170276\n",
            "max_per_class_error      0.0903045  0.0131929   0.101382      0.0888889     0.105991      0.0790698     0.0761905\n",
            "mcc                      0.859572   0.0233251   0.855686      0.864599      0.832391      0.84959       0.895591\n",
            "mean_per_class_accuracy  0.929235   0.0114324   0.926887      0.9323        0.915614      0.924751      0.946621\n",
            "mean_per_class_error     0.0707654  0.0114324   0.0731128     0.0677003     0.0843855     0.0752492     0.0533791\n",
            "mse                      0.0602302  0.00868823  0.0612667     0.0571454     0.0655388     0.0699545     0.0472453\n",
            "pr_auc                   0.969285   0.0111737   0.961734      0.966913      0.974804      0.957407      0.98557\n",
            "precision                0.92424    0.0194974   0.951219      0.911111      0.900862      0.925234      0.932773\n",
            "r2                       0.758942   0.0346518   0.754887      0.7713        0.737796      0.720064      0.810664\n",
            "recall                   0.935938   0.0276115   0.898617      0.953488      0.93722       0.92093       0.969432\n",
            "rmse                     0.244885   0.0180735   0.247521      0.239051      0.256005      0.264489      0.21736\n",
            "specificity              0.922532   0.022619    0.955157      0.911111      0.894009      0.928571      0.923809\n",
            "Model Parameters: \n",
            "{'model_id': {'default': None, 'actual': {'__meta': {'schema_version': 3, 'schema_name': 'ModelKeyV3', 'schema_type': 'Key<Model>'}, 'name': 'GBM_3_AutoML_1_20240211_175657', 'type': 'Key<Model>', 'URL': '/3/Models/GBM_3_AutoML_1_20240211_175657'}, 'input': None}, 'training_frame': {'default': None, 'actual': {'__meta': {'schema_version': 3, 'schema_name': 'FrameKeyV3', 'schema_type': 'Key<Frame>'}, 'name': 'AutoML_1_20240211_175657_training_py_2_sid_a260', 'type': 'Key<Frame>', 'URL': '/3/Frames/AutoML_1_20240211_175657_training_py_2_sid_a260'}, 'input': {'__meta': {'schema_version': 3, 'schema_name': 'FrameKeyV3', 'schema_type': 'Key<Frame>'}, 'name': 'AutoML_1_20240211_175657_training_py_2_sid_a260', 'type': 'Key<Frame>', 'URL': '/3/Frames/AutoML_1_20240211_175657_training_py_2_sid_a260'}}, 'validation_frame': {'default': None, 'actual': None, 'input': None}, 'nfolds': {'default': 0, 'actual': 5, 'input': 5}, 'keep_cross_validation_models': {'default': True, 'actual': False, 'input': False}, 'keep_cross_validation_predictions': {'default': False, 'actual': True, 'input': True}, 'keep_cross_validation_fold_assignment': {'default': False, 'actual': False, 'input': False}, 'score_each_iteration': {'default': False, 'actual': False, 'input': False}, 'score_tree_interval': {'default': 0, 'actual': 5, 'input': 5}, 'fold_assignment': {'default': 'AUTO', 'actual': 'Modulo', 'input': 'Modulo'}, 'fold_column': {'default': None, 'actual': None, 'input': None}, 'response_column': {'default': None, 'actual': {'__meta': {'schema_version': 3, 'schema_name': 'ColSpecifierV3', 'schema_type': 'VecSpecifier'}, 'column_name': 'STATUS_dead_alive', 'is_member_of_frames': None}, 'input': {'__meta': {'schema_version': 3, 'schema_name': 'ColSpecifierV3', 'schema_type': 'VecSpecifier'}, 'column_name': 'STATUS_dead_alive', 'is_member_of_frames': None}}, 'ignored_columns': {'default': None, 'actual': [], 'input': []}, 'ignore_const_cols': {'default': True, 'actual': True, 'input': True}, 'offset_column': {'default': None, 'actual': None, 'input': None}, 'weights_column': {'default': None, 'actual': None, 'input': None}, 'balance_classes': {'default': False, 'actual': False, 'input': False}, 'class_sampling_factors': {'default': None, 'actual': None, 'input': None}, 'max_after_balance_size': {'default': 5.0, 'actual': 5.0, 'input': 5.0}, 'max_confusion_matrix_size': {'default': 20, 'actual': 20, 'input': 20}, 'ntrees': {'default': 50, 'actual': 39, 'input': 10000}, 'max_depth': {'default': 5, 'actual': 8, 'input': 8}, 'min_rows': {'default': 10.0, 'actual': 10.0, 'input': 10.0}, 'nbins': {'default': 20, 'actual': 20, 'input': 20}, 'nbins_top_level': {'default': 1024, 'actual': 1024, 'input': 1024}, 'nbins_cats': {'default': 1024, 'actual': 1024, 'input': 1024}, 'r2_stopping': {'default': 1.7976931348623157e+308, 'actual': 1.7976931348623157e+308, 'input': 1.7976931348623157e+308}, 'stopping_rounds': {'default': 0, 'actual': 0, 'input': 3}, 'stopping_metric': {'default': 'AUTO', 'actual': 'mean_per_class_error', 'input': 'mean_per_class_error'}, 'stopping_tolerance': {'default': 0.001, 'actual': 0.021329769189683427, 'input': 0.021329769189683427}, 'max_runtime_secs': {'default': 0.0, 'actual': 0.0, 'input': 0.0}, 'seed': {'default': -1, 'actual': 7, 'input': 7}, 'build_tree_one_node': {'default': False, 'actual': False, 'input': False}, 'learn_rate': {'default': 0.1, 'actual': 0.1, 'input': 0.1}, 'learn_rate_annealing': {'default': 1.0, 'actual': 1.0, 'input': 1.0}, 'distribution': {'default': 'AUTO', 'actual': 'bernoulli', 'input': 'bernoulli'}, 'quantile_alpha': {'default': 0.5, 'actual': 0.5, 'input': 0.5}, 'tweedie_power': {'default': 1.5, 'actual': 1.5, 'input': 1.5}, 'huber_alpha': {'default': 0.9, 'actual': 0.9, 'input': 0.9}, 'checkpoint': {'default': None, 'actual': None, 'input': None}, 'sample_rate': {'default': 1.0, 'actual': 0.8, 'input': 0.8}, 'sample_rate_per_class': {'default': None, 'actual': None, 'input': None}, 'col_sample_rate': {'default': 1.0, 'actual': 0.8, 'input': 0.8}, 'col_sample_rate_change_per_level': {'default': 1.0, 'actual': 1.0, 'input': 1.0}, 'col_sample_rate_per_tree': {'default': 1.0, 'actual': 0.8, 'input': 0.8}, 'min_split_improvement': {'default': 1e-05, 'actual': 1e-05, 'input': 1e-05}, 'histogram_type': {'default': 'AUTO', 'actual': 'UniformAdaptive', 'input': 'AUTO'}, 'max_abs_leafnode_pred': {'default': 1.7976931348623157e+308, 'actual': 1.7976931348623157e+308, 'input': 1.7976931348623157e+308}, 'pred_noise_bandwidth': {'default': 0.0, 'actual': 0.0, 'input': 0.0}, 'categorical_encoding': {'default': 'AUTO', 'actual': 'Enum', 'input': 'AUTO'}, 'calibrate_model': {'default': False, 'actual': False, 'input': False}, 'calibration_frame': {'default': None, 'actual': None, 'input': None}, 'calibration_method': {'default': 'AUTO', 'actual': 'PlattScaling', 'input': 'AUTO'}, 'custom_metric_func': {'default': None, 'actual': None, 'input': None}, 'custom_distribution_func': {'default': None, 'actual': None, 'input': None}, 'export_checkpoints_dir': {'default': None, 'actual': None, 'input': None}, 'in_training_checkpoints_dir': {'default': None, 'actual': None, 'input': None}, 'in_training_checkpoints_tree_interval': {'default': 1, 'actual': 1, 'input': 1}, 'monotone_constraints': {'default': None, 'actual': None, 'input': None}, 'check_constant_response': {'default': True, 'actual': True, 'input': True}, 'gainslift_bins': {'default': -1, 'actual': -1, 'input': -1}, 'auc_type': {'default': 'AUTO', 'actual': 'AUTO', 'input': 'AUTO'}, 'interaction_constraints': {'default': None, 'actual': None, 'input': None}, 'auto_rebalance': {'default': True, 'actual': True, 'input': True}}\n",
            "Full Model Details: \n",
            "{'model_id': None, 'training_frame': None, 'validation_frame': None, 'nfolds': 0, 'keep_cross_validation_models': True, 'keep_cross_validation_predictions': False, 'keep_cross_validation_fold_assignment': False, 'score_each_iteration': False, 'score_tree_interval': 0, 'fold_assignment': 'auto', 'fold_column': None, 'response_column': None, 'ignored_columns': None, 'ignore_const_cols': True, 'offset_column': None, 'weights_column': None, 'balance_classes': False, 'class_sampling_factors': None, 'max_after_balance_size': 5.0, 'max_confusion_matrix_size': 20, 'ntrees': 50, 'max_depth': 5, 'min_rows': 10.0, 'nbins': 20, 'nbins_top_level': 1024, 'nbins_cats': 1024, 'r2_stopping': None, 'stopping_rounds': 0, 'stopping_metric': 'auto', 'stopping_tolerance': 0.001, 'max_runtime_secs': 0.0, 'seed': -1, 'build_tree_one_node': False, 'learn_rate': 0.1, 'learn_rate_annealing': 1.0, 'distribution': 'auto', 'quantile_alpha': 0.5, 'tweedie_power': 1.5, 'huber_alpha': 0.9, 'checkpoint': None, 'sample_rate': 1.0, 'sample_rate_per_class': None, 'col_sample_rate': 1.0, 'col_sample_rate_change_per_level': 1.0, 'col_sample_rate_per_tree': 1.0, 'min_split_improvement': 1e-05, 'histogram_type': 'auto', 'max_abs_leafnode_pred': None, 'pred_noise_bandwidth': 0.0, 'categorical_encoding': 'auto', 'calibrate_model': False, 'calibration_frame': None, 'calibration_method': 'auto', 'custom_metric_func': None, 'custom_distribution_func': None, 'export_checkpoints_dir': None, 'in_training_checkpoints_dir': None, 'in_training_checkpoints_tree_interval': 1, 'monotone_constraints': None, 'check_constant_response': True, 'gainslift_bins': -1, 'auc_type': 'auto', 'interaction_constraints': None, 'auto_rebalance': True}\n"
          ]
        }
      ]
    },
    {
      "cell_type": "code",
      "source": [],
      "metadata": {
        "id": "Z1lwTHv-gjbx"
      },
      "execution_count": null,
      "outputs": []
    },
    {
      "cell_type": "code",
      "source": [],
      "metadata": {
        "id": "Wnv6uLP8L6vb"
      },
      "execution_count": null,
      "outputs": []
    },
    {
      "cell_type": "code",
      "source": [],
      "metadata": {
        "id": "LVm597xWL6yI"
      },
      "execution_count": null,
      "outputs": []
    },
    {
      "cell_type": "code",
      "source": [],
      "metadata": {
        "id": "vfpS1OABL60s"
      },
      "execution_count": null,
      "outputs": []
    },
    {
      "cell_type": "code",
      "source": [],
      "metadata": {
        "id": "ZLu6rUDIL63c"
      },
      "execution_count": null,
      "outputs": []
    },
    {
      "cell_type": "code",
      "source": [],
      "metadata": {
        "id": "gHHKU1o8L66I"
      },
      "execution_count": null,
      "outputs": []
    },
    {
      "cell_type": "code",
      "source": [],
      "metadata": {
        "id": "ZiDt08IzL68x"
      },
      "execution_count": null,
      "outputs": []
    },
    {
      "cell_type": "code",
      "source": [],
      "metadata": {
        "id": "jRzU1H62L6_c"
      },
      "execution_count": null,
      "outputs": []
    },
    {
      "cell_type": "code",
      "source": [],
      "metadata": {
        "id": "Hi4t8JR-L7CX"
      },
      "execution_count": null,
      "outputs": []
    },
    {
      "cell_type": "code",
      "source": [],
      "metadata": {
        "id": "TwxbI95bL7FM"
      },
      "execution_count": null,
      "outputs": []
    },
    {
      "cell_type": "code",
      "source": [],
      "metadata": {
        "id": "YV39QjBpL7H4"
      },
      "execution_count": null,
      "outputs": []
    },
    {
      "cell_type": "code",
      "source": [],
      "metadata": {
        "id": "OzHxr7xSL7Kq"
      },
      "execution_count": null,
      "outputs": []
    },
    {
      "cell_type": "code",
      "source": [],
      "metadata": {
        "id": "r0qy5trNL7Na"
      },
      "execution_count": null,
      "outputs": []
    },
    {
      "cell_type": "code",
      "source": [],
      "metadata": {
        "id": "Q6mdVp8bL7Q5"
      },
      "execution_count": null,
      "outputs": []
    },
    {
      "cell_type": "code",
      "source": [
        "import pandas as pd\n",
        "import matplotlib.pyplot as plt\n",
        "import numpy as np\n",
        "from sklearn.model_selection import train_test_split, GridSearchCV, StratifiedKFold\n",
        "from sklearn.preprocessing import StandardScaler, MinMaxScaler\n",
        "from sklearn.linear_model import LogisticRegression\n",
        "from sklearn.decomposition import PCA\n",
        "from sklearn.pipeline import Pipeline\n",
        "from sklearn.metrics import confusion_matrix\n",
        "from imblearn.over_sampling import SMOTE\n",
        "from imblearn.pipeline import Pipeline as imbpipeline\n",
        "from xgboost import XGBClassifier"
      ],
      "metadata": {
        "id": "bQsD1AI__InB"
      },
      "execution_count": 3,
      "outputs": []
    },
    {
      "cell_type": "code",
      "source": [
        "import pandas as pd\n",
        "df = pd.read_excel('//content/balanced_all_data_TargetOnly_ADASYN.xlsx')\n",
        "df.shape"
      ],
      "metadata": {
        "colab": {
          "base_uri": "https://localhost:8080/"
        },
        "id": "M9TzYBse_IqB",
        "outputId": "08da75ec-546c-45a7-dafc-7c0a1398f725"
      },
      "execution_count": 4,
      "outputs": [
        {
          "output_type": "execute_result",
          "data": {
            "text/plain": [
              "(2941, 17)"
            ]
          },
          "metadata": {},
          "execution_count": 4
        }
      ]
    },
    {
      "cell_type": "code",
      "source": [
        "df.STATUS_dead_alive.value_counts()"
      ],
      "metadata": {
        "colab": {
          "base_uri": "https://localhost:8080/"
        },
        "id": "LmjYywFk_ItP",
        "outputId": "35759c3b-b5f4-4d12-b07c-c8421282005b"
      },
      "execution_count": 5,
      "outputs": [
        {
          "output_type": "execute_result",
          "data": {
            "text/plain": [
              "1    1476\n",
              "0    1465\n",
              "Name: STATUS_dead_alive, dtype: int64"
            ]
          },
          "metadata": {},
          "execution_count": 5
        }
      ]
    },
    {
      "cell_type": "code",
      "source": [
        "\n",
        "# Assuming df is your DataFrame and it's ready for use\n",
        "X = df.drop('STATUS_dead_alive', axis=1)  # Features\n",
        "y = df['STATUS_dead_alive']  # Target variable\n",
        "\n",
        "# Split the data into training and test sets\n",
        "X_train, X_test, y_train, y_test = train_test_split(X, y, test_size=0.2, random_state=1)"
      ],
      "metadata": {
        "id": "DbceHK0A_IwR"
      },
      "execution_count": 6,
      "outputs": []
    },
    {
      "cell_type": "code",
      "source": [
        "import numpy as np\n",
        "import pandas as pd\n",
        "\n",
        "# Assuming you already have the test set and the label \"STATUS_dead_alive\" in y_test\n",
        "# You can obtain the unique classes and their counts as follows:\n",
        "\n",
        "# Find unique classes in the test set\n",
        "unique_classes = np.unique(y_test)\n",
        "\n",
        "# Count the number of samples for each unique class\n",
        "class_counts = pd.Series(y_test).value_counts()\n",
        "\n",
        "# Print the unique classes and their counts\n",
        "print(\"Unique Classes in Test Set:\", unique_classes)\n",
        "print(\"Class Distribution in Test Set:\")\n",
        "print(class_counts)"
      ],
      "metadata": {
        "colab": {
          "base_uri": "https://localhost:8080/"
        },
        "id": "xfUpBi6d_Iy_",
        "outputId": "d28c7094-6231-4c87-8a2c-8f13e5695422"
      },
      "execution_count": 7,
      "outputs": [
        {
          "output_type": "stream",
          "name": "stdout",
          "text": [
            "Unique Classes in Test Set: [0 1]\n",
            "Class Distribution in Test Set:\n",
            "1    296\n",
            "0    293\n",
            "Name: STATUS_dead_alive, dtype: int64\n"
          ]
        }
      ]
    },
    {
      "cell_type": "code",
      "source": [
        "import pandas as pd\n",
        "from sklearn.model_selection import train_test_split\n",
        "\n",
        "# Assuming you have loaded your DataFrame into df\n",
        "\n",
        "# Separate features and target\n",
        "X = df.drop(columns=['STATUS_dead_alive'])  # Features\n",
        "y = df['STATUS_dead_alive']  # Target\n",
        "\n",
        "# Convert the features to binary integers if they are not already\n",
        "X = X.astype(int)\n",
        "\n",
        "# Split the data into training and testing sets\n",
        "X_train, X_test, y_train, y_test = train_test_split(X, y, test_size=0.2, random_state=42)\n",
        "\n",
        "# Define the desired class distribution for the test set\n",
        "desired_class_distribution = {0: 0.7, 1: 0.3}\n",
        "\n",
        "# Adjust the class distribution in the test set manually\n",
        "class1_indices = y_test[y_test == 1].sample(frac=desired_class_distribution[1]).index\n",
        "class0_indices = y_test[y_test == 0].sample(frac=desired_class_distribution[0]).index\n",
        "\n",
        "# Combine the selected samples into the final test set\n",
        "balanced_df_test = pd.concat([X_test.loc[class1_indices], X_test.loc[class0_indices]])\n",
        "y_test_balanced = pd.concat([y_test.loc[class1_indices], y_test.loc[class0_indices]])\n",
        "\n",
        "# Combine the features and target into a DataFrame for testing\n",
        "balanced_df_test = pd.concat([balanced_df_test, y_test_balanced], axis=1)\n",
        "\n",
        "# Save the balanced test set to an Excel file\n",
        "balanced_df_test.to_excel('balanced_test_data.xlsx', index=False)"
      ],
      "metadata": {
        "id": "L1WlgcXP_I1w"
      },
      "execution_count": 8,
      "outputs": []
    },
    {
      "cell_type": "code",
      "source": [
        "X_test = balanced_df_test.drop(columns=['STATUS_dead_alive'])\n",
        "y_test = balanced_df_test['STATUS_dead_alive']"
      ],
      "metadata": {
        "id": "KPN7MyM1_I4w"
      },
      "execution_count": 9,
      "outputs": []
    },
    {
      "cell_type": "code",
      "source": [
        "import numpy as np\n",
        "import pandas as pd\n",
        "\n",
        "# Assuming you already have the test set and the label \"STATUS_dead_alive\" in y_test\n",
        "# You can obtain the unique classes and their counts as follows:\n",
        "\n",
        "# Find unique classes in the test set\n",
        "unique_classes = np.unique(y_test)\n",
        "\n",
        "# Count the number of samples for each unique class\n",
        "class_counts = pd.Series(y_test).value_counts()\n",
        "\n",
        "# Print the unique classes and their counts\n",
        "print(\"Unique Classes in Test Set:\", unique_classes)\n",
        "print(\"Class Distribution in Test Set:\")\n",
        "print(class_counts)"
      ],
      "metadata": {
        "colab": {
          "base_uri": "https://localhost:8080/"
        },
        "id": "DKUCgCiw_I7Q",
        "outputId": "1c28c819-47f9-44e9-ef93-cc404bcf9161"
      },
      "execution_count": 10,
      "outputs": [
        {
          "output_type": "stream",
          "name": "stdout",
          "text": [
            "Unique Classes in Test Set: [0 1]\n",
            "Class Distribution in Test Set:\n",
            "0    204\n",
            "1     89\n",
            "Name: STATUS_dead_alive, dtype: int64\n"
          ]
        }
      ]
    },
    {
      "cell_type": "code",
      "source": [
        "from tpot import TPOTClassifier\n",
        "from sklearn.metrics import f1_score\n",
        "import joblib\n",
        "\n",
        "# Instantiate TPOTClassifier\n",
        "tpot = TPOTClassifier(generations=50, population_size=20, verbosity=2, random_state=42,\n",
        "                      early_stop=8, scoring='f1', config_dict=\"TPOT sparse\")\n",
        "\n",
        "# Fit TPOT on the training data\n",
        "tpot.fit(X_train, y_train)\n",
        "\n",
        "# Score the optimized pipeline on the test set\n",
        "test_score = tpot.score(X_test, y_test)\n",
        "print(f\"F1 Score on Test Set: {test_score}\")\n",
        "\n",
        "# Score the optimized pipeline on the train set\n",
        "train_score = tpot.score(X_train, y_train)\n",
        "print(f\"F1 Score on Train Set: {train_score}\")\n",
        "\n",
        "# Print the best pipeline\n",
        "print(\"Best pipeline steps:\", end=\"\\n\")\n",
        "for idx, (name, transform) in enumerate(tpot.fitted_pipeline_.steps, start=1):\n",
        "    print(f\"{idx}. {name}\")\n",
        "\n",
        "# Save the best pipeline to a Python file\n",
        "tpot.export('tpot_best_pipeline.py')\n",
        "\n",
        "# Save the trained model\n",
        "joblib.dump(tpot.fitted_pipeline_, 'tpot_trained_model.pkl')\n"
      ],
      "metadata": {
        "colab": {
          "base_uri": "https://localhost:8080/",
          "height": 1000,
          "referenced_widgets": [
            "1be795343cc14643b095e2e1ab078924",
            "5907dfa98492419da82875168516dbaa",
            "d0756f517dc64565bf8175c4533d38b9",
            "8fb36034040940f788dc29c25b7d2006",
            "d89c5596ebdd4661a7de71bea5d4281e",
            "e00b890347c647c4a2675440d2e3499e",
            "5541cee84dce4927bd35cb47f6b8475a",
            "1e00c9d7042e48fbb11cffac7bfdefec",
            "8c8c2d9efeb94e2ab59e26210f94023a",
            "b0714a629eaf4bbda9dfba039295b5a1",
            "152fd2c7807442bdb560c39c7fcb1e34"
          ]
        },
        "id": "MqruvN7a_99Q",
        "outputId": "9e0a3c8e-20d2-44b3-8a57-b13c19556ba7"
      },
      "execution_count": 36,
      "outputs": [
        {
          "output_type": "display_data",
          "data": {
            "text/plain": [
              "Optimization Progress:   0%|          | 0/1020 [00:00<?, ?pipeline/s]"
            ],
            "application/vnd.jupyter.widget-view+json": {
              "version_major": 2,
              "version_minor": 0,
              "model_id": "1be795343cc14643b095e2e1ab078924"
            }
          },
          "metadata": {}
        },
        {
          "output_type": "stream",
          "name": "stdout",
          "text": [
            "\n",
            "Generation 1 - Current best internal CV score: 0.9379270886717039\n",
            "\n",
            "Generation 2 - Current best internal CV score: 0.9400495036406724\n",
            "\n",
            "Generation 3 - Current best internal CV score: 0.9400495036406724\n",
            "\n",
            "Generation 4 - Current best internal CV score: 0.9415707773322103\n",
            "\n",
            "Generation 5 - Current best internal CV score: 0.9440140283149739\n",
            "\n",
            "Generation 6 - Current best internal CV score: 0.9444234070986932\n",
            "\n",
            "Generation 7 - Current best internal CV score: 0.9464468741865971\n",
            "\n",
            "Generation 8 - Current best internal CV score: 0.9464468741865971\n",
            "\n",
            "Generation 9 - Current best internal CV score: 0.9464468741865971\n",
            "\n",
            "Generation 10 - Current best internal CV score: 0.9464468741865971\n",
            "\n",
            "Generation 11 - Current best internal CV score: 0.9464468741865971\n",
            "\n",
            "Generation 12 - Current best internal CV score: 0.9464468741865971\n",
            "\n",
            "Generation 13 - Current best internal CV score: 0.9468568068930864\n",
            "\n",
            "Generation 14 - Current best internal CV score: 0.9468568068930864\n",
            "\n",
            "Generation 15 - Current best internal CV score: 0.9468568068930864\n",
            "\n",
            "Generation 16 - Current best internal CV score: 0.9468568068930864\n",
            "\n",
            "Generation 17 - Current best internal CV score: 0.9468568068930864\n",
            "\n",
            "Generation 18 - Current best internal CV score: 0.9468568068930864\n",
            "\n",
            "Generation 19 - Current best internal CV score: 0.9468568068930864\n",
            "\n",
            "Generation 20 - Current best internal CV score: 0.9468568068930864\n",
            "\n",
            "Generation 21 - Current best internal CV score: 0.9468568068930864\n",
            "\n",
            "The optimized pipeline was not improved after evaluating 8 more generations. Will end the optimization process.\n",
            "\n",
            "TPOT closed prematurely. Will use the current best pipeline.\n",
            "\n",
            "Best pipeline: RandomForestClassifier(input_matrix, bootstrap=False, criterion=entropy, max_features=0.55, min_samples_leaf=1, min_samples_split=15, n_estimators=100)\n",
            "F1 Score on Test Set: 0.9032258064516129\n",
            "F1 Score on Train Set: 0.9558638083228246\n",
            "Best pipeline steps:\n",
            "1. randomforestclassifier\n"
          ]
        },
        {
          "output_type": "execute_result",
          "data": {
            "text/plain": [
              "['tpot_trained_model.pkl']"
            ]
          },
          "metadata": {},
          "execution_count": 36
        }
      ]
    },
    {
      "cell_type": "code",
      "source": [
        "tpot.export('optimized_pipeline.py')\n",
        "from joblib import dump\n"
      ],
      "metadata": {
        "id": "ETuBkH0dQYY4"
      },
      "execution_count": 37,
      "outputs": []
    },
    {
      "cell_type": "code",
      "source": [
        "from joblib import dump\n",
        "\n",
        "# Save the trained TPOT model\n",
        "dump(tpot.fitted_pipeline_, 'tpot_trained_model.joblib')\n"
      ],
      "metadata": {
        "colab": {
          "base_uri": "https://localhost:8080/"
        },
        "id": "SOy5RvuvQcUb",
        "outputId": "17f7f4b6-3408-4fc3-d2db-ae7c22c95825"
      },
      "execution_count": 38,
      "outputs": [
        {
          "output_type": "execute_result",
          "data": {
            "text/plain": [
              "['tpot_trained_model.joblib']"
            ]
          },
          "metadata": {},
          "execution_count": 38
        }
      ]
    },
    {
      "cell_type": "code",
      "source": [
        "from joblib import load\n",
        "# Load the saved TPOT model\n",
        "tpot_model = load('tpot_trained_model.joblib')\n",
        "\n",
        "\n",
        "tpot.fitted_pipeline_\n"
      ],
      "metadata": {
        "colab": {
          "base_uri": "https://localhost:8080/",
          "height": 132
        },
        "id": "v2bB7IeHQjHu",
        "outputId": "d1c431e7-fc79-4666-c1f6-c98e361f4b91"
      },
      "execution_count": 39,
      "outputs": [
        {
          "output_type": "execute_result",
          "data": {
            "text/plain": [
              "Pipeline(steps=[('randomforestclassifier',\n",
              "                 RandomForestClassifier(bootstrap=False, criterion='entropy',\n",
              "                                        max_features=0.55, min_samples_split=15,\n",
              "                                        random_state=42))])"
            ],
            "text/html": [
              "<style>#sk-container-id-2 {color: black;background-color: white;}#sk-container-id-2 pre{padding: 0;}#sk-container-id-2 div.sk-toggleable {background-color: white;}#sk-container-id-2 label.sk-toggleable__label {cursor: pointer;display: block;width: 100%;margin-bottom: 0;padding: 0.3em;box-sizing: border-box;text-align: center;}#sk-container-id-2 label.sk-toggleable__label-arrow:before {content: \"▸\";float: left;margin-right: 0.25em;color: #696969;}#sk-container-id-2 label.sk-toggleable__label-arrow:hover:before {color: black;}#sk-container-id-2 div.sk-estimator:hover label.sk-toggleable__label-arrow:before {color: black;}#sk-container-id-2 div.sk-toggleable__content {max-height: 0;max-width: 0;overflow: hidden;text-align: left;background-color: #f0f8ff;}#sk-container-id-2 div.sk-toggleable__content pre {margin: 0.2em;color: black;border-radius: 0.25em;background-color: #f0f8ff;}#sk-container-id-2 input.sk-toggleable__control:checked~div.sk-toggleable__content {max-height: 200px;max-width: 100%;overflow: auto;}#sk-container-id-2 input.sk-toggleable__control:checked~label.sk-toggleable__label-arrow:before {content: \"▾\";}#sk-container-id-2 div.sk-estimator input.sk-toggleable__control:checked~label.sk-toggleable__label {background-color: #d4ebff;}#sk-container-id-2 div.sk-label input.sk-toggleable__control:checked~label.sk-toggleable__label {background-color: #d4ebff;}#sk-container-id-2 input.sk-hidden--visually {border: 0;clip: rect(1px 1px 1px 1px);clip: rect(1px, 1px, 1px, 1px);height: 1px;margin: -1px;overflow: hidden;padding: 0;position: absolute;width: 1px;}#sk-container-id-2 div.sk-estimator {font-family: monospace;background-color: #f0f8ff;border: 1px dotted black;border-radius: 0.25em;box-sizing: border-box;margin-bottom: 0.5em;}#sk-container-id-2 div.sk-estimator:hover {background-color: #d4ebff;}#sk-container-id-2 div.sk-parallel-item::after {content: \"\";width: 100%;border-bottom: 1px solid gray;flex-grow: 1;}#sk-container-id-2 div.sk-label:hover label.sk-toggleable__label {background-color: #d4ebff;}#sk-container-id-2 div.sk-serial::before {content: \"\";position: absolute;border-left: 1px solid gray;box-sizing: border-box;top: 0;bottom: 0;left: 50%;z-index: 0;}#sk-container-id-2 div.sk-serial {display: flex;flex-direction: column;align-items: center;background-color: white;padding-right: 0.2em;padding-left: 0.2em;position: relative;}#sk-container-id-2 div.sk-item {position: relative;z-index: 1;}#sk-container-id-2 div.sk-parallel {display: flex;align-items: stretch;justify-content: center;background-color: white;position: relative;}#sk-container-id-2 div.sk-item::before, #sk-container-id-2 div.sk-parallel-item::before {content: \"\";position: absolute;border-left: 1px solid gray;box-sizing: border-box;top: 0;bottom: 0;left: 50%;z-index: -1;}#sk-container-id-2 div.sk-parallel-item {display: flex;flex-direction: column;z-index: 1;position: relative;background-color: white;}#sk-container-id-2 div.sk-parallel-item:first-child::after {align-self: flex-end;width: 50%;}#sk-container-id-2 div.sk-parallel-item:last-child::after {align-self: flex-start;width: 50%;}#sk-container-id-2 div.sk-parallel-item:only-child::after {width: 0;}#sk-container-id-2 div.sk-dashed-wrapped {border: 1px dashed gray;margin: 0 0.4em 0.5em 0.4em;box-sizing: border-box;padding-bottom: 0.4em;background-color: white;}#sk-container-id-2 div.sk-label label {font-family: monospace;font-weight: bold;display: inline-block;line-height: 1.2em;}#sk-container-id-2 div.sk-label-container {text-align: center;}#sk-container-id-2 div.sk-container {/* jupyter's `normalize.less` sets `[hidden] { display: none; }` but bootstrap.min.css set `[hidden] { display: none !important; }` so we also need the `!important` here to be able to override the default hidden behavior on the sphinx rendered scikit-learn.org. See: https://github.com/scikit-learn/scikit-learn/issues/21755 */display: inline-block !important;position: relative;}#sk-container-id-2 div.sk-text-repr-fallback {display: none;}</style><div id=\"sk-container-id-2\" class=\"sk-top-container\"><div class=\"sk-text-repr-fallback\"><pre>Pipeline(steps=[(&#x27;randomforestclassifier&#x27;,\n",
              "                 RandomForestClassifier(bootstrap=False, criterion=&#x27;entropy&#x27;,\n",
              "                                        max_features=0.55, min_samples_split=15,\n",
              "                                        random_state=42))])</pre><b>In a Jupyter environment, please rerun this cell to show the HTML representation or trust the notebook. <br />On GitHub, the HTML representation is unable to render, please try loading this page with nbviewer.org.</b></div><div class=\"sk-container\" hidden><div class=\"sk-item sk-dashed-wrapped\"><div class=\"sk-label-container\"><div class=\"sk-label sk-toggleable\"><input class=\"sk-toggleable__control sk-hidden--visually\" id=\"sk-estimator-id-3\" type=\"checkbox\" ><label for=\"sk-estimator-id-3\" class=\"sk-toggleable__label sk-toggleable__label-arrow\">Pipeline</label><div class=\"sk-toggleable__content\"><pre>Pipeline(steps=[(&#x27;randomforestclassifier&#x27;,\n",
              "                 RandomForestClassifier(bootstrap=False, criterion=&#x27;entropy&#x27;,\n",
              "                                        max_features=0.55, min_samples_split=15,\n",
              "                                        random_state=42))])</pre></div></div></div><div class=\"sk-serial\"><div class=\"sk-item\"><div class=\"sk-estimator sk-toggleable\"><input class=\"sk-toggleable__control sk-hidden--visually\" id=\"sk-estimator-id-4\" type=\"checkbox\" ><label for=\"sk-estimator-id-4\" class=\"sk-toggleable__label sk-toggleable__label-arrow\">RandomForestClassifier</label><div class=\"sk-toggleable__content\"><pre>RandomForestClassifier(bootstrap=False, criterion=&#x27;entropy&#x27;, max_features=0.55,\n",
              "                       min_samples_split=15, random_state=42)</pre></div></div></div></div></div></div></div>"
            ]
          },
          "metadata": {},
          "execution_count": 39
        }
      ]
    },
    {
      "cell_type": "code",
      "source": [
        "\n",
        "tpot.score(X_test, y_test)\n",
        "\n"
      ],
      "metadata": {
        "colab": {
          "base_uri": "https://localhost:8080/"
        },
        "id": "aiQ5wqaGQoH7",
        "outputId": "37bbeda2-627f-4a7c-b9d0-66f4dd927a72"
      },
      "execution_count": 40,
      "outputs": [
        {
          "output_type": "execute_result",
          "data": {
            "text/plain": [
              "0.9032258064516129"
            ]
          },
          "metadata": {},
          "execution_count": 40
        }
      ]
    },
    {
      "cell_type": "code",
      "source": [
        "tpot.score(X_train, y_train)"
      ],
      "metadata": {
        "colab": {
          "base_uri": "https://localhost:8080/"
        },
        "id": "sOBghoryQtff",
        "outputId": "8518e9b4-ab30-42c9-a22a-7d31ca600f49"
      },
      "execution_count": 41,
      "outputs": [
        {
          "output_type": "execute_result",
          "data": {
            "text/plain": [
              "0.9558638083228246"
            ]
          },
          "metadata": {},
          "execution_count": 41
        }
      ]
    },
    {
      "cell_type": "code",
      "source": [],
      "metadata": {
        "id": "Y4srNh5MQqtA"
      },
      "execution_count": null,
      "outputs": []
    },
    {
      "cell_type": "code",
      "source": [
        "import joblib\n",
        "import matplotlib.pyplot as plt\n",
        "from sklearn.metrics import roc_curve, roc_auc_score\n",
        "\n",
        "# Load the trained model\n",
        "tpot_trained_model = joblib.load('tpot_trained_model.pkl')\n",
        "\n",
        "# Predict probabilities on the test and train sets\n",
        "y_test_probs = tpot_trained_model.predict_proba(X_test)[:, 1]\n",
        "y_train_probs = tpot_trained_model.predict_proba(X_train)[:, 1]\n",
        "\n",
        "# Calculate ROC AUC score for test set\n",
        "test_roc_auc = roc_auc_score(y_test, y_test_probs)\n",
        "\n",
        "# Calculate ROC AUC score for train set\n",
        "train_roc_auc = roc_auc_score(y_train, y_train_probs)\n",
        "\n",
        "# Compute ROC curve for test set\n",
        "fpr_test, tpr_test, _ = roc_curve(y_test, y_test_probs)\n",
        "\n",
        "# Compute ROC curve for train set\n",
        "fpr_train, tpr_train, _ = roc_curve(y_train, y_train_probs)\n",
        "\n",
        "# Plot ROC AUC curve\n",
        "plt.figure(figsize=(8, 6))\n",
        "plt.plot(fpr_test, tpr_test, color='blue', lw=2, label=f'Test ROC AUC = {test_roc_auc:.2f}')\n",
        "plt.plot(fpr_train, tpr_train, color='red', lw=2, label=f'Train ROC AUC = {train_roc_auc:.2f}')\n",
        "plt.plot([0, 1], [0, 1], color='black', lw=1, linestyle='--')\n",
        "plt.xlim([0.0, 1.0])\n",
        "plt.ylim([0.0, 1.05])\n",
        "plt.xlabel('False Positive Rate')\n",
        "plt.ylabel('True Positive Rate')\n",
        "plt.title('ROC AUC Curve')\n",
        "plt.legend(loc=\"lower right\")\n",
        "plt.show()"
      ],
      "metadata": {
        "colab": {
          "base_uri": "https://localhost:8080/",
          "height": 564
        },
        "id": "sB-F3qTg_-Ba",
        "outputId": "ecda253f-fbb8-4b4f-da61-7c4b4c8984f7"
      },
      "execution_count": 42,
      "outputs": [
        {
          "output_type": "display_data",
          "data": {
            "text/plain": [
              "<Figure size 800x600 with 1 Axes>"
            ],
            "image/png": "[encoded data removed]"
          },
          "metadata": {}
        }
      ]
    },
    {
      "cell_type": "code",
      "source": [
        "import joblib\n",
        "from sklearn.metrics import confusion_matrix\n",
        "\n",
        "# Load the trained model\n",
        "tpot_trained_model = joblib.load('tpot_trained_model.pkl')\n",
        "\n",
        "# Predict labels on the test and train sets\n",
        "y_test_pred = tpot_trained_model.predict(X_test)\n",
        "y_train_pred = tpot_trained_model.predict(X_train)\n",
        "\n",
        "# Compute confusion matrix for test set\n",
        "tn_test, fp_test, fn_test, tp_test = confusion_matrix(y_test, y_test_pred).ravel()\n",
        "\n",
        "# Compute confusion matrix for train set\n",
        "tn_train, fp_train, fn_train, tp_train = confusion_matrix(y_train, y_train_pred).ravel()\n",
        "\n",
        "# Print the results\n",
        "print(\"Test Set:\")\n",
        "print(f\"True Positives: {tp_test}\")\n",
        "print(f\"True Negatives: {tn_test}\")\n",
        "print(f\"False Positives: {fp_test}\")\n",
        "print(f\"False Negatives: {fn_test}\")\n",
        "print()\n",
        "print(\"Train Set:\")\n",
        "print(f\"True Positives: {tp_train}\")\n",
        "print(f\"True Negatives: {tn_train}\")\n",
        "print(f\"False Positives: {fp_train}\")\n",
        "print(f\"False Negatives: {fn_train}\")\n"
      ],
      "metadata": {
        "colab": {
          "base_uri": "https://localhost:8080/"
        },
        "id": "e5Ntgd9QC2mq",
        "outputId": "95118144-eb92-47f7-ca37-055c6b0c0fa9"
      },
      "execution_count": 43,
      "outputs": [
        {
          "output_type": "stream",
          "name": "stdout",
          "text": [
            "Test Set:\n",
            "True Positives: 84\n",
            "True Negatives: 191\n",
            "False Positives: 13\n",
            "False Negatives: 5\n",
            "\n",
            "Train Set:\n",
            "True Positives: 1137\n",
            "True Negatives: 1110\n",
            "False Positives: 64\n",
            "False Negatives: 41\n"
          ]
        }
      ]
    },
    {
      "cell_type": "code",
      "source": [
        "import joblib\n",
        "import numpy as np\n",
        "from sklearn.metrics import confusion_matrix\n",
        "\n",
        "# Load the trained model\n",
        "tpot_trained_model = joblib.load('tpot_trained_model.pkl')\n",
        "\n",
        "# Predict probabilities on the test set\n",
        "y_test_probs = tpot_trained_model.predict_proba(X_test)[:, 1]\n",
        "\n",
        "# Adjust the threshold to reduce false negatives\n",
        "threshold = 0.5  # Example threshold, you can adjust it as needed\n",
        "y_test_pred = np.where(y_test_probs > threshold, 1, 0)\n",
        "\n",
        "# Compute confusion matrix for test set\n",
        "tn_test, fp_test, fn_test, tp_test = confusion_matrix(y_test, y_test_pred).ravel()\n",
        "\n",
        "# Print the results\n",
        "print(\"Test Set:\")\n",
        "print(f\"True Positives: {tp_test}\")\n",
        "print(f\"True Negatives: {tn_test}\")\n",
        "print(f\"False Positives: {fp_test}\")\n",
        "print(f\"False Negatives: {fn_test}\")\n"
      ],
      "metadata": {
        "colab": {
          "base_uri": "https://localhost:8080/"
        },
        "id": "_7yOGcd4DuFN",
        "outputId": "aa408a55-9e98-45e7-c6f9-44b519a63a9e"
      },
      "execution_count": 44,
      "outputs": [
        {
          "output_type": "stream",
          "name": "stdout",
          "text": [
            "Test Set:\n",
            "True Positives: 84\n",
            "True Negatives: 191\n",
            "False Positives: 13\n",
            "False Negatives: 5\n"
          ]
        }
      ]
    },
    {
      "cell_type": "code",
      "source": [
        "# Load the trained model\n",
        "tpot_trained_model = joblib.load('tpot_trained_model.pkl')\n",
        "\n",
        "# Predict probabilities on the test and train sets\n",
        "y_test_probs = tpot_trained_model.predict_proba(X_test)[:, 1]\n",
        "y_train_probs = tpot_trained_model.predict_proba(X_train)[:, 1]\n",
        "\n",
        "# Adjust the prediction threshold\n",
        "threshold = 0.2  # Example threshold, adjust as needed\n",
        "y_test_pred_adjusted = (y_test_probs > threshold).astype(int)\n",
        "y_train_pred_adjusted = (y_train_probs > threshold).astype(int)\n",
        "\n",
        "# Compute confusion matrix for test set\n",
        "tn_test, fp_test, fn_test, tp_test = confusion_matrix(y_test, y_test_pred_adjusted).ravel()\n",
        "\n",
        "# Compute confusion matrix for train set\n",
        "tn_train, fp_train, fn_train, tp_train = confusion_matrix(y_train, y_train_pred_adjusted).ravel()\n",
        "\n",
        "# Print the results\n",
        "print(\"Adjusted Test Set:\")\n",
        "print(f\"True Positives: {tp_test}\")\n",
        "print(f\"True Negatives: {tn_test}\")\n",
        "print(f\"False Positives: {fp_test}\")\n",
        "print(f\"False Negatives: {fn_test}\")\n",
        "print()\n",
        "print(\"Adjusted Train Set:\")\n",
        "print(f\"True Positives: {tp_train}\")\n",
        "print(f\"True Negatives: {tn_train}\")\n",
        "print(f\"False Positives: {fp_train}\")\n",
        "print(f\"False Negatives: {fn_train}\")\n"
      ],
      "metadata": {
        "colab": {
          "base_uri": "https://localhost:8080/"
        },
        "id": "vtrPkPrCEzqp",
        "outputId": "312806ca-0485-4556-b24d-c64a1d687c50"
      },
      "execution_count": 45,
      "outputs": [
        {
          "output_type": "stream",
          "name": "stdout",
          "text": [
            "Adjusted Test Set:\n",
            "True Positives: 89\n",
            "True Negatives: 174\n",
            "False Positives: 30\n",
            "False Negatives: 0\n",
            "\n",
            "Adjusted Train Set:\n",
            "True Positives: 1172\n",
            "True Negatives: 1026\n",
            "False Positives: 148\n",
            "False Negatives: 6\n"
          ]
        }
      ]
    },
    {
      "cell_type": "code",
      "source": [
        "# Calculate Sensitivity (True Positive Rate or Recall)\n",
        "sensitivity_test = tp_test / (tp_test + fn_test)\n",
        "sensitivity_train = tp_train / (tp_train + fn_train)\n",
        "\n",
        "# Calculate Specificity (True Negative Rate)\n",
        "specificity_test = tn_test / (tn_test + fp_test)\n",
        "specificity_train = tn_train / (tn_train + fp_train)\n",
        "\n",
        "# Calculate Accuracy\n",
        "accuracy_test = (tp_test + tn_test) / (tp_test + tn_test + fp_test + fn_test)\n",
        "accuracy_train = (tp_train + tn_train) / (tp_train + tn_train + fp_train + fn_train)\n",
        "\n",
        "# Calculate Precision (Positive Predictive Value)\n",
        "precision_test = tp_test / (tp_test + fp_test)\n",
        "precision_train = tp_train / (tp_train + fp_train)\n",
        "\n",
        "# Calculate F1 Score\n",
        "f1_score_test = 2 * (precision_test * sensitivity_test) / (precision_test + sensitivity_test)\n",
        "f1_score_train = 2 * (precision_train * sensitivity_train) / (precision_train + sensitivity_train)\n",
        "\n",
        "# Calculate Positive Predictive Value (Precision) and Negative Predictive Value\n",
        "ppv_test = precision_test\n",
        "ppv_train = precision_train\n",
        "npv_test = tn_test / (tn_test + fn_test)\n",
        "npv_train = tn_train / (tn_train + fn_train)\n",
        "\n",
        "# Calculate Positive Likelihood Ratio and Negative Likelihood Ratio\n",
        "lr_pos_test = sensitivity_test / (1 - specificity_test)\n",
        "lr_pos_train = sensitivity_train / (1 - specificity_train)\n",
        "lr_neg_test = (1 - sensitivity_test) / specificity_test\n",
        "lr_neg_train = (1 - sensitivity_train) / specificity_train\n",
        "\n",
        "# Print the results\n",
        "print(\"Test Set:\")\n",
        "print(f\"Sensitivity: {sensitivity_test:.2f}\")\n",
        "print(f\"Specificity: {specificity_test:.2f}\")\n",
        "print(f\"Accuracy: {accuracy_test:.2f}\")\n",
        "print(f\"Precision: {precision_test:.2f}\")\n",
        "print(f\"F1 Score: {f1_score_test:.2f}\")\n",
        "print(f\"Positive Predictive Value: {ppv_test:.2f}\")\n",
        "print(f\"Negative Predictive Value: {npv_test:.2f}\")\n",
        "print(f\"Positive Likelihood Ratio: {lr_pos_test:.2f}\")\n",
        "print(f\"Negative Likelihood Ratio: {lr_neg_test:.2f}\")\n",
        "print()\n",
        "\n",
        "print(\"Train Set:\")\n",
        "print(f\"Sensitivity: {sensitivity_train:.2f}\")\n",
        "print(f\"Specificity: {specificity_train:.2f}\")\n",
        "print(f\"Accuracy: {accuracy_train:.2f}\")\n",
        "print(f\"Precision: {precision_train:.2f}\")\n",
        "print(f\"F1 Score: {f1_score_train:.2f}\")\n",
        "print(f\"Positive Predictive Value: {ppv_train:.2f}\")\n",
        "print(f\"Negative Predictive Value: {npv_train:.2f}\")\n",
        "print(f\"Positive Likelihood Ratio: {lr_pos_train:.2f}\")\n",
        "print(f\"Negative Likelihood Ratio: {lr_neg_train:.2f}\")\n"
      ],
      "metadata": {
        "colab": {
          "base_uri": "https://localhost:8080/"
        },
        "id": "TgWur5PIE95Y",
        "outputId": "be23970d-457a-49a3-c587-77929a4b8105"
      },
      "execution_count": 46,
      "outputs": [
        {
          "output_type": "stream",
          "name": "stdout",
          "text": [
            "Test Set:\n",
            "Sensitivity: 1.00\n",
            "Specificity: 0.85\n",
            "Accuracy: 0.90\n",
            "Precision: 0.75\n",
            "F1 Score: 0.86\n",
            "Positive Predictive Value: 0.75\n",
            "Negative Predictive Value: 1.00\n",
            "Positive Likelihood Ratio: 6.80\n",
            "Negative Likelihood Ratio: 0.00\n",
            "\n",
            "Train Set:\n",
            "Sensitivity: 0.99\n",
            "Specificity: 0.87\n",
            "Accuracy: 0.93\n",
            "Precision: 0.89\n",
            "F1 Score: 0.94\n",
            "Positive Predictive Value: 0.89\n",
            "Negative Predictive Value: 0.99\n",
            "Positive Likelihood Ratio: 7.89\n",
            "Negative Likelihood Ratio: 0.01\n"
          ]
        }
      ]
    },
    {
      "cell_type": "code",
      "source": [
        "!pip install tpot"
      ],
      "metadata": {
        "colab": {
          "base_uri": "https://localhost:8080/"
        },
        "id": "bhwm7E8yG5gI",
        "outputId": "accfb3ec-a510-4e1d-edf5-9ae119d8b41f"
      },
      "execution_count": 34,
      "outputs": [
        {
          "output_type": "stream",
          "name": "stdout",
          "text": [
            "Requirement already satisfied: tpot in /usr/local/lib/python3.10/dist-packages (0.12.1)\n",
            "Requirement already satisfied: numpy>=1.16.3 in /usr/local/lib/python3.10/dist-packages (from tpot) (1.23.5)\n",
            "Requirement already satisfied: scipy>=1.3.1 in /usr/local/lib/python3.10/dist-packages (from tpot) (1.11.4)\n",
            "Requirement already satisfied: scikit-learn>=0.22.0 in /usr/local/lib/python3.10/dist-packages (from tpot) (1.2.2)\n",
            "Requirement already satisfied: deap>=1.2 in /usr/local/lib/python3.10/dist-packages (from tpot) (1.4.1)\n",
            "Requirement already satisfied: update-checker>=0.16 in /usr/local/lib/python3.10/dist-packages (from tpot) (0.18.0)\n",
            "Requirement already satisfied: tqdm>=4.36.1 in /usr/local/lib/python3.10/dist-packages (from tpot) (4.66.1)\n",
            "Requirement already satisfied: stopit>=1.1.1 in /usr/local/lib/python3.10/dist-packages (from tpot) (1.1.2)\n",
            "Requirement already satisfied: pandas>=0.24.2 in /usr/local/lib/python3.10/dist-packages (from tpot) (1.5.3)\n",
            "Requirement already satisfied: joblib>=0.13.2 in /usr/local/lib/python3.10/dist-packages (from tpot) (1.3.2)\n",
            "Requirement already satisfied: xgboost>=1.1.0 in /usr/local/lib/python3.10/dist-packages (from tpot) (2.0.3)\n",
            "Requirement already satisfied: python-dateutil>=2.8.1 in /usr/local/lib/python3.10/dist-packages (from pandas>=0.24.2->tpot) (2.8.2)\n",
            "Requirement already satisfied: pytz>=2020.1 in /usr/local/lib/python3.10/dist-packages (from pandas>=0.24.2->tpot) (2023.4)\n",
            "Requirement already satisfied: threadpoolctl>=2.0.0 in /usr/local/lib/python3.10/dist-packages (from scikit-learn>=0.22.0->tpot) (3.2.0)\n",
            "Requirement already satisfied: requests>=2.3.0 in /usr/local/lib/python3.10/dist-packages (from update-checker>=0.16->tpot) (2.31.0)\n",
            "Requirement already satisfied: six>=1.5 in /usr/local/lib/python3.10/dist-packages (from python-dateutil>=2.8.1->pandas>=0.24.2->tpot) (1.16.0)\n",
            "Requirement already satisfied: charset-normalizer<4,>=2 in /usr/local/lib/python3.10/dist-packages (from requests>=2.3.0->update-checker>=0.16->tpot) (3.3.2)\n",
            "Requirement already satisfied: idna<4,>=2.5 in /usr/local/lib/python3.10/dist-packages (from requests>=2.3.0->update-checker>=0.16->tpot) (3.6)\n",
            "Requirement already satisfied: urllib3<3,>=1.21.1 in /usr/local/lib/python3.10/dist-packages (from requests>=2.3.0->update-checker>=0.16->tpot) (2.0.7)\n",
            "Requirement already satisfied: certifi>=2017.4.17 in /usr/local/lib/python3.10/dist-packages (from requests>=2.3.0->update-checker>=0.16->tpot) (2024.2.2)\n"
          ]
        }
      ]
    }
  ]
}