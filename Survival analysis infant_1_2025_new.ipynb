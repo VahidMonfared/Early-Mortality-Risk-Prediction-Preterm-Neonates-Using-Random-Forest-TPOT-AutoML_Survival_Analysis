{
  "cells": [
    {
      "cell_type": "code",
      "execution_count": 3,
      "metadata": {
        "id": "bQsD1AI__InB"
      },
      "outputs": [],
      "source": [
        "import pandas as pd\n",
        "import matplotlib.pyplot as plt\n",
        "import numpy as np\n",
        "from sklearn.model_selection import train_test_split, GridSearchCV, StratifiedKFold\n",
        "from sklearn.preprocessing import StandardScaler, MinMaxScaler\n",
        "from sklearn.linear_model import LogisticRegression\n",
        "from sklearn.decomposition import PCA\n",
        "from sklearn.pipeline import Pipeline\n",
        "from sklearn.metrics import confusion_matrix\n",
        "from imblearn.over_sampling import SMOTE\n",
        "from imblearn.pipeline import Pipeline as imbpipeline\n",
        "from xgboost import XGBClassifier"
      ]
    },
    {
      "cell_type": "code",
      "execution_count": 4,
      "metadata": {
        "colab": {
          "base_uri": "https://localhost:8080/"
        },
        "id": "M9TzYBse_IqB",
        "outputId": "08da75ec-546c-45a7-dafc-7c0a1398f725"
      },
      "outputs": [
        {
          "data": {
            "text/plain": [
              "(2941, 17)"
            ]
          },
          "execution_count": 4,
          "metadata": {},
          "output_type": "execute_result"
        }
      ],
      "source": [
        "import pandas as pd\n",
        "df = pd.read_excel('//content/balanced_all_data_TargetOnly_ADASYN.xlsx')\n",
        "df.shape"
      ]
    },
    {
      "cell_type": "code",
      "execution_count": 5,
      "metadata": {
        "colab": {
          "base_uri": "https://localhost:8080/"
        },
        "id": "LmjYywFk_ItP",
        "outputId": "35759c3b-b5f4-4d12-b07c-c8421282005b"
      },
      "outputs": [
        {
          "data": {
            "text/plain": [
              "1    1476\n",
              "0    1465\n",
              "Name: STATUS_dead_alive, dtype: int64"
            ]
          },
          "execution_count": 5,
          "metadata": {},
          "output_type": "execute_result"
        }
      ],
      "source": [
        "df.STATUS_dead_alive.value_counts()"
      ]
    },
    {
      "cell_type": "code",
      "execution_count": 6,
      "metadata": {
        "id": "DbceHK0A_IwR"
      },
      "outputs": [],
      "source": [
        "\n",
        "# Assuming df is your DataFrame and it's ready for use\n",
        "X = df.drop('STATUS_dead_alive', axis=1)  # Features\n",
        "y = df['STATUS_dead_alive']  # Target variable\n",
        "\n",
        "# Split the data into training and test sets\n",
        "X_train, X_test, y_train, y_test = train_test_split(X, y, test_size=0.2, random_state=1)"
      ]
    },
    {
      "cell_type": "code",
      "execution_count": 7,
      "metadata": {
        "colab": {
          "base_uri": "https://localhost:8080/"
        },
        "id": "xfUpBi6d_Iy_",
        "outputId": "d28c7094-6231-4c87-8a2c-8f13e5695422"
      },
      "outputs": [
        {
          "name": "stdout",
          "output_type": "stream",
          "text": [
            "Unique Classes in Test Set: [0 1]\n",
            "Class Distribution in Test Set:\n",
            "1    296\n",
            "0    293\n",
            "Name: STATUS_dead_alive, dtype: int64\n"
          ]
        }
      ],
      "source": [
        "import numpy as np\n",
        "import pandas as pd\n",
        "\n",
        "# Assuming you already have the test set and the label \"STATUS_dead_alive\" in y_test\n",
        "# You can obtain the unique classes and their counts as follows:\n",
        "\n",
        "# Find unique classes in the test set\n",
        "unique_classes = np.unique(y_test)\n",
        "\n",
        "# Count the number of samples for each unique class\n",
        "class_counts = pd.Series(y_test).value_counts()\n",
        "\n",
        "# Print the unique classes and their counts\n",
        "print(\"Unique Classes in Test Set:\", unique_classes)\n",
        "print(\"Class Distribution in Test Set:\")\n",
        "print(class_counts)"
      ]
    },
    {
      "cell_type": "code",
      "execution_count": 8,
      "metadata": {
        "id": "L1WlgcXP_I1w"
      },
      "outputs": [],
      "source": [
        "import pandas as pd\n",
        "from sklearn.model_selection import train_test_split\n",
        "\n",
        "# Assuming you have loaded your DataFrame into df\n",
        "\n",
        "# Separate features and target\n",
        "X = df.drop(columns=['STATUS_dead_alive'])  # Features\n",
        "y = df['STATUS_dead_alive']  # Target\n",
        "\n",
        "# Convert the features to binary integers if they are not already\n",
        "X = X.astype(int)\n",
        "\n",
        "# Split the data into training and testing sets\n",
        "X_train, X_test, y_train, y_test = train_test_split(X, y, test_size=0.2, random_state=42)\n",
        "\n",
        "# Define the desired class distribution for the test set\n",
        "desired_class_distribution = {0: 0.7, 1: 0.3}\n",
        "\n",
        "# Adjust the class distribution in the test set manually\n",
        "class1_indices = y_test[y_test == 1].sample(frac=desired_class_distribution[1]).index\n",
        "class0_indices = y_test[y_test == 0].sample(frac=desired_class_distribution[0]).index\n",
        "\n",
        "# Combine the selected samples into the final test set\n",
        "balanced_df_test = pd.concat([X_test.loc[class1_indices], X_test.loc[class0_indices]])\n",
        "y_test_balanced = pd.concat([y_test.loc[class1_indices], y_test.loc[class0_indices]])\n",
        "\n",
        "# Combine the features and target into a DataFrame for testing\n",
        "balanced_df_test = pd.concat([balanced_df_test, y_test_balanced], axis=1)\n",
        "\n",
        "# Save the balanced test set to an Excel file\n",
        "balanced_df_test.to_excel('balanced_test_data.xlsx', index=False)"
      ]
    },
    {
      "cell_type": "code",
      "execution_count": 9,
      "metadata": {
        "id": "KPN7MyM1_I4w"
      },
      "outputs": [],
      "source": [
        "X_test = balanced_df_test.drop(columns=['STATUS_dead_alive'])\n",
        "y_test = balanced_df_test['STATUS_dead_alive']"
      ]
    },
    {
      "cell_type": "code",
      "execution_count": 10,
      "metadata": {
        "colab": {
          "base_uri": "https://localhost:8080/"
        },
        "id": "DKUCgCiw_I7Q",
        "outputId": "1c28c819-47f9-44e9-ef93-cc404bcf9161"
      },
      "outputs": [
        {
          "name": "stdout",
          "output_type": "stream",
          "text": [
            "Unique Classes in Test Set: [0 1]\n",
            "Class Distribution in Test Set:\n",
            "0    204\n",
            "1     89\n",
            "Name: STATUS_dead_alive, dtype: int64\n"
          ]
        }
      ],
      "source": [
        "import numpy as np\n",
        "import pandas as pd\n",
        "\n",
        "# Assuming you already have the test set and the label \"STATUS_dead_alive\" in y_test\n",
        "# You can obtain the unique classes and their counts as follows:\n",
        "\n",
        "# Find unique classes in the test set\n",
        "unique_classes = np.unique(y_test)\n",
        "\n",
        "# Count the number of samples for each unique class\n",
        "class_counts = pd.Series(y_test).value_counts()\n",
        "\n",
        "# Print the unique classes and their counts\n",
        "print(\"Unique Classes in Test Set:\", unique_classes)\n",
        "print(\"Class Distribution in Test Set:\")\n",
        "print(class_counts)"
      ]
    },
    {
      "cell_type": "code",
      "execution_count": 36,
      "metadata": {
        "colab": {
          "base_uri": "https://localhost:8080/",
          "height": 1000,
          "referenced_widgets": [
            "1be795343cc14643b095e2e1ab078924",
            "5907dfa98492419da82875168516dbaa",
            "d0756f517dc64565bf8175c4533d38b9",
            "8fb36034040940f788dc29c25b7d2006",
            "d89c5596ebdd4661a7de71bea5d4281e",
            "e00b890347c647c4a2675440d2e3499e",
            "5541cee84dce4927bd35cb47f6b8475a",
            "1e00c9d7042e48fbb11cffac7bfdefec",
            "8c8c2d9efeb94e2ab59e26210f94023a",
            "b0714a629eaf4bbda9dfba039295b5a1",
            "152fd2c7807442bdb560c39c7fcb1e34"
          ]
        },
        "id": "MqruvN7a_99Q",
        "outputId": "9e0a3c8e-20d2-44b3-8a57-b13c19556ba7"
      },
      "outputs": [
        {
          "data": {
            "application/vnd.jupyter.widget-view+json": {
              "model_id": "1be795343cc14643b095e2e1ab078924",
              "version_major": 2,
              "version_minor": 0
            },
            "text/plain": [
              "Optimization Progress:   0%|          | 0/1020 [00:00<?, ?pipeline/s]"
            ]
          },
          "metadata": {},
          "output_type": "display_data"
        },
        {
          "name": "stdout",
          "output_type": "stream",
          "text": [
            "\n",
            "Generation 1 - Current best internal CV score: 0.9379270886717039\n",
            "\n",
            "Generation 2 - Current best internal CV score: 0.9400495036406724\n",
            "\n",
            "Generation 3 - Current best internal CV score: 0.9400495036406724\n",
            "\n",
            "Generation 4 - Current best internal CV score: 0.9415707773322103\n",
            "\n",
            "Generation 5 - Current best internal CV score: 0.9440140283149739\n",
            "\n",
            "Generation 6 - Current best internal CV score: 0.9444234070986932\n",
            "\n",
            "Generation 7 - Current best internal CV score: 0.9464468741865971\n",
            "\n",
            "Generation 8 - Current best internal CV score: 0.9464468741865971\n",
            "\n",
            "Generation 9 - Current best internal CV score: 0.9464468741865971\n",
            "\n",
            "Generation 10 - Current best internal CV score: 0.9464468741865971\n",
            "\n",
            "Generation 11 - Current best internal CV score: 0.9464468741865971\n",
            "\n",
            "Generation 12 - Current best internal CV score: 0.9464468741865971\n",
            "\n",
            "Generation 13 - Current best internal CV score: 0.9468568068930864\n",
            "\n",
            "Generation 14 - Current best internal CV score: 0.9468568068930864\n",
            "\n",
            "Generation 15 - Current best internal CV score: 0.9468568068930864\n",
            "\n",
            "Generation 16 - Current best internal CV score: 0.9468568068930864\n",
            "\n",
            "Generation 17 - Current best internal CV score: 0.9468568068930864\n",
            "\n",
            "Generation 18 - Current best internal CV score: 0.9468568068930864\n",
            "\n",
            "Generation 19 - Current best internal CV score: 0.9468568068930864\n",
            "\n",
            "Generation 20 - Current best internal CV score: 0.9468568068930864\n",
            "\n",
            "Generation 21 - Current best internal CV score: 0.9468568068930864\n",
            "\n",
            "The optimized pipeline was not improved after evaluating 8 more generations. Will end the optimization process.\n",
            "\n",
            "TPOT closed prematurely. Will use the current best pipeline.\n",
            "\n",
            "Best pipeline: RandomForestClassifier(input_matrix, bootstrap=False, criterion=entropy, max_features=0.55, min_samples_leaf=1, min_samples_split=15, n_estimators=100)\n",
            "F1 Score on Test Set: 0.9032258064516129\n",
            "F1 Score on Train Set: 0.9558638083228246\n",
            "Best pipeline steps:\n",
            "1. randomforestclassifier\n"
          ]
        },
        {
          "data": {
            "text/plain": [
              "['tpot_trained_model.pkl']"
            ]
          },
          "execution_count": 36,
          "metadata": {},
          "output_type": "execute_result"
        }
      ],
      "source": [
        "from tpot import TPOTClassifier\n",
        "from sklearn.metrics import f1_score\n",
        "import joblib\n",
        "\n",
        "# Instantiate TPOTClassifier\n",
        "tpot = TPOTClassifier(generations=50, population_size=20, verbosity=2, random_state=42,\n",
        "                      early_stop=8, scoring='f1', config_dict=\"TPOT sparse\")\n",
        "\n",
        "# Fit TPOT on the training data\n",
        "tpot.fit(X_train, y_train)\n",
        "\n",
        "# Score the optimized pipeline on the test set\n",
        "test_score = tpot.score(X_test, y_test)\n",
        "print(f\"F1 Score on Test Set: {test_score}\")\n",
        "\n",
        "# Score the optimized pipeline on the train set\n",
        "train_score = tpot.score(X_train, y_train)\n",
        "print(f\"F1 Score on Train Set: {train_score}\")\n",
        "\n",
        "# Print the best pipeline\n",
        "print(\"Best pipeline steps:\", end=\"\\n\")\n",
        "for idx, (name, transform) in enumerate(tpot.fitted_pipeline_.steps, start=1):\n",
        "    print(f\"{idx}. {name}\")\n",
        "\n",
        "# Save the best pipeline to a Python file\n",
        "tpot.export('tpot_best_pipeline.py')\n",
        "\n",
        "# Save the trained model\n",
        "joblib.dump(tpot.fitted_pipeline_, 'tpot_trained_model.pkl')\n"
      ]
    },
    {
      "cell_type": "code",
      "execution_count": null,
      "metadata": {
        "id": "ETuBkH0dQYY4"
      },
      "outputs": [],
      "source": [
        "tpot.export('optimized_pipeline.py')\n",
        "from joblib import dump"
      ]
    },
    {
      "cell_type": "code",
      "execution_count": 38,
      "metadata": {
        "colab": {
          "base_uri": "https://localhost:8080/"
        },
        "id": "SOy5RvuvQcUb",
        "outputId": "17f7f4b6-3408-4fc3-d2db-ae7c22c95825"
      },
      "outputs": [
        {
          "data": {
            "text/plain": [
              "['tpot_trained_model.joblib']"
            ]
          },
          "execution_count": 38,
          "metadata": {},
          "output_type": "execute_result"
        }
      ],
      "source": [
        "from joblib import dump\n",
        "\n",
        "# Save the trained TPOT model\n",
        "dump(tpot.fitted_pipeline_, 'tpot_trained_model.joblib')\n"
      ]
    },
    {
      "cell_type": "code",
      "execution_count": 39,
      "metadata": {
        "colab": {
          "base_uri": "https://localhost:8080/",
          "height": 132
        },
        "id": "v2bB7IeHQjHu",
        "outputId": "d1c431e7-fc79-4666-c1f6-c98e361f4b91"
      },
      "outputs": [
        {
          "data": {
            "text/html": [
              "<style>#sk-container-id-2 {color: black;background-color: white;}#sk-container-id-2 pre{padding: 0;}#sk-container-id-2 div.sk-toggleable {background-color: white;}#sk-container-id-2 label.sk-toggleable__label {cursor: pointer;display: block;width: 100%;margin-bottom: 0;padding: 0.3em;box-sizing: border-box;text-align: center;}#sk-container-id-2 label.sk-toggleable__label-arrow:before {content: \"▸\";float: left;margin-right: 0.25em;color: #696969;}#sk-container-id-2 label.sk-toggleable__label-arrow:hover:before {color: black;}#sk-container-id-2 div.sk-estimator:hover label.sk-toggleable__label-arrow:before {color: black;}#sk-container-id-2 div.sk-toggleable__content {max-height: 0;max-width: 0;overflow: hidden;text-align: left;background-color: #f0f8ff;}#sk-container-id-2 div.sk-toggleable__content pre {margin: 0.2em;color: black;border-radius: 0.25em;background-color: #f0f8ff;}#sk-container-id-2 input.sk-toggleable__control:checked~div.sk-toggleable__content {max-height: 200px;max-width: 100%;overflow: auto;}#sk-container-id-2 input.sk-toggleable__control:checked~label.sk-toggleable__label-arrow:before {content: \"▾\";}#sk-container-id-2 div.sk-estimator input.sk-toggleable__control:checked~label.sk-toggleable__label {background-color: #d4ebff;}#sk-container-id-2 div.sk-label input.sk-toggleable__control:checked~label.sk-toggleable__label {background-color: #d4ebff;}#sk-container-id-2 input.sk-hidden--visually {border: 0;clip: rect(1px 1px 1px 1px);clip: rect(1px, 1px, 1px, 1px);height: 1px;margin: -1px;overflow: hidden;padding: 0;position: absolute;width: 1px;}#sk-container-id-2 div.sk-estimator {font-family: monospace;background-color: #f0f8ff;border: 1px dotted black;border-radius: 0.25em;box-sizing: border-box;margin-bottom: 0.5em;}#sk-container-id-2 div.sk-estimator:hover {background-color: #d4ebff;}#sk-container-id-2 div.sk-parallel-item::after {content: \"\";width: 100%;border-bottom: 1px solid gray;flex-grow: 1;}#sk-container-id-2 div.sk-label:hover label.sk-toggleable__label {background-color: #d4ebff;}#sk-container-id-2 div.sk-serial::before {content: \"\";position: absolute;border-left: 1px solid gray;box-sizing: border-box;top: 0;bottom: 0;left: 50%;z-index: 0;}#sk-container-id-2 div.sk-serial {display: flex;flex-direction: column;align-items: center;background-color: white;padding-right: 0.2em;padding-left: 0.2em;position: relative;}#sk-container-id-2 div.sk-item {position: relative;z-index: 1;}#sk-container-id-2 div.sk-parallel {display: flex;align-items: stretch;justify-content: center;background-color: white;position: relative;}#sk-container-id-2 div.sk-item::before, #sk-container-id-2 div.sk-parallel-item::before {content: \"\";position: absolute;border-left: 1px solid gray;box-sizing: border-box;top: 0;bottom: 0;left: 50%;z-index: -1;}#sk-container-id-2 div.sk-parallel-item {display: flex;flex-direction: column;z-index: 1;position: relative;background-color: white;}#sk-container-id-2 div.sk-parallel-item:first-child::after {align-self: flex-end;width: 50%;}#sk-container-id-2 div.sk-parallel-item:last-child::after {align-self: flex-start;width: 50%;}#sk-container-id-2 div.sk-parallel-item:only-child::after {width: 0;}#sk-container-id-2 div.sk-dashed-wrapped {border: 1px dashed gray;margin: 0 0.4em 0.5em 0.4em;box-sizing: border-box;padding-bottom: 0.4em;background-color: white;}#sk-container-id-2 div.sk-label label {font-family: monospace;font-weight: bold;display: inline-block;line-height: 1.2em;}#sk-container-id-2 div.sk-label-container {text-align: center;}#sk-container-id-2 div.sk-container {/* jupyter's `normalize.less` sets `[hidden] { display: none; }` but bootstrap.min.css set `[hidden] { display: none !important; }` so we also need the `!important` here to be able to override the default hidden behavior on the sphinx rendered scikit-learn.org. See: https://github.com/scikit-learn/scikit-learn/issues/21755 */display: inline-block !important;position: relative;}#sk-container-id-2 div.sk-text-repr-fallback {display: none;}</style><div id=\"sk-container-id-2\" class=\"sk-top-container\"><div class=\"sk-text-repr-fallback\"><pre>Pipeline(steps=[(&#x27;randomforestclassifier&#x27;,\n",
              "                 RandomForestClassifier(bootstrap=False, criterion=&#x27;entropy&#x27;,\n",
              "                                        max_features=0.55, min_samples_split=15,\n",
              "                                        random_state=42))])</pre><b>In a Jupyter environment, please rerun this cell to show the HTML representation or trust the notebook. <br />On GitHub, the HTML representation is unable to render, please try loading this page with nbviewer.org.</b></div><div class=\"sk-container\" hidden><div class=\"sk-item sk-dashed-wrapped\"><div class=\"sk-label-container\"><div class=\"sk-label sk-toggleable\"><input class=\"sk-toggleable__control sk-hidden--visually\" id=\"sk-estimator-id-3\" type=\"checkbox\" ><label for=\"sk-estimator-id-3\" class=\"sk-toggleable__label sk-toggleable__label-arrow\">Pipeline</label><div class=\"sk-toggleable__content\"><pre>Pipeline(steps=[(&#x27;randomforestclassifier&#x27;,\n",
              "                 RandomForestClassifier(bootstrap=False, criterion=&#x27;entropy&#x27;,\n",
              "                                        max_features=0.55, min_samples_split=15,\n",
              "                                        random_state=42))])</pre></div></div></div><div class=\"sk-serial\"><div class=\"sk-item\"><div class=\"sk-estimator sk-toggleable\"><input class=\"sk-toggleable__control sk-hidden--visually\" id=\"sk-estimator-id-4\" type=\"checkbox\" ><label for=\"sk-estimator-id-4\" class=\"sk-toggleable__label sk-toggleable__label-arrow\">RandomForestClassifier</label><div class=\"sk-toggleable__content\"><pre>RandomForestClassifier(bootstrap=False, criterion=&#x27;entropy&#x27;, max_features=0.55,\n",
              "                       min_samples_split=15, random_state=42)</pre></div></div></div></div></div></div></div>"
            ],
            "text/plain": [
              "Pipeline(steps=[('randomforestclassifier',\n",
              "                 RandomForestClassifier(bootstrap=False, criterion='entropy',\n",
              "                                        max_features=0.55, min_samples_split=15,\n",
              "                                        random_state=42))])"
            ]
          },
          "execution_count": 39,
          "metadata": {},
          "output_type": "execute_result"
        }
      ],
      "source": [
        "from joblib import load\n",
        "# Load the saved TPOT model\n",
        "tpot_model = load('tpot_trained_model.joblib')\n",
        "\n",
        "\n",
        "tpot.fitted_pipeline_\n"
      ]
    },
    {
      "cell_type": "code",
      "execution_count": 40,
      "metadata": {
        "colab": {
          "base_uri": "https://localhost:8080/"
        },
        "id": "aiQ5wqaGQoH7",
        "outputId": "37bbeda2-627f-4a7c-b9d0-66f4dd927a72"
      },
      "outputs": [
        {
          "data": {
            "text/plain": [
              "0.9032258064516129"
            ]
          },
          "execution_count": 40,
          "metadata": {},
          "output_type": "execute_result"
        }
      ],
      "source": [
        "\n",
        "tpot.score(X_test, y_test)\n",
        "\n"
      ]
    },
    {
      "cell_type": "code",
      "execution_count": 41,
      "metadata": {
        "colab": {
          "base_uri": "https://localhost:8080/"
        },
        "id": "sOBghoryQtff",
        "outputId": "8518e9b4-ab30-42c9-a22a-7d31ca600f49"
      },
      "outputs": [
        {
          "data": {
            "text/plain": [
              "0.9558638083228246"
            ]
          },
          "execution_count": 41,
          "metadata": {},
          "output_type": "execute_result"
        }
      ],
      "source": [
        "tpot.score(X_train, y_train)"
      ]
    },
    {
      "cell_type": "code",
      "execution_count": 42,
      "metadata": {
        "colab": {
          "base_uri": "https://localhost:8080/",
          "height": 564
        },
        "id": "sB-F3qTg_-Ba",
        "outputId": "ecda253f-fbb8-4b4f-da61-7c4b4c8984f7"
      },
      "outputs": [
        {
          "data": {
            "image/png": "[encoded data removed]",
            "text/plain": [
              "<Figure size 800x600 with 1 Axes>"
            ]
          },
          "metadata": {},
          "output_type": "display_data"
        }
      ],
      "source": [
        "import joblib\n",
        "import matplotlib.pyplot as plt\n",
        "from sklearn.metrics import roc_curve, roc_auc_score\n",
        "\n",
        "# Load the trained model\n",
        "tpot_trained_model = joblib.load('tpot_trained_model.pkl')\n",
        "\n",
        "# Predict probabilities on the test and train sets\n",
        "y_test_probs = tpot_trained_model.predict_proba(X_test)[:, 1]\n",
        "y_train_probs = tpot_trained_model.predict_proba(X_train)[:, 1]\n",
        "\n",
        "# Calculate ROC AUC score for test set\n",
        "test_roc_auc = roc_auc_score(y_test, y_test_probs)\n",
        "\n",
        "# Calculate ROC AUC score for train set\n",
        "train_roc_auc = roc_auc_score(y_train, y_train_probs)\n",
        "\n",
        "# Compute ROC curve for test set\n",
        "fpr_test, tpr_test, _ = roc_curve(y_test, y_test_probs)\n",
        "\n",
        "# Compute ROC curve for train set\n",
        "fpr_train, tpr_train, _ = roc_curve(y_train, y_train_probs)\n",
        "\n",
        "# Plot ROC AUC curve\n",
        "plt.figure(figsize=(8, 6))\n",
        "plt.plot(fpr_test, tpr_test, color='blue', lw=2, label=f'Test ROC AUC = {test_roc_auc:.2f}')\n",
        "plt.plot(fpr_train, tpr_train, color='red', lw=2, label=f'Train ROC AUC = {train_roc_auc:.2f}')\n",
        "plt.plot([0, 1], [0, 1], color='black', lw=1, linestyle='--')\n",
        "plt.xlim([0.0, 1.0])\n",
        "plt.ylim([0.0, 1.05])\n",
        "plt.xlabel('False Positive Rate')\n",
        "plt.ylabel('True Positive Rate')\n",
        "plt.title('ROC AUC Curve')\n",
        "plt.legend(loc=\"lower right\")\n",
        "plt.show()"
      ]
    },
    {
      "cell_type": "code",
      "execution_count": 43,
      "metadata": {
        "colab": {
          "base_uri": "https://localhost:8080/"
        },
        "id": "e5Ntgd9QC2mq",
        "outputId": "95118144-eb92-47f7-ca37-055c6b0c0fa9"
      },
      "outputs": [
        {
          "name": "stdout",
          "output_type": "stream",
          "text": [
            "Test Set:\n",
            "True Positives: 84\n",
            "True Negatives: 191\n",
            "False Positives: 13\n",
            "False Negatives: 5\n",
            "\n",
            "Train Set:\n",
            "True Positives: 1137\n",
            "True Negatives: 1110\n",
            "False Positives: 64\n",
            "False Negatives: 41\n"
          ]
        }
      ],
      "source": [
        "import joblib\n",
        "from sklearn.metrics import confusion_matrix\n",
        "\n",
        "# Load the trained model\n",
        "tpot_trained_model = joblib.load('tpot_trained_model.pkl')\n",
        "\n",
        "# Predict labels on the test and train sets\n",
        "y_test_pred = tpot_trained_model.predict(X_test)\n",
        "y_train_pred = tpot_trained_model.predict(X_train)\n",
        "\n",
        "# Compute confusion matrix for test set\n",
        "tn_test, fp_test, fn_test, tp_test = confusion_matrix(y_test, y_test_pred).ravel()\n",
        "\n",
        "# Compute confusion matrix for train set\n",
        "tn_train, fp_train, fn_train, tp_train = confusion_matrix(y_train, y_train_pred).ravel()\n",
        "\n",
        "# Print the results\n",
        "print(\"Test Set:\")\n",
        "print(f\"True Positives: {tp_test}\")\n",
        "print(f\"True Negatives: {tn_test}\")\n",
        "print(f\"False Positives: {fp_test}\")\n",
        "print(f\"False Negatives: {fn_test}\")\n",
        "print()\n",
        "print(\"Train Set:\")\n",
        "print(f\"True Positives: {tp_train}\")\n",
        "print(f\"True Negatives: {tn_train}\")\n",
        "print(f\"False Positives: {fp_train}\")\n",
        "print(f\"False Negatives: {fn_train}\")\n"
      ]
    },
    {
      "cell_type": "code",
      "execution_count": 44,
      "metadata": {
        "colab": {
          "base_uri": "https://localhost:8080/"
        },
        "id": "_7yOGcd4DuFN",
        "outputId": "aa408a55-9e98-45e7-c6f9-44b519a63a9e"
      },
      "outputs": [
        {
          "name": "stdout",
          "output_type": "stream",
          "text": [
            "Test Set:\n",
            "True Positives: 84\n",
            "True Negatives: 191\n",
            "False Positives: 13\n",
            "False Negatives: 5\n"
          ]
        }
      ],
      "source": [
        "import joblib\n",
        "import numpy as np\n",
        "from sklearn.metrics import confusion_matrix\n",
        "\n",
        "# Load the trained model\n",
        "tpot_trained_model = joblib.load('tpot_trained_model.pkl')\n",
        "\n",
        "# Predict probabilities on the test set\n",
        "y_test_probs = tpot_trained_model.predict_proba(X_test)[:, 1]\n",
        "\n",
        "# Adjust the threshold to reduce false negatives\n",
        "threshold = 0.5  # Example threshold, you can adjust it as needed\n",
        "y_test_pred = np.where(y_test_probs > threshold, 1, 0)\n",
        "\n",
        "# Compute confusion matrix for test set\n",
        "tn_test, fp_test, fn_test, tp_test = confusion_matrix(y_test, y_test_pred).ravel()\n",
        "\n",
        "# Print the results\n",
        "print(\"Test Set:\")\n",
        "print(f\"True Positives: {tp_test}\")\n",
        "print(f\"True Negatives: {tn_test}\")\n",
        "print(f\"False Positives: {fp_test}\")\n",
        "print(f\"False Negatives: {fn_test}\")\n"
      ]
    },
    {
      "cell_type": "code",
      "execution_count": 45,
      "metadata": {
        "colab": {
          "base_uri": "https://localhost:8080/"
        },
        "id": "vtrPkPrCEzqp",
        "outputId": "312806ca-0485-4556-b24d-c64a1d687c50"
      },
      "outputs": [
        {
          "name": "stdout",
          "output_type": "stream",
          "text": [
            "Adjusted Test Set:\n",
            "True Positives: 89\n",
            "True Negatives: 174\n",
            "False Positives: 30\n",
            "False Negatives: 0\n",
            "\n",
            "Adjusted Train Set:\n",
            "True Positives: 1172\n",
            "True Negatives: 1026\n",
            "False Positives: 148\n",
            "False Negatives: 6\n"
          ]
        }
      ],
      "source": [
        "# Load the trained model\n",
        "tpot_trained_model = joblib.load('tpot_trained_model.pkl')\n",
        "\n",
        "# Predict probabilities on the test and train sets\n",
        "y_test_probs = tpot_trained_model.predict_proba(X_test)[:, 1]\n",
        "y_train_probs = tpot_trained_model.predict_proba(X_train)[:, 1]\n",
        "\n",
        "# Adjust the prediction threshold\n",
        "threshold = 0.2  # Example threshold, adjust as needed\n",
        "y_test_pred_adjusted = (y_test_probs > threshold).astype(int)\n",
        "y_train_pred_adjusted = (y_train_probs > threshold).astype(int)\n",
        "\n",
        "# Compute confusion matrix for test set\n",
        "tn_test, fp_test, fn_test, tp_test = confusion_matrix(y_test, y_test_pred_adjusted).ravel()\n",
        "\n",
        "# Compute confusion matrix for train set\n",
        "tn_train, fp_train, fn_train, tp_train = confusion_matrix(y_train, y_train_pred_adjusted).ravel()\n",
        "\n",
        "# Print the results\n",
        "print(\"Adjusted Test Set:\")\n",
        "print(f\"True Positives: {tp_test}\")\n",
        "print(f\"True Negatives: {tn_test}\")\n",
        "print(f\"False Positives: {fp_test}\")\n",
        "print(f\"False Negatives: {fn_test}\")\n",
        "print()\n",
        "print(\"Adjusted Train Set:\")\n",
        "print(f\"True Positives: {tp_train}\")\n",
        "print(f\"True Negatives: {tn_train}\")\n",
        "print(f\"False Positives: {fp_train}\")\n",
        "print(f\"False Negatives: {fn_train}\")\n"
      ]
    },
    {
      "cell_type": "code",
      "execution_count": 46,
      "metadata": {
        "colab": {
          "base_uri": "https://localhost:8080/"
        },
        "id": "TgWur5PIE95Y",
        "outputId": "be23970d-457a-49a3-c587-77929a4b8105"
      },
      "outputs": [
        {
          "name": "stdout",
          "output_type": "stream",
          "text": [
            "Test Set:\n",
            "Sensitivity: 1.00\n",
            "Specificity: 0.85\n",
            "Accuracy: 0.90\n",
            "Precision: 0.75\n",
            "F1 Score: 0.86\n",
            "Positive Predictive Value: 0.75\n",
            "Negative Predictive Value: 1.00\n",
            "Positive Likelihood Ratio: 6.80\n",
            "Negative Likelihood Ratio: 0.00\n",
            "\n",
            "Train Set:\n",
            "Sensitivity: 0.99\n",
            "Specificity: 0.87\n",
            "Accuracy: 0.93\n",
            "Precision: 0.89\n",
            "F1 Score: 0.94\n",
            "Positive Predictive Value: 0.89\n",
            "Negative Predictive Value: 0.99\n",
            "Positive Likelihood Ratio: 7.89\n",
            "Negative Likelihood Ratio: 0.01\n"
          ]
        }
      ],
      "source": [
        "# Calculate Sensitivity (True Positive Rate or Recall)\n",
        "sensitivity_test = tp_test / (tp_test + fn_test)\n",
        "sensitivity_train = tp_train / (tp_train + fn_train)\n",
        "\n",
        "# Calculate Specificity (True Negative Rate)\n",
        "specificity_test = tn_test / (tn_test + fp_test)\n",
        "specificity_train = tn_train / (tn_train + fp_train)\n",
        "\n",
        "# Calculate Accuracy\n",
        "accuracy_test = (tp_test + tn_test) / (tp_test + tn_test + fp_test + fn_test)\n",
        "accuracy_train = (tp_train + tn_train) / (tp_train + tn_train + fp_train + fn_train)\n",
        "\n",
        "# Calculate Precision (Positive Predictive Value)\n",
        "precision_test = tp_test / (tp_test + fp_test)\n",
        "precision_train = tp_train / (tp_train + fp_train)\n",
        "\n",
        "# Calculate F1 Score\n",
        "f1_score_test = 2 * (precision_test * sensitivity_test) / (precision_test + sensitivity_test)\n",
        "f1_score_train = 2 * (precision_train * sensitivity_train) / (precision_train + sensitivity_train)\n",
        "\n",
        "# Calculate Positive Predictive Value (Precision) and Negative Predictive Value\n",
        "ppv_test = precision_test\n",
        "ppv_train = precision_train\n",
        "npv_test = tn_test / (tn_test + fn_test)\n",
        "npv_train = tn_train / (tn_train + fn_train)\n",
        "\n",
        "# Calculate Positive Likelihood Ratio and Negative Likelihood Ratio\n",
        "lr_pos_test = sensitivity_test / (1 - specificity_test)\n",
        "lr_pos_train = sensitivity_train / (1 - specificity_train)\n",
        "lr_neg_test = (1 - sensitivity_test) / specificity_test\n",
        "lr_neg_train = (1 - sensitivity_train) / specificity_train\n",
        "\n",
        "# Print the results\n",
        "print(\"Test Set:\")\n",
        "print(f\"Sensitivity: {sensitivity_test:.2f}\")\n",
        "print(f\"Specificity: {specificity_test:.2f}\")\n",
        "print(f\"Accuracy: {accuracy_test:.2f}\")\n",
        "print(f\"Precision: {precision_test:.2f}\")\n",
        "print(f\"F1 Score: {f1_score_test:.2f}\")\n",
        "print(f\"Positive Predictive Value: {ppv_test:.2f}\")\n",
        "print(f\"Negative Predictive Value: {npv_test:.2f}\")\n",
        "print(f\"Positive Likelihood Ratio: {lr_pos_test:.2f}\")\n",
        "print(f\"Negative Likelihood Ratio: {lr_neg_test:.2f}\")\n",
        "print()\n",
        "\n",
        "print(\"Train Set:\")\n",
        "print(f\"Sensitivity: {sensitivity_train:.2f}\")\n",
        "print(f\"Specificity: {specificity_train:.2f}\")\n",
        "print(f\"Accuracy: {accuracy_train:.2f}\")\n",
        "print(f\"Precision: {precision_train:.2f}\")\n",
        "print(f\"F1 Score: {f1_score_train:.2f}\")\n",
        "print(f\"Positive Predictive Value: {ppv_train:.2f}\")\n",
        "print(f\"Negative Predictive Value: {npv_train:.2f}\")\n",
        "print(f\"Positive Likelihood Ratio: {lr_pos_train:.2f}\")\n",
        "print(f\"Negative Likelihood Ratio: {lr_neg_train:.2f}\")\n"
      ]
    },
    {
      "cell_type": "code",
      "execution_count": 34,
      "metadata": {
        "colab": {
          "base_uri": "https://localhost:8080/"
        },
        "id": "bhwm7E8yG5gI",
        "outputId": "accfb3ec-a510-4e1d-edf5-9ae119d8b41f"
      },
      "outputs": [
        {
          "name": "stdout",
          "output_type": "stream",
          "text": [
            "Requirement already satisfied: tpot in /usr/local/lib/python3.10/dist-packages (0.12.1)\n",
            "Requirement already satisfied: numpy>=1.16.3 in /usr/local/lib/python3.10/dist-packages (from tpot) (1.23.5)\n",
            "Requirement already satisfied: scipy>=1.3.1 in /usr/local/lib/python3.10/dist-packages (from tpot) (1.11.4)\n",
            "Requirement already satisfied: scikit-learn>=0.22.0 in /usr/local/lib/python3.10/dist-packages (from tpot) (1.2.2)\n",
            "Requirement already satisfied: deap>=1.2 in /usr/local/lib/python3.10/dist-packages (from tpot) (1.4.1)\n",
            "Requirement already satisfied: update-checker>=0.16 in /usr/local/lib/python3.10/dist-packages (from tpot) (0.18.0)\n",
            "Requirement already satisfied: tqdm>=4.36.1 in /usr/local/lib/python3.10/dist-packages (from tpot) (4.66.1)\n",
            "Requirement already satisfied: stopit>=1.1.1 in /usr/local/lib/python3.10/dist-packages (from tpot) (1.1.2)\n",
            "Requirement already satisfied: pandas>=0.24.2 in /usr/local/lib/python3.10/dist-packages (from tpot) (1.5.3)\n",
            "Requirement already satisfied: joblib>=0.13.2 in /usr/local/lib/python3.10/dist-packages (from tpot) (1.3.2)\n",
            "Requirement already satisfied: xgboost>=1.1.0 in /usr/local/lib/python3.10/dist-packages (from tpot) (2.0.3)\n",
            "Requirement already satisfied: python-dateutil>=2.8.1 in /usr/local/lib/python3.10/dist-packages (from pandas>=0.24.2->tpot) (2.8.2)\n",
            "Requirement already satisfied: pytz>=2020.1 in /usr/local/lib/python3.10/dist-packages (from pandas>=0.24.2->tpot) (2023.4)\n",
            "Requirement already satisfied: threadpoolctl>=2.0.0 in /usr/local/lib/python3.10/dist-packages (from scikit-learn>=0.22.0->tpot) (3.2.0)\n",
            "Requirement already satisfied: requests>=2.3.0 in /usr/local/lib/python3.10/dist-packages (from update-checker>=0.16->tpot) (2.31.0)\n",
            "Requirement already satisfied: six>=1.5 in /usr/local/lib/python3.10/dist-packages (from python-dateutil>=2.8.1->pandas>=0.24.2->tpot) (1.16.0)\n",
            "Requirement already satisfied: charset-normalizer<4,>=2 in /usr/local/lib/python3.10/dist-packages (from requests>=2.3.0->update-checker>=0.16->tpot) (3.3.2)\n",
            "Requirement already satisfied: idna<4,>=2.5 in /usr/local/lib/python3.10/dist-packages (from requests>=2.3.0->update-checker>=0.16->tpot) (3.6)\n",
            "Requirement already satisfied: urllib3<3,>=1.21.1 in /usr/local/lib/python3.10/dist-packages (from requests>=2.3.0->update-checker>=0.16->tpot) (2.0.7)\n",
            "Requirement already satisfied: certifi>=2017.4.17 in /usr/local/lib/python3.10/dist-packages (from requests>=2.3.0->update-checker>=0.16->tpot) (2024.2.2)\n"
          ]
        }
      ],
      "source": [
        "!pip install tpot"
      ]
    }
  ],
  "metadata": {
    "accelerator": "GPU",
    "colab": {
      "gpuType": "T4",
      "provenance": []
    },
    "kernelspec": {
      "display_name": "Python 3",
      "name": "python3"
    },
    "language_info": {
      "name": "python"
    },
    "widgets": {
      "application/vnd.jupyter.widget-state+json": {
        "152fd2c7807442bdb560c39c7fcb1e34": {
          "model_module": "@jupyter-widgets/controls",
          "model_module_version": "1.5.0",
          "model_name": "DescriptionStyleModel",
          "state": {
            "_model_module": "@jupyter-widgets/controls",
            "_model_module_version": "1.5.0",
            "_model_name": "DescriptionStyleModel",
            "_view_count": null,
            "_view_module": "@jupyter-widgets/base",
            "_view_module_version": "1.2.0",
            "_view_name": "StyleView",
            "description_width": ""
          }
        },
        "1be795343cc14643b095e2e1ab078924": {
          "model_module": "@jupyter-widgets/controls",
          "model_module_version": "1.5.0",
          "model_name": "HBoxModel",
          "state": {
            "_dom_classes": [],
            "_model_module": "@jupyter-widgets/controls",
            "_model_module_version": "1.5.0",
            "_model_name": "HBoxModel",
            "_view_count": null,
            "_view_module": "@jupyter-widgets/controls",
            "_view_module_version": "1.5.0",
            "_view_name": "HBoxView",
            "box_style": "",
            "children": [
              "IPY_MODEL_5907dfa98492419da82875168516dbaa",
              "IPY_MODEL_d0756f517dc64565bf8175c4533d38b9",
              "IPY_MODEL_8fb36034040940f788dc29c25b7d2006"
            ],
            "layout": "IPY_MODEL_d89c5596ebdd4661a7de71bea5d4281e"
          }
        },
        "1e00c9d7042e48fbb11cffac7bfdefec": {
          "model_module": "@jupyter-widgets/base",
          "model_module_version": "1.2.0",
          "model_name": "LayoutModel",
          "state": {
            "_model_module": "@jupyter-widgets/base",
            "_model_module_version": "1.2.0",
            "_model_name": "LayoutModel",
            "_view_count": null,
            "_view_module": "@jupyter-widgets/base",
            "_view_module_version": "1.2.0",
            "_view_name": "LayoutView",
            "align_content": null,
            "align_items": null,
            "align_self": null,
            "border": null,
            "bottom": null,
            "display": null,
            "flex": null,
            "flex_flow": null,
            "grid_area": null,
            "grid_auto_columns": null,
            "grid_auto_flow": null,
            "grid_auto_rows": null,
            "grid_column": null,
            "grid_gap": null,
            "grid_row": null,
            "grid_template_areas": null,
            "grid_template_columns": null,
            "grid_template_rows": null,
            "height": null,
            "justify_content": null,
            "justify_items": null,
            "left": null,
            "margin": null,
            "max_height": null,
            "max_width": null,
            "min_height": null,
            "min_width": null,
            "object_fit": null,
            "object_position": null,
            "order": null,
            "overflow": null,
            "overflow_x": null,
            "overflow_y": null,
            "padding": null,
            "right": null,
            "top": null,
            "visibility": null,
            "width": null
          }
        },
        "211f7238749841fd852e083b4e511d07": {
          "model_module": "@jupyter-widgets/base",
          "model_module_version": "1.2.0",
          "model_name": "LayoutModel",
          "state": {
            "_model_module": "@jupyter-widgets/base",
            "_model_module_version": "1.2.0",
            "_model_name": "LayoutModel",
            "_view_count": null,
            "_view_module": "@jupyter-widgets/base",
            "_view_module_version": "1.2.0",
            "_view_name": "LayoutView",
            "align_content": null,
            "align_items": null,
            "align_self": null,
            "border": null,
            "bottom": null,
            "display": null,
            "flex": null,
            "flex_flow": null,
            "grid_area": null,
            "grid_auto_columns": null,
            "grid_auto_flow": null,
            "grid_auto_rows": null,
            "grid_column": null,
            "grid_gap": null,
            "grid_row": null,
            "grid_template_areas": null,
            "grid_template_columns": null,
            "grid_template_rows": null,
            "height": null,
            "justify_content": null,
            "justify_items": null,
            "left": null,
            "margin": null,
            "max_height": null,
            "max_width": null,
            "min_height": null,
            "min_width": null,
            "object_fit": null,
            "object_position": null,
            "order": null,
            "overflow": null,
            "overflow_x": null,
            "overflow_y": null,
            "padding": null,
            "right": null,
            "top": null,
            "visibility": null,
            "width": null
          }
        },
        "3bf8c11f1b794d6ebc85155e1b39f486": {
          "model_module": "@jupyter-widgets/controls",
          "model_module_version": "1.5.0",
          "model_name": "ProgressStyleModel",
          "state": {
            "_model_module": "@jupyter-widgets/controls",
            "_model_module_version": "1.5.0",
            "_model_name": "ProgressStyleModel",
            "_view_count": null,
            "_view_module": "@jupyter-widgets/base",
            "_view_module_version": "1.2.0",
            "_view_name": "StyleView",
            "bar_color": null,
            "description_width": ""
          }
        },
        "4a98e7de1edc43ee8bf86922c1792e85": {
          "model_module": "@jupyter-widgets/controls",
          "model_module_version": "1.5.0",
          "model_name": "HTMLModel",
          "state": {
            "_dom_classes": [],
            "_model_module": "@jupyter-widgets/controls",
            "_model_module_version": "1.5.0",
            "_model_name": "HTMLModel",
            "_view_count": null,
            "_view_module": "@jupyter-widgets/controls",
            "_view_module_version": "1.5.0",
            "_view_name": "HTMLView",
            "description": "",
            "description_tooltip": null,
            "layout": "IPY_MODEL_211f7238749841fd852e083b4e511d07",
            "placeholder": "​",
            "style": "IPY_MODEL_eacd199d7aab4d2b893bf63cf3ce7a4d",
            "value": "Optimization Progress: 100%"
          }
        },
        "5541cee84dce4927bd35cb47f6b8475a": {
          "model_module": "@jupyter-widgets/controls",
          "model_module_version": "1.5.0",
          "model_name": "DescriptionStyleModel",
          "state": {
            "_model_module": "@jupyter-widgets/controls",
            "_model_module_version": "1.5.0",
            "_model_name": "DescriptionStyleModel",
            "_view_count": null,
            "_view_module": "@jupyter-widgets/base",
            "_view_module_version": "1.2.0",
            "_view_name": "StyleView",
            "description_width": ""
          }
        },
        "5907dfa98492419da82875168516dbaa": {
          "model_module": "@jupyter-widgets/controls",
          "model_module_version": "1.5.0",
          "model_name": "HTMLModel",
          "state": {
            "_dom_classes": [],
            "_model_module": "@jupyter-widgets/controls",
            "_model_module_version": "1.5.0",
            "_model_name": "HTMLModel",
            "_view_count": null,
            "_view_module": "@jupyter-widgets/controls",
            "_view_module_version": "1.5.0",
            "_view_name": "HTMLView",
            "description": "",
            "description_tooltip": null,
            "layout": "IPY_MODEL_e00b890347c647c4a2675440d2e3499e",
            "placeholder": "​",
            "style": "IPY_MODEL_5541cee84dce4927bd35cb47f6b8475a",
            "value": "Optimization Progress:  43%"
          }
        },
        "8c8c2d9efeb94e2ab59e26210f94023a": {
          "model_module": "@jupyter-widgets/controls",
          "model_module_version": "1.5.0",
          "model_name": "ProgressStyleModel",
          "state": {
            "_model_module": "@jupyter-widgets/controls",
            "_model_module_version": "1.5.0",
            "_model_name": "ProgressStyleModel",
            "_view_count": null,
            "_view_module": "@jupyter-widgets/base",
            "_view_module_version": "1.2.0",
            "_view_name": "StyleView",
            "bar_color": null,
            "description_width": ""
          }
        },
        "8fb36034040940f788dc29c25b7d2006": {
          "model_module": "@jupyter-widgets/controls",
          "model_module_version": "1.5.0",
          "model_name": "HTMLModel",
          "state": {
            "_dom_classes": [],
            "_model_module": "@jupyter-widgets/controls",
            "_model_module_version": "1.5.0",
            "_model_name": "HTMLModel",
            "_view_count": null,
            "_view_module": "@jupyter-widgets/controls",
            "_view_module_version": "1.5.0",
            "_view_name": "HTMLView",
            "description": "",
            "description_tooltip": null,
            "layout": "IPY_MODEL_b0714a629eaf4bbda9dfba039295b5a1",
            "placeholder": "​",
            "style": "IPY_MODEL_152fd2c7807442bdb560c39c7fcb1e34",
            "value": " 440/1020 [06:23&lt;09:31,  1.02pipeline/s]"
          }
        },
        "9f2ea21b0c714303aa2a556431280e14": {
          "model_module": "@jupyter-widgets/controls",
          "model_module_version": "1.5.0",
          "model_name": "HTMLModel",
          "state": {
            "_dom_classes": [],
            "_model_module": "@jupyter-widgets/controls",
            "_model_module_version": "1.5.0",
            "_model_name": "HTMLModel",
            "_view_count": null,
            "_view_module": "@jupyter-widgets/controls",
            "_view_module_version": "1.5.0",
            "_view_name": "HTMLView",
            "description": "",
            "description_tooltip": null,
            "layout": "IPY_MODEL_bc4a44d4621b45f6a9eec25e1b3004e9",
            "placeholder": "​",
            "style": "IPY_MODEL_de9a5e4002514f7bba8731ed30bef712",
            "value": " 200/200 [01:59&lt;00:00,  1.42pipeline/s]"
          }
        },
        "b0714a629eaf4bbda9dfba039295b5a1": {
          "model_module": "@jupyter-widgets/base",
          "model_module_version": "1.2.0",
          "model_name": "LayoutModel",
          "state": {
            "_model_module": "@jupyter-widgets/base",
            "_model_module_version": "1.2.0",
            "_model_name": "LayoutModel",
            "_view_count": null,
            "_view_module": "@jupyter-widgets/base",
            "_view_module_version": "1.2.0",
            "_view_name": "LayoutView",
            "align_content": null,
            "align_items": null,
            "align_self": null,
            "border": null,
            "bottom": null,
            "display": null,
            "flex": null,
            "flex_flow": null,
            "grid_area": null,
            "grid_auto_columns": null,
            "grid_auto_flow": null,
            "grid_auto_rows": null,
            "grid_column": null,
            "grid_gap": null,
            "grid_row": null,
            "grid_template_areas": null,
            "grid_template_columns": null,
            "grid_template_rows": null,
            "height": null,
            "justify_content": null,
            "justify_items": null,
            "left": null,
            "margin": null,
            "max_height": null,
            "max_width": null,
            "min_height": null,
            "min_width": null,
            "object_fit": null,
            "object_position": null,
            "order": null,
            "overflow": null,
            "overflow_x": null,
            "overflow_y": null,
            "padding": null,
            "right": null,
            "top": null,
            "visibility": null,
            "width": null
          }
        },
        "bc4a44d4621b45f6a9eec25e1b3004e9": {
          "model_module": "@jupyter-widgets/base",
          "model_module_version": "1.2.0",
          "model_name": "LayoutModel",
          "state": {
            "_model_module": "@jupyter-widgets/base",
            "_model_module_version": "1.2.0",
            "_model_name": "LayoutModel",
            "_view_count": null,
            "_view_module": "@jupyter-widgets/base",
            "_view_module_version": "1.2.0",
            "_view_name": "LayoutView",
            "align_content": null,
            "align_items": null,
            "align_self": null,
            "border": null,
            "bottom": null,
            "display": null,
            "flex": null,
            "flex_flow": null,
            "grid_area": null,
            "grid_auto_columns": null,
            "grid_auto_flow": null,
            "grid_auto_rows": null,
            "grid_column": null,
            "grid_gap": null,
            "grid_row": null,
            "grid_template_areas": null,
            "grid_template_columns": null,
            "grid_template_rows": null,
            "height": null,
            "justify_content": null,
            "justify_items": null,
            "left": null,
            "margin": null,
            "max_height": null,
            "max_width": null,
            "min_height": null,
            "min_width": null,
            "object_fit": null,
            "object_position": null,
            "order": null,
            "overflow": null,
            "overflow_x": null,
            "overflow_y": null,
            "padding": null,
            "right": null,
            "top": null,
            "visibility": null,
            "width": null
          }
        },
        "ca20f2e12522431d9040cb3ed9721218": {
          "model_module": "@jupyter-widgets/controls",
          "model_module_version": "1.5.0",
          "model_name": "HBoxModel",
          "state": {
            "_dom_classes": [],
            "_model_module": "@jupyter-widgets/controls",
            "_model_module_version": "1.5.0",
            "_model_name": "HBoxModel",
            "_view_count": null,
            "_view_module": "@jupyter-widgets/controls",
            "_view_module_version": "1.5.0",
            "_view_name": "HBoxView",
            "box_style": "",
            "children": [
              "IPY_MODEL_4a98e7de1edc43ee8bf86922c1792e85",
              "IPY_MODEL_ed5c4cb3fa3f4b4295e872117465ec44",
              "IPY_MODEL_9f2ea21b0c714303aa2a556431280e14"
            ],
            "layout": "IPY_MODEL_e082dc7de30e4eb3b585e5b92fedc2ff"
          }
        },
        "d0756f517dc64565bf8175c4533d38b9": {
          "model_module": "@jupyter-widgets/controls",
          "model_module_version": "1.5.0",
          "model_name": "FloatProgressModel",
          "state": {
            "_dom_classes": [],
            "_model_module": "@jupyter-widgets/controls",
            "_model_module_version": "1.5.0",
            "_model_name": "FloatProgressModel",
            "_view_count": null,
            "_view_module": "@jupyter-widgets/controls",
            "_view_module_version": "1.5.0",
            "_view_name": "ProgressView",
            "bar_style": "danger",
            "description": "",
            "description_tooltip": null,
            "layout": "IPY_MODEL_1e00c9d7042e48fbb11cffac7bfdefec",
            "max": 1020,
            "min": 0,
            "orientation": "horizontal",
            "style": "IPY_MODEL_8c8c2d9efeb94e2ab59e26210f94023a",
            "value": 440
          }
        },
        "d89c5596ebdd4661a7de71bea5d4281e": {
          "model_module": "@jupyter-widgets/base",
          "model_module_version": "1.2.0",
          "model_name": "LayoutModel",
          "state": {
            "_model_module": "@jupyter-widgets/base",
            "_model_module_version": "1.2.0",
            "_model_name": "LayoutModel",
            "_view_count": null,
            "_view_module": "@jupyter-widgets/base",
            "_view_module_version": "1.2.0",
            "_view_name": "LayoutView",
            "align_content": null,
            "align_items": null,
            "align_self": null,
            "border": null,
            "bottom": null,
            "display": null,
            "flex": null,
            "flex_flow": null,
            "grid_area": null,
            "grid_auto_columns": null,
            "grid_auto_flow": null,
            "grid_auto_rows": null,
            "grid_column": null,
            "grid_gap": null,
            "grid_row": null,
            "grid_template_areas": null,
            "grid_template_columns": null,
            "grid_template_rows": null,
            "height": null,
            "justify_content": null,
            "justify_items": null,
            "left": null,
            "margin": null,
            "max_height": null,
            "max_width": null,
            "min_height": null,
            "min_width": null,
            "object_fit": null,
            "object_position": null,
            "order": null,
            "overflow": null,
            "overflow_x": null,
            "overflow_y": null,
            "padding": null,
            "right": null,
            "top": null,
            "visibility": null,
            "width": null
          }
        },
        "de9a5e4002514f7bba8731ed30bef712": {
          "model_module": "@jupyter-widgets/controls",
          "model_module_version": "1.5.0",
          "model_name": "DescriptionStyleModel",
          "state": {
            "_model_module": "@jupyter-widgets/controls",
            "_model_module_version": "1.5.0",
            "_model_name": "DescriptionStyleModel",
            "_view_count": null,
            "_view_module": "@jupyter-widgets/base",
            "_view_module_version": "1.2.0",
            "_view_name": "StyleView",
            "description_width": ""
          }
        },
        "e00b890347c647c4a2675440d2e3499e": {
          "model_module": "@jupyter-widgets/base",
          "model_module_version": "1.2.0",
          "model_name": "LayoutModel",
          "state": {
            "_model_module": "@jupyter-widgets/base",
            "_model_module_version": "1.2.0",
            "_model_name": "LayoutModel",
            "_view_count": null,
            "_view_module": "@jupyter-widgets/base",
            "_view_module_version": "1.2.0",
            "_view_name": "LayoutView",
            "align_content": null,
            "align_items": null,
            "align_self": null,
            "border": null,
            "bottom": null,
            "display": null,
            "flex": null,
            "flex_flow": null,
            "grid_area": null,
            "grid_auto_columns": null,
            "grid_auto_flow": null,
            "grid_auto_rows": null,
            "grid_column": null,
            "grid_gap": null,
            "grid_row": null,
            "grid_template_areas": null,
            "grid_template_columns": null,
            "grid_template_rows": null,
            "height": null,
            "justify_content": null,
            "justify_items": null,
            "left": null,
            "margin": null,
            "max_height": null,
            "max_width": null,
            "min_height": null,
            "min_width": null,
            "object_fit": null,
            "object_position": null,
            "order": null,
            "overflow": null,
            "overflow_x": null,
            "overflow_y": null,
            "padding": null,
            "right": null,
            "top": null,
            "visibility": null,
            "width": null
          }
        },
        "e082dc7de30e4eb3b585e5b92fedc2ff": {
          "model_module": "@jupyter-widgets/base",
          "model_module_version": "1.2.0",
          "model_name": "LayoutModel",
          "state": {
            "_model_module": "@jupyter-widgets/base",
            "_model_module_version": "1.2.0",
            "_model_name": "LayoutModel",
            "_view_count": null,
            "_view_module": "@jupyter-widgets/base",
            "_view_module_version": "1.2.0",
            "_view_name": "LayoutView",
            "align_content": null,
            "align_items": null,
            "align_self": null,
            "border": null,
            "bottom": null,
            "display": null,
            "flex": null,
            "flex_flow": null,
            "grid_area": null,
            "grid_auto_columns": null,
            "grid_auto_flow": null,
            "grid_auto_rows": null,
            "grid_column": null,
            "grid_gap": null,
            "grid_row": null,
            "grid_template_areas": null,
            "grid_template_columns": null,
            "grid_template_rows": null,
            "height": null,
            "justify_content": null,
            "justify_items": null,
            "left": null,
            "margin": null,
            "max_height": null,
            "max_width": null,
            "min_height": null,
            "min_width": null,
            "object_fit": null,
            "object_position": null,
            "order": null,
            "overflow": null,
            "overflow_x": null,
            "overflow_y": null,
            "padding": null,
            "right": null,
            "top": null,
            "visibility": "hidden",
            "width": null
          }
        },
        "eacd199d7aab4d2b893bf63cf3ce7a4d": {
          "model_module": "@jupyter-widgets/controls",
          "model_module_version": "1.5.0",
          "model_name": "DescriptionStyleModel",
          "state": {
            "_model_module": "@jupyter-widgets/controls",
            "_model_module_version": "1.5.0",
            "_model_name": "DescriptionStyleModel",
            "_view_count": null,
            "_view_module": "@jupyter-widgets/base",
            "_view_module_version": "1.2.0",
            "_view_name": "StyleView",
            "description_width": ""
          }
        },
        "ed5c4cb3fa3f4b4295e872117465ec44": {
          "model_module": "@jupyter-widgets/controls",
          "model_module_version": "1.5.0",
          "model_name": "FloatProgressModel",
          "state": {
            "_dom_classes": [],
            "_model_module": "@jupyter-widgets/controls",
            "_model_module_version": "1.5.0",
            "_model_name": "FloatProgressModel",
            "_view_count": null,
            "_view_module": "@jupyter-widgets/controls",
            "_view_module_version": "1.5.0",
            "_view_name": "ProgressView",
            "bar_style": "",
            "description": "",
            "description_tooltip": null,
            "layout": "IPY_MODEL_fd5bdff19f87472097038aa141ae494e",
            "max": 200,
            "min": 0,
            "orientation": "horizontal",
            "style": "IPY_MODEL_3bf8c11f1b794d6ebc85155e1b39f486",
            "value": 200
          }
        },
        "fd5bdff19f87472097038aa141ae494e": {
          "model_module": "@jupyter-widgets/base",
          "model_module_version": "1.2.0",
          "model_name": "LayoutModel",
          "state": {
            "_model_module": "@jupyter-widgets/base",
            "_model_module_version": "1.2.0",
            "_model_name": "LayoutModel",
            "_view_count": null,
            "_view_module": "@jupyter-widgets/base",
            "_view_module_version": "1.2.0",
            "_view_name": "LayoutView",
            "align_content": null,
            "align_items": null,
            "align_self": null,
            "border": null,
            "bottom": null,
            "display": null,
            "flex": null,
            "flex_flow": null,
            "grid_area": null,
            "grid_auto_columns": null,
            "grid_auto_flow": null,
            "grid_auto_rows": null,
            "grid_column": null,
            "grid_gap": null,
            "grid_row": null,
            "grid_template_areas": null,
            "grid_template_columns": null,
            "grid_template_rows": null,
            "height": null,
            "justify_content": null,
            "justify_items": null,
            "left": null,
            "margin": null,
            "max_height": null,
            "max_width": null,
            "min_height": null,
            "min_width": null,
            "object_fit": null,
            "object_position": null,
            "order": null,
            "overflow": null,
            "overflow_x": null,
            "overflow_y": null,
            "padding": null,
            "right": null,
            "top": null,
            "visibility": null,
            "width": null
          }
        }
      }
    }
  },
  "nbformat": 4,
  "nbformat_minor": 0
}
